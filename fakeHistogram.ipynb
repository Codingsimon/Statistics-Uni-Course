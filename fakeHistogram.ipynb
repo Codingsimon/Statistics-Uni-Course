{
 "cells": [
  {
   "cell_type": "code",
   "execution_count": 12,
   "id": "04f3cfe9-303b-4c73-9a5e-56c7184d01d1",
   "metadata": {},
   "outputs": [
    {
     "data": {
      "image/png": "[encoded data removed]",
      "text/plain": [
       "<Figure size 432x288 with 1 Axes>"
      ]
     },
     "metadata": {},
     "output_type": "display_data"
    }
   ],
   "source": [
    "import pandas as pd\n",
    "import numpy as np\n",
    "import matplotlib.pyplot as plt\n",
    "\n",
    "index = [1,2,3,4,5]\n",
    "noten = [5,3,8,10,3]\n",
    "\n",
    "\n",
    "plt.bar(index,noten)\n",
    "plt.show()"
   ]
  },
  {
   "cell_type": "code",
   "execution_count": 281,
   "id": "58cb9b25-62d5-4f67-a244-d0bcd7808156",
   "metadata": {},
   "outputs": [
    {
     "ename": "SyntaxError",
     "evalue": "invalid syntax (2861317997.py, line 12)",
     "output_type": "error",
     "traceback": [
      "\u001b[0;36m  File \u001b[0;32m\"/tmp/ipykernel_8023/2861317997.py\"\u001b[0;36m, line \u001b[0;32m12\u001b[0m\n\u001b[0;31m    untereGrenze = [for x in df[\"Altersgruppe\"]]\u001b[0m\n\u001b[0m                    ^\u001b[0m\n\u001b[0;31mSyntaxError\u001b[0m\u001b[0;31m:\u001b[0m invalid syntax\n"
     ]
    }
   ],
   "source": [
    "data = {\"Altersgruppe\" : [[0,5],[5,15],[15,45],[45,65],[65,90]],\n",
    "        \"abs_Haufigkeit_fi\" : [206,154,247,111,95]}\n",
    "\n",
    "# Convert the dictionary into DataFrame \n",
    "df = pd.DataFrame(data)\n",
    "\n",
    "sum_alter = df[\"abs_Haufigkeit_fi\"].sum()\n",
    "\n",
    "df[\"rel_Haufigkeit_pi\"] = (df[\"abs_Haufigkeit_fi\"] / sum_alter)\n",
    "\n",
    "obereGrenze = [x[1:] for x in df[\"Altersgruppe\"]]\n",
    "untereGrenze = [x[:1] for x in df[\"Altersgruppe\"]]\n",
    "df[\"Klassenbreite_di\"] = (np.array(obereGrenze) - np.array(untereGrenze))\n",
    "\n",
    "\n",
    "df[\"abs_Haufdicht_(fi/di)\"] = (df[\"abs_Haufigkeit_fi\"] / df[\"Klassenbreite_di\"])\n",
    "\n",
    "\n",
    "#df.plot.bar(**untereGrenze, y=\"abs_Haufdicht_(fi/di)\", width=\"Klassenbreite_di\")\n",
    "\n",
    "print(untereGrenze)\n",
    "\n"
   ]
  },
  {
   "cell_type": "code",
   "execution_count": 3,
   "id": "aeaef1fc-3608-440b-af74-d6d4cb6cf3ae",
   "metadata": {},
   "outputs": [
    {
     "data": {
      "text/html": [
       "<div>\n",
       "<style scoped>\n",
       "    .dataframe tbody tr th:only-of-type {\n",
       "        vertical-align: middle;\n",
       "    }\n",
       "\n",
       "    .dataframe tbody tr th {\n",
       "        vertical-align: top;\n",
       "    }\n",
       "\n",
       "    .dataframe thead th {\n",
       "        text-align: right;\n",
       "    }\n",
       "</style>\n",
       "<table border=\"1\" class=\"dataframe\">\n",
       "  <thead>\n",
       "    <tr style=\"text-align: right;\">\n",
       "      <th></th>\n",
       "      <th>Foo</th>\n",
       "      <th>Bar</th>\n",
       "    </tr>\n",
       "  </thead>\n",
       "  <tbody>\n",
       "    <tr>\n",
       "      <th>0</th>\n",
       "      <td>1</td>\n",
       "      <td>2</td>\n",
       "    </tr>\n",
       "    <tr>\n",
       "      <th>1</th>\n",
       "      <td>3</td>\n",
       "      <td>4</td>\n",
       "    </tr>\n",
       "  </tbody>\n",
       "</table>\n",
       "</div>"
      ],
      "text/plain": [
       "   Foo  Bar\n",
       "0    1    2\n",
       "1    3    4"
      ]
     },
     "execution_count": 3,
     "metadata": {},
     "output_type": "execute_result"
    }
   ],
   "source": [
    "import pandas as pd\n",
    "data = [[1, 2], [3, 4]]\n",
    "pd.DataFrame(data, columns=[\"Foo\", \"Bar\"])"
   ]
  },
  {
   "cell_type": "code",
   "execution_count": 98,
   "id": "23b3f38d-e4f0-4dab-bdb1-eea16a131682",
   "metadata": {},
   "outputs": [
    {
     "name": "stdout",
     "output_type": "stream",
     "text": [
      "   untereGrenze  obereGrenze  abs_Haufigkeit_fi  rel_Haufigkeit_pi  \\\n",
      "0             0            5                206           0.253383   \n",
      "1             5           15                154           0.189422   \n",
      "2            15           45                247           0.303813   \n",
      "3            45           65                111           0.136531   \n",
      "4            65           90                 95           0.116851   \n",
      "\n",
      "   Klassenbreite_di  abs_Haufdicht_(fi/di)  \n",
      "0                 5              41.200000  \n",
      "1                10              15.400000  \n",
      "2                30               8.233333  \n",
      "3                20               5.550000  \n",
      "4                25               3.800000  \n"
     ]
    },
    {
     "data": {
      "image/png": "[encoded data removed]",
      "text/plain": [
       "<Figure size 432x288 with 1 Axes>"
      ]
     },
     "metadata": {
      "needs_background": "light"
     },
     "output_type": "display_data"
    }
   ],
   "source": [
    "import pandas as pd\n",
    "import numpy as np\n",
    "import matplotlib.pyplot as plt\n",
    "import pylab as pylab\n",
    "\n",
    "data = {\"untereGrenze\" : [0,5,15,45,65],\n",
    "        \"obereGrenze\" : [5,15,45,65,90],\n",
    "        \"abs_Haufigkeit_fi\" : [206,154,247,111,95]}\n",
    "\n",
    "# Convert into DataFrame \n",
    "df = pd.DataFrame(data)\n",
    "\n",
    "sum_alter = df[\"abs_Haufigkeit_fi\"].sum()\n",
    "\n",
    "df[\"rel_Haufigkeit_pi\"] = (df[\"abs_Haufigkeit_fi\"] / sum_alter)\n",
    "df[\"Klassenbreite_di\"] = (np.array(obereGrenze) - np.array(untereGrenze))\n",
    "df[\"abs_Haufdicht_(fi/di)\"] = (df[\"abs_Haufigkeit_fi\"] / df[\"Klassenbreite_di\"])\n",
    "\n",
    "print(df)\n",
    "\n",
    "#print(df[[\"untereGrenze\", \"abs_Haufdicht_(fi/di)\"]])\n",
    "\n",
    "#plt.bar(df[\"untereGrenze\"][:],df[\"abs_Haufdicht_(fi/di)\"], width=df[\"untereGrenze\"])\n",
    "#plt.bar(df[\"untereGrenze\"],df[\"abs_Haufdicht_(fi/di)\"])\n",
    "#pylab.hist(df[\"untereGrenze\"].keys(), weights=df[\"abs_Haufdicht_(fi/di)\"].values(), bins=range(50))\n",
    "pylab.hist(df[\"untereGrenze\"], weights=df[\"abs_Haufdicht_(fi/di)\"], bins=len(obereGrenze))\n",
    "plt.show()\n",
    "\n",
    "#df[[\"untereGrenze\", \"abs_Haufdicht_(fi/di)\"]].hist(bins=df[\"untereGrenze\"] )"
   ]
  },
  {
   "cell_type": "code",
   "execution_count": null,
   "id": "431add4a-a8e3-42b7-9d81-eafaebf2b32e",
   "metadata": {},
   "outputs": [],
   "source": []
  },
  {
   "cell_type": "code",
   "execution_count": null,
   "id": "61ecfa78-1e64-46b8-b79d-6e06245964ba",
   "metadata": {},
   "outputs": [],
   "source": []
  },
  {
   "cell_type": "code",
   "execution_count": null,
   "id": "1a93a83b-df1f-45d7-a7bc-498290b1677b",
   "metadata": {},
   "outputs": [],
   "source": []
  }
 ],
 "metadata": {
  "kernelspec": {
   "display_name": "Python 3 (ipykernel)",
   "language": "python",
   "name": "python3"
  },
  "language_info": {
   "codemirror_mode": {
    "name": "ipython",
    "version": 3
   },
   "file_extension": ".py",
   "mimetype": "text/x-python",
   "name": "python",
   "nbconvert_exporter": "python",
   "pygments_lexer": "ipython3",
   "version": "3.9.5"
  }
 },
 "nbformat": 4,
 "nbformat_minor": 5
}
