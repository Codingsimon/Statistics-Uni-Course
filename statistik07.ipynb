{
 "cells": [
  {
   "cell_type": "code",
   "execution_count": 8,
   "id": "9cf77767-a784-4986-a8db-bae26e833a75",
   "metadata": {},
   "outputs": [
    {
     "name": "stdout",
     "output_type": "stream",
     "text": [
      "a  0.3375\n",
      "b  0.5555555555555555\n"
     ]
    }
   ],
   "source": [
    "#47\n",
    "print(\"a \", 0.75*0.25+0.25*0.6)\n",
    "#P(Ä | +) = P(Ä ∩ +)/P(+)\n",
    "print(\"b \", (0.75*0.25) / 0.3375)"
   ]
  },
  {
   "cell_type": "code",
   "execution_count": 13,
   "id": "33dd09ec-9d34-466e-96b2-ffee17af062d",
   "metadata": {},
   "outputs": [
    {
     "name": "stdout",
     "output_type": "stream",
     "text": [
      "a  0.5\n",
      "b 0.22222222222222224\n",
      "c 0.15000000000000002\n"
     ]
    }
   ],
   "source": [
    "#48 #P(M | P) = P(M ∩ P)/P(P)\n",
    "print(\"a \", 0.1/0.2)\n",
    "#P(P | M) = P(P ∩ M)/P(M)\n",
    "print(\"b\", 0.1/0.45)\n",
    "#P(M) + P(P) - P(P | M)\n",
    "print(\"c\", 0.45 + 0.2 - 0.5)"
   ]
  },
  {
   "cell_type": "code",
   "execution_count": 17,
   "id": "acdc0e9c-a561-4f03-9ca5-38fd75772aed",
   "metadata": {},
   "outputs": [
    {
     "data": {
      "text/plain": [
       "0.017309714798502095"
      ]
     },
     "execution_count": 17,
     "metadata": {},
     "output_type": "execute_result"
    }
   ],
   "source": [
    "#49 P(B | A) =  (P(A | B) ⋅ P(B)) / (P(A | B) ⋅ P(B) + P(A | -B) ⋅ P(-B)) Satz von Bayes\n",
    "#P(A | B)\n",
    "aB = 0.965\n",
    "#P(B)\n",
    "b= 0.0002\n",
    "#P(A | -B)\n",
    "aNB= 4/365 # = 0.010959\n",
    "#P(-B)\n",
    "nB= 1-0.0002 # = 0.9998\n",
    "\n",
    "(0.965 * 0.0002) / ( (0.965 * 0.0002) + (0.010959 * 0.9998) )"
   ]
  },
  {
   "cell_type": "code",
   "execution_count": 24,
   "id": "0ecb2e66-d06a-4a45-a5b0-03fd9a8b5ca3",
   "metadata": {},
   "outputs": [
    {
     "name": "stdout",
     "output_type": "stream",
     "text": [
      "35\n"
     ]
    },
    {
     "data": {
      "text/html": [
       "<div>\n",
       "<style scoped>\n",
       "    .dataframe tbody tr th:only-of-type {\n",
       "        vertical-align: middle;\n",
       "    }\n",
       "\n",
       "    .dataframe tbody tr th {\n",
       "        vertical-align: top;\n",
       "    }\n",
       "\n",
       "    .dataframe thead th {\n",
       "        text-align: right;\n",
       "    }\n",
       "</style>\n",
       "<table border=\"1\" class=\"dataframe\">\n",
       "  <thead>\n",
       "    <tr style=\"text-align: right;\">\n",
       "      <th></th>\n",
       "      <th>Schäden</th>\n",
       "      <th>Anzahl_Versich</th>\n",
       "      <th>Schäden_x_Anzahl_Versich</th>\n",
       "    </tr>\n",
       "  </thead>\n",
       "  <tbody>\n",
       "    <tr>\n",
       "      <th>0</th>\n",
       "      <td>0</td>\n",
       "      <td>75</td>\n",
       "      <td>0</td>\n",
       "    </tr>\n",
       "    <tr>\n",
       "      <th>1</th>\n",
       "      <td>1</td>\n",
       "      <td>19</td>\n",
       "      <td>19</td>\n",
       "    </tr>\n",
       "    <tr>\n",
       "      <th>2</th>\n",
       "      <td>2</td>\n",
       "      <td>3</td>\n",
       "      <td>6</td>\n",
       "    </tr>\n",
       "    <tr>\n",
       "      <th>3</th>\n",
       "      <td>3</td>\n",
       "      <td>2</td>\n",
       "      <td>6</td>\n",
       "    </tr>\n",
       "    <tr>\n",
       "      <th>4</th>\n",
       "      <td>4</td>\n",
       "      <td>1</td>\n",
       "      <td>4</td>\n",
       "    </tr>\n",
       "    <tr>\n",
       "      <th>Total</th>\n",
       "      <td>10</td>\n",
       "      <td>100</td>\n",
       "      <td>35</td>\n",
       "    </tr>\n",
       "  </tbody>\n",
       "</table>\n",
       "</div>"
      ],
      "text/plain": [
       "       Schäden  Anzahl_Versich  Schäden_x_Anzahl_Versich\n",
       "0            0              75                         0\n",
       "1            1              19                        19\n",
       "2            2               3                         6\n",
       "3            3               2                         6\n",
       "4            4               1                         4\n",
       "Total       10             100                        35"
      ]
     },
     "metadata": {},
     "output_type": "display_data"
    }
   ],
   "source": [
    "#50 Mittelwert = Durchschnitt\n",
    "import pandas as pd\n",
    "data = {\"Schäden\" : [0, 1, 2, 3, 4], \"Anzahl_Versich\" : [75, 19, 3, 2, 1]}\n",
    "df = pd.DataFrame(data)\n",
    "\n",
    "df[\"Schäden_x_Anzahl_Versich\"] = df[\"Schäden\"] * df[\"Anzahl_Versich\"]\n",
    "\n",
    "print(df[\"Schäden_x_Anzahl_Versich\"].sum())\n",
    "\n",
    "df.loc[\"Total\"] = df.sum()\n",
    "display(df)"
   ]
  },
  {
   "cell_type": "code",
   "execution_count": 34,
   "id": "219fc8e5-98a8-45f1-8665-cdc3a820a937",
   "metadata": {},
   "outputs": [
    {
     "name": "stdout",
     "output_type": "stream",
     "text": [
      "Erwarungswert  -0.125 Eur\n",
      "Varianz  0.015625 Eur\n"
     ]
    },
    {
     "data": {
      "text/html": [
       "<div>\n",
       "<style scoped>\n",
       "    .dataframe tbody tr th:only-of-type {\n",
       "        vertical-align: middle;\n",
       "    }\n",
       "\n",
       "    .dataframe tbody tr th {\n",
       "        vertical-align: top;\n",
       "    }\n",
       "\n",
       "    .dataframe thead th {\n",
       "        text-align: right;\n",
       "    }\n",
       "</style>\n",
       "<table border=\"1\" class=\"dataframe\">\n",
       "  <thead>\n",
       "    <tr style=\"text-align: right;\">\n",
       "      <th></th>\n",
       "      <th>Anzahl_Zahl</th>\n",
       "      <th>Gewinn</th>\n",
       "      <th>Verteilfunktion</th>\n",
       "      <th>Erwarungswert</th>\n",
       "    </tr>\n",
       "  </thead>\n",
       "  <tbody>\n",
       "    <tr>\n",
       "      <th>0</th>\n",
       "      <td>0.0</td>\n",
       "      <td>-20.0</td>\n",
       "      <td>0.125</td>\n",
       "      <td>-2.500</td>\n",
       "    </tr>\n",
       "    <tr>\n",
       "      <th>1</th>\n",
       "      <td>1.0</td>\n",
       "      <td>2.0</td>\n",
       "      <td>0.375</td>\n",
       "      <td>0.750</td>\n",
       "    </tr>\n",
       "    <tr>\n",
       "      <th>2</th>\n",
       "      <td>2.0</td>\n",
       "      <td>3.0</td>\n",
       "      <td>0.375</td>\n",
       "      <td>1.125</td>\n",
       "    </tr>\n",
       "    <tr>\n",
       "      <th>3</th>\n",
       "      <td>3.0</td>\n",
       "      <td>4.0</td>\n",
       "      <td>0.125</td>\n",
       "      <td>0.500</td>\n",
       "    </tr>\n",
       "    <tr>\n",
       "      <th>Total</th>\n",
       "      <td>6.0</td>\n",
       "      <td>-11.0</td>\n",
       "      <td>1.000</td>\n",
       "      <td>-0.125</td>\n",
       "    </tr>\n",
       "  </tbody>\n",
       "</table>\n",
       "</div>"
      ],
      "text/plain": [
       "       Anzahl_Zahl  Gewinn  Verteilfunktion  Erwarungswert\n",
       "0              0.0   -20.0            0.125         -2.500\n",
       "1              1.0     2.0            0.375          0.750\n",
       "2              2.0     3.0            0.375          1.125\n",
       "3              3.0     4.0            0.125          0.500\n",
       "Total          6.0   -11.0            1.000         -0.125"
      ]
     },
     "metadata": {},
     "output_type": "display_data"
    }
   ],
   "source": [
    "#51 1gew 2mögl 0 KKK; 1 ZKK * KZK * KKZ\n",
    "data = {\"Anzahl_Zahl\" : [0, 1, 2, 3], \"Gewinn\" : [-20, 2, 3, 4], \"Verteilfunktion\" : [1/2*1/2*1/2, (1/2*1/2*1/2)*3, (1/2*1/2*1/2)*3, (1/2*1/2*1/2)]}\n",
    "df = pd.DataFrame(data)\n",
    "\n",
    "df[\"Erwarungswert\"] = df[\"Gewinn\"]*df[\"Verteilfunktion\"]\n",
    "erwarungswert = df[\"Erwarungswert\"].sum()\n",
    "\n",
    "print(\"Erwarungswert \", erwarungswert, \"Eur\")\n",
    "print(\"Varianz \", erwarungswert**2, \"Eur\")\n",
    "\n",
    "df.loc[\"Total\"] = df.sum()\n",
    "display(df)"
   ]
  },
  {
   "cell_type": "code",
   "execution_count": 1,
   "id": "2ee07409-4ccd-40c2-80cb-df7ec7e2fa0d",
   "metadata": {},
   "outputs": [
    {
     "name": "stdout",
     "output_type": "stream",
     "text": [
      "a  0.09805152524089893\n",
      "b  0.2755283003185117\n",
      "c  0.6657813602003769\n"
     ]
    }
   ],
   "source": [
    "#52 32Pers X ∼ Bin(n = 32, p = 0.07) Binominalverteilung binom.cdf(x, n, p)\n",
    "from math import comb\n",
    "from scipy.stats import binom\n",
    "\n",
    "#weniger als 0 (<=0) kommen nicht, 32 Versuche, 0.07 Warscheinlichkeit\n",
    "print(\"a \", binom.cdf(0, 32, 0.07) ) #höchstens 0 binomial cumulative probability\n",
    "print(\"b \", binom.pmf(2, 32, 0.07) ) #genau 2 binomial probability binomPdf\n",
    "print(\"c \", 1 - (binom.pmf(0, 32, 0.07) + binom.pmf(1, 32, 0.07)) ) #weniger als 2\n",
    "\n",
    "\n"
   ]
  },
  {
   "cell_type": "code",
   "execution_count": 13,
   "id": "8ca99062-3632-4977-a72c-ea3cd9aee706",
   "metadata": {},
   "outputs": [
    {
     "data": {
      "image/png": "[encoded data removed]",
      "text/plain": [
       "<Figure size 432x288 with 1 Axes>"
      ]
     },
     "metadata": {
      "needs_background": "light"
     },
     "output_type": "display_data"
    }
   ],
   "source": [
    "#53\n",
    "import numpy as np\n",
    "import matplotlib.pyplot as plt\n",
    "from matplotlib.patches import Polygon\n",
    "\n",
    "\n",
    "def func(x):\n",
    "    return 1 - ((x**2) / 20)\n",
    "    #return (x - 3) * (x - 5) * (x - 7) + 85\n",
    "\n",
    "\n",
    "a, b = 2, 9  # integral limits\n",
    "x = np.linspace(0, 10)\n",
    "y = func(x)\n",
    "\n",
    "fig, ax = plt.subplots()\n",
    "ax.plot(x, y, 'r', linewidth=2)\n",
    "ax.set_ylim(bottom=0)\n",
    "\n",
    "# Make the shaded region\n",
    "ix = np.linspace(a, b)\n",
    "iy = func(ix)\n",
    "verts = [(a, 0), *zip(ix, iy), (b, 0)]\n",
    "poly = Polygon(verts, facecolor='0.9', edgecolor='0.5')\n",
    "ax.add_patch(poly)\n",
    "\n",
    "\n",
    "fig.text(0.9, 0.05, '$x$')\n",
    "fig.text(0.1, 0.9, '$y$')\n",
    "\n",
    "ax.spines['right'].set_visible(False)\n",
    "ax.spines['top'].set_visible(False)\n",
    "ax.xaxis.set_ticks_position('bottom')\n",
    "\n",
    "ax.set_xticks((a, b))\n",
    "ax.set_xticklabels(('$0$', '$10$'))\n",
    "ax.set_yticks([])\n",
    "\n",
    "plt.show()"
   ]
  },
  {
   "cell_type": "markdown",
   "id": "235ae1f9-9ff6-4790-96ba-16a90da52ffc",
   "metadata": {},
   "source": [
    "#53 gültige Dichte wenn f(x) > 0 und Integral von -∞ bis ∞ von f(x) = 1  \n",
    "### k berechen\n",
    "\n",
    "$\\int_0^{10} (\\mathrm{1-{x\\over10}}) * k, \\mathrm{d}x = 1$  \n",
    "\n",
    "Integrieren Aufleiten; Hochzahl + 1 und / Hochzahl   \n",
    "$\\int_0^{10} (\\mathrm{1-{x\\over10}}) * k => (\\mathrm{1*x-{x² \\over 10*2}}) * k $    \n",
    "\n",
    "10 Einsetzen   \n",
    "$(\\mathrm{10-{100 \\over 20}}) * k => (10 - 5) * k => 5k = 1 => k = {1 \\over 5}$\n",
    "\n",
    "### F(X) berechnen   \n",
    "Integrierte Formel\n",
    "$(\\mathrm{x-{x² \\over 20}}) * k $    \n",
    "$F(10) = (\\mathrm{10-{10² \\over 20}}) * k => 5 * k $    \n",
    "$F(0) = (\\mathrm{0-{0² \\over 20}}) * k => 0 * k  $    \n",
    "$F(X) = 5k - 0k  $ ????\n",
    "\n",
    "### P(3 ≤ X ≤ 6) berechnen\n",
    "$\\int_3^{6} (\\mathrm{1-{x\\over10}}) * k, \\mathrm{d}x => ({x-{x²\\over 20}}) * {1 \\over 5}$     \n",
    "F(6) - F(3)    \n",
    "$({6-{6²\\over 20}}) * {1 \\over 5} - ({3-{3²\\over 20}}) * {1 \\over 5}$    \n",
    "$({6-{1,8}}) * {0,2} - ({3-{0,45}}) * {0,2} => ({4,2}) * {0,2} - ({2,55}) * {0,2} => 0,84 - 0,51 = 0,33$\n",
    "\n",
    "### P(X ≥ 4)\n",
    "P(X ≥ 4) = 1 - P(X < 4) = 1 - F(4)    \n",
    "$1 - F(4) = 1 - (\\mathrm{4-{4² \\over 20}}) * 0,2 => 1 - (4 - 0,8) * 0,2 = 0,36  $   \n",
    "\n",
    "### Varianz\n",
    "Konstante k oder dx bleibt unverändert    \n",
    "$μ = E(X) = \\int_∞^{−∞} x ⋅ f (x)dx$     \n",
    "$E(X) = \\int_0^{10} (x * (1-{x \\over 10}) * k) = \\int_0^{10} ((x -{x² \\over 10}) * {1 \\over 5}) = (( {x² \\over 2} -{x³ \\over {10 * 3}}) * {1 \\over 5}) = (( {10² \\over 2} -{10³ \\over {30}}) * {1 \\over 5}) = 3,3333$     \n",
    "      \n",
    "$E(X²) = \\int_∞^{−∞} x² ⋅ f (x)dx$     \n",
    "$E(X²) = \\int_0^{10} (x² * (1-{x \\over 10}) * k) = \\int_0^{10} ((x² -{x³ \\over 10}) * {1 \\over 5}) = (({x³ \\over 3} -{x⁴ \\over 40}) * {1 \\over 5}) =  (({10³ \\over 3} -{10⁴ \\over 40}) * {1 \\over 5}) = 16,666$\n",
    "\n",
    "V(X ) = E(X²) − (E(X))² = 16,666 - 3,333² = 5,555\n",
    "\n",
    "### Über welchem Wert liegen 35% der Verteilungsmasse?\n",
    "$\\int_{3,5}^{10} ((1-{x \\over 10}) * {1 \\over 5})$\n",
    "\n",
    "#d?????"
   ]
  },
  {
   "cell_type": "markdown",
   "id": "2b4292a4-2afb-4d89-8da1-7a896f88effa",
   "metadata": {},
   "source": [
    "### 54 f(x) = a*(x − 2) für 2 ≤ x ≤ 3 (0 sonst)\n",
    "#a    \n",
    "$\\int_2^{3} (a * (x - 2)) {dx} = 1$    \n",
    "$\\int_2^{3} (ax - 2a) {dx} = \\int_2^{3} (ax) {dx} - \\int_2^{3} (2a) {dx} = {{ax²} \\over 2} - 2ax = {{ax²} \\over 2} - {4ax \\over 2} = {a(x - 4) \\over 2} $    \n",
    "3 für x einsetzen     \n",
    "$a = 2$     \n",
    "\n",
    "### F(x) Verteilfunktion bestimmen    \n",
    "$a * (x - 2) = 2 * (x - 2) = (x - 2)² = x² -2x * 2 + 2² = x² -4x + 4$     \n",
    "\n",
    "### E(X) der Zufallsvariablen    \n",
    "$μ = E(X) = \\int_∞^{−∞} x ⋅ f (x)dx$     \n",
    "$E(X) = \\int2^{2} (a * (x - 2))dx$  ???"
   ]
  },
  {
   "cell_type": "code",
   "execution_count": 16,
   "id": "2b51eb2a-fc02-4927-b5d8-6493d98a0c31",
   "metadata": {},
   "outputs": [
    {
     "data": {
      "text/plain": [
       "0.14930834589999994"
      ]
     },
     "execution_count": 16,
     "metadata": {},
     "output_type": "execute_result"
    }
   ],
   "source": [
    "#55 Binominalverteilung Formel f(x) = comb(n,x) * p^x * (1 − p)^(n-x);    comb(n,x) = n nCr k\n",
    "from math import comb\n",
    "\n",
    "n=10 #Anzahl der Ziehungen\n",
    "p=0.8 #Wahrscheinlichkeit eines Erfolgs bzw. Treffers\n",
    "x=10 #Anzahl der Erfolge\n",
    "zehTreff=  comb(n,x) * p**x * (1 - p)**(n-x)\n",
    "\n",
    "n=10\n",
    "p=0.8\n",
    "x=9\n",
    "neunTreff=  comb(n,x) * p**x * (1 - p)**(n-x)\n",
    "\n",
    "zehTreff + neunTreff"
   ]
  },
  {
   "cell_type": "code",
   "execution_count": 21,
   "id": "f386bfbd-052c-42c9-af7e-18dfc088fc72",
   "metadata": {},
   "outputs": [
    {
     "data": {
      "text/plain": [
       "0.04042768199451281"
      ]
     },
     "execution_count": 21,
     "metadata": {},
     "output_type": "execute_result"
    }
   ],
   "source": [
    "#56 Die Poisson-Verteilung ist ein Grenzfall der Binomialverteilung für unendlich viele Versuche (n → ∞) mit einer kleinen Erfolgswahrscheinlichkeit (p → 0).\n",
    "from math import factorial\n",
    "from math import e\n",
    "n=200000\n",
    "p=5/200000\n",
    "x0=0\n",
    "x1=1\n",
    "\n",
    "# f(x) = λ^x/x! * e⁻λ     λ = np\n",
    "# höchstens 1 P(X <= 1) = 0unf + 1unf\n",
    "(((n*p)**x0)/factorial(x0)) * e**(-n*p) + (((n*p)**x1)/factorial(x1)) * e**(-n*p)"
   ]
  },
  {
   "cell_type": "code",
   "execution_count": 35,
   "id": "a780222a-d1d7-4fa9-963c-946c9bc03727",
   "metadata": {},
   "outputs": [
    {
     "data": {
      "text/plain": [
       "0.11356296720974302"
      ]
     },
     "execution_count": 35,
     "metadata": {},
     "output_type": "execute_result"
    }
   ],
   "source": [
    "#57 a Ziehen ohne Zurücklegen ➔ hypergeometrische Verteilung  comb(n,x) = n nCr k\n",
    "N=200 #Anzahl der Elemente in der Grundgesamtheit\n",
    "M=int((200/100)*6) #Anzahl der Elemente, die für uns günstig sind\n",
    "n=10 #größe der Stichprobe\n",
    "x0=0 #k oder x die Anzahl der Elemente aus M die in n enthalten sind\n",
    "x1=1\n",
    "\n",
    "kaputt0= ( comb(M,x0) * comb((N-M),(n-x0)) ) / comb(N,n)\n",
    "kaputt1= ( comb(M,x1) * comb((N-M),(n-x1)) ) / comb(N,n)\n",
    "\n",
    "1 - (kaputt0 + kaputt1)"
   ]
  },
  {
   "cell_type": "code",
   "execution_count": 36,
   "id": "05015dce-20b2-46ed-913d-9e741d1646e6",
   "metadata": {},
   "outputs": [
    {
     "data": {
      "text/plain": [
       "0.11758800456793073"
      ]
     },
     "execution_count": 36,
     "metadata": {},
     "output_type": "execute_result"
    }
   ],
   "source": [
    "#57 b Binominalverteilung als Näherung\n",
    "\n",
    "n=10\n",
    "p=0.06\n",
    "x0=0\n",
    "x1=1\n",
    "\n",
    "kaputt0=  comb(n,x0) * p**x0 * (1 - p)**(n-x0)\n",
    "kaputt1=  comb(n,x1) * p**x1 * (1 - p)**(n-x1)\n",
    "\n",
    "1 - (kaputt0 + kaputt1)"
   ]
  },
  {
   "cell_type": "code",
   "execution_count": null,
   "id": "93026e48-6466-481f-ba7f-6f63ce65205f",
   "metadata": {},
   "outputs": [],
   "source": []
  }
 ],
 "metadata": {
  "kernelspec": {
   "display_name": "Python 3 (ipykernel)",
   "language": "python",
   "name": "python3"
  },
  "language_info": {
   "codemirror_mode": {
    "name": "ipython",
    "version": 3
   },
   "file_extension": ".py",
   "mimetype": "text/x-python",
   "name": "python",
   "nbconvert_exporter": "python",
   "pygments_lexer": "ipython3",
   "version": "3.9.7"
  }
 },
 "nbformat": 4,
 "nbformat_minor": 5
}
