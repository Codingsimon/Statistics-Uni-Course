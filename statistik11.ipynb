{
 "cells": [
  {
   "cell_type": "code",
   "execution_count": 4,
   "id": "da657eb7-fd8b-47ee-b439-d9b59e9f902a",
   "metadata": {},
   "outputs": [
    {
     "name": "stdout",
     "output_type": "stream",
     "text": [
      "[ 0.7216 ; 0.8784000000000001 ]\n"
     ]
    }
   ],
   "source": [
    "# 86 95% Konfidenzintervalls  Stichprobe\n",
    "# np(1 − p) ≥ 9 Voraussetzung\n",
    "import math\n",
    "\n",
    "k = 80 # günstige\n",
    "n = 100 # Grundgesamtheit\n",
    "p = k/n #günstig/möglich = Erwarungswert 0.8\n",
    "# alpha = 1 - Konfidenzintervall\n",
    "alpha = 1 - 0.95 # 0.05\n",
    "\n",
    "#tn−1, 1−α/2 = t   tn = Grundges\n",
    "#t 1000 - 1, 1 - 0.05/2 = t999, 0.975 = t ∞, 0.975\n",
    "#nachsehen bei F(z) = 0.975 und ∞ Freiheitsgraden => 1.96\n",
    "\n",
    "# Intervallgrenzen =  p +- (1−α/2) * sqrt( (p*(1-p)) /Anz Werte ) => Tabellenwert in (1−α/2) einsetzen\n",
    "unten =  p - 1.96 * math.sqrt( (p*(1-p)) /n )\n",
    "oben =  p + 1.96 * math.sqrt( (p*(1-p)) /n )\n",
    "print(\"[\",unten,\";\",oben,\"]\")"
   ]
  },
  {
   "cell_type": "code",
   "execution_count": 5,
   "id": "1292a16c-8277-440a-8d2b-15e4698e5bfb",
   "metadata": {},
   "outputs": [
    {
     "name": "stdout",
     "output_type": "stream",
     "text": [
      "[ -5.969462017029122 ; 7.569462017029122 ]\n"
     ]
    },
    {
     "data": {
      "text/plain": [
       "756.2"
      ]
     },
     "execution_count": 5,
     "metadata": {},
     "output_type": "execute_result"
    }
   ],
   "source": [
    "# 87 a Normalverteilung 99% Konfidenzintervall von Stichprobe   Da weiter Varianz Korrektur von * zu +\n",
    "mean = (760 + 756 + 758 + 745 + 745 + 765 + 748 + 760 + 755 + 770 )/ 10 # Erwarungswert 756.2\n",
    "\n",
    "# ((x1 - mean)**2 + (x2 - mean)**2 + (x3 - mean)**2) / (Anz_Messwerte - 1)  empirische Varianz\n",
    "varianz = ((760-756.2)**2 + (756-756.2)**2 + (758-756.2)**2 + (745-756.2)**2 + (745-756.2)**2 + (765-756.2)**2 + (748-756.2)**2 + (760-756.2)**2 + (755-756.2)**2 + (770-756.2)**2)/(9) \n",
    "sd = math.sqrt(varianz) #100.65184\n",
    "\n",
    "alpha = 1 - 0.99 # 0.01\n",
    "#tn−1, 1−α/2 = t   tn = Grundges\n",
    "#t 750 - 1, 1 - 0.01/2 = t 749, 0.995 = t ∞, 0.995 \n",
    "#nachsehen bei F(z) = 0.995 und ∞ Freiheitsgraden => 2.58\n",
    "\n",
    "# Intervallgrenzen =  μ +- F(z) * (sd/sqrt(Anz Stichprobe))\n",
    "unten = p - 2.58 * (sd/math.sqrt(10))\n",
    "oben = p + 2.58 * (sd/math.sqrt(10))\n",
    "print(\"[\",unten,\";\",oben,\"]\")\n",
    "mean"
   ]
  },
  {
   "cell_type": "markdown",
   "id": "a550f496-68ad-4c29-8b9e-788681296c92",
   "metadata": {},
   "source": [
    "$Stichprobenumfang$    \n",
    "$n ≈ (2 ⋅ u1 − α/2 ⋅ {S\\over{L}} )²$    "
   ]
  },
  {
   "cell_type": "code",
   "execution_count": 6,
   "id": "4cda950f-a791-4b78-8b1a-fbe58aa2fca8",
   "metadata": {},
   "outputs": [
    {
     "name": "stdout",
     "output_type": "stream",
     "text": [
      "b Umfang n =  272.6308844444444\n"
     ]
    }
   ],
   "source": [
    "# 87 b\n",
    "alpha = 1 - 0.99 # 0.01\n",
    "S = sd\n",
    "L = 1 # ml Breite des Intervalls\n",
    "\n",
    "# Formel für Stichprobenumfang der T Verteilung n = (2 * (u1 - alpha/2) * (S/L) )**2\n",
    "print(\"b Umfang n = \", (2 * (1 - alpha/2) * (S/L) )**2 )"
   ]
  },
  {
   "cell_type": "code",
   "execution_count": 7,
   "id": "436d3613-3c83-4eac-8b12-a09d1de4c11e",
   "metadata": {},
   "outputs": [],
   "source": [
    "# 87 c Konfidenzniveau (% ?) mit n=40\n",
    "alpha = 1 - 0.99 # 0.01\n",
    "S = sd # 79.868642\n",
    "L = 1 # ml Breite des Intervalls\n",
    "\n",
    "# Formel für Stichprobenumfang der T Verteilung n = (2 * (u1 - alpha/2) * (S/L) )**2\n",
    "# 40 = (2 * (1 - alpha/2) * (79.868642/1) )**2\n",
    "# 40 = (2 * (1 - alpha/2) * 79.868642 )**2\n",
    "# 40 = ((1 - alpha/2) * 159.737284 )**2\n",
    "# sqrt(40) = (1 - alpha/2) * 159.737284\n",
    "# sqrt(40)/159.737284 = (1 - alpha/2)\n",
    "# (1 - alpha/2) = 0.03959348"
   ]
  },
  {
   "cell_type": "code",
   "execution_count": 19,
   "id": "6b97bd39-b7c8-42d9-b0d9-a73f4d896425",
   "metadata": {},
   "outputs": [
    {
     "name": "stdout",
     "output_type": "stream",
     "text": [
      "88 Anteil Route2 geschafft:  0.16080402010050251\n"
     ]
    }
   ],
   "source": [
    "# 88 R1 ben: 70% erf: 68%; R2 ben:20% erf 48%; R3 ben: 10% erf: 25%\n",
    "\n",
    "r1 = 0.68*0.70\n",
    "r2 = 0.48*0.20\n",
    "r3 = 0.25*0.10\n",
    "\n",
    "#P(R2 | S) = P(R2 ∩ S) / P(S)  R2 geganten unter Bedingung Geschafft\n",
    "schaffen_auf_Gipfel = r1 + r2 + r3\n",
    "schaffen_auf_r2 = r2 / schaffen_auf_Gipfel\n",
    "\n",
    "print(\"88 Anteil Route2 geschafft: \", schaffen_auf_r2)"
   ]
  },
  {
   "cell_type": "code",
   "execution_count": 23,
   "id": "746dca46-cc66-44ce-b202-656763737af7",
   "metadata": {},
   "outputs": [
    {
     "name": "stdout",
     "output_type": "stream",
     "text": [
      "a eine der 5 größten: 20 Daten / 4 = 5 Werte pro quartil, Wennn Spende größer als 3. Quartil dann unter den 5 größten\n",
      "b eine der 10 größten : Media bei 20 Daten auf 10. Datensatz. Wenn größer als 10. Datensatz dann unter größten 10\n",
      "c kleinste wenn Spende = minimum\n",
      "d Insgesamt = durchschnitt * Anz Daten\n"
     ]
    }
   ],
   "source": [
    "# 89\n",
    "print(\"a eine der 5 größten: 20 Daten / 4 = 5 Werte pro quartil, Wennn Spende größer als 3. Quartil dann unter den 5 größten\")\n",
    "print(\"b eine der 10 größten : Media bei 20 Daten auf 10. Datensatz. Wenn größer als 10. Datensatz dann unter größten 10\")\n",
    "print(\"c kleinste wenn Spende = minimum\")\n",
    "print(\"d Insgesamt = durchschnitt * Anz Daten\")"
   ]
  },
  {
   "cell_type": "code",
   "execution_count": 51,
   "id": "f6f86510-e6ea-4800-b145-8d7496277daa",
   "metadata": {},
   "outputs": [
    {
     "data": {
      "image/png": "[encoded data removed]",
      "text/plain": [
       "<Figure size 288x504 with 1 Axes>"
      ]
     },
     "metadata": {
      "needs_background": "light"
     },
     "output_type": "display_data"
    },
    {
     "data": {
      "text/plain": [
       "11.6"
      ]
     },
     "execution_count": 51,
     "metadata": {},
     "output_type": "execute_result"
    }
   ],
   "source": [
    "# 89\n",
    "# Import libraries\n",
    "import matplotlib.pyplot as plt\n",
    "import numpy as np\n",
    "\n",
    "data = [4,4,5,6,7,7,8,9,9,10,12,12,14,16,17,17,18,18,19,20]\n",
    "mean = (10 + 12) /2 # 11\n",
    "min = 4\n",
    "max = 20\n",
    "mittelwert= sum(data)/len(data) # arithmetisches Mittel 11.6\n",
    "q1 = 7\n",
    "q3 = 17\n",
    "\n",
    "fig = plt.figure(figsize =(4, 7))\n",
    "plt.axhline(y=q1, color='b', linestyle='-')\n",
    "plt.axhline(y=q3, color='b', linestyle='-')\n",
    "plt.axhline(y=mittelwert, color='r', linestyle='-')\n",
    "plt.boxplot(data)\n",
    "plt.show()\n",
    "mittelwert"
   ]
  },
  {
   "cell_type": "markdown",
   "id": "a9a1977e-68b2-4dbe-8898-7190cc4f224a",
   "metadata": {},
   "source": [
    "Gauß-Test („z-Test“)    \n",
    "Hypothesen: H0 : μ = μ0   \n",
    "H1 : μ ≠ μ0     \n",
    "\n",
    "$Testalgorithmus: T(x) = {{x̄ − μ0}\\over{σ}} * \\sqrt{n}$    \n",
    "\n",
    "| T(x) | > u1−α/2 → H0 wird abgelehnt   \n",
    "| T(x) | ≤ u1−α/2 → H0 kann nicht abgelehnt werden\n",
    "\n",
    "Anwenden bei n < 30 und Var von Grundges bekannt"
   ]
  },
  {
   "cell_type": "code",
   "execution_count": 17,
   "id": "642d08ad-f14c-4f36-9ce3-479aabf59ccf",
   "metadata": {},
   "outputs": [
    {
     "name": "stdout",
     "output_type": "stream",
     "text": [
      "a H0: µ = 50g    H1: µ != 50g\n",
      "b Teststatistik:  -1.9796918281944837\n",
      "c Kritischer Wert: 2.26\n",
      "| T(x) | < u1−α/2\n",
      "| -1.9796918281944837 | < 2.26\n",
      "d Testentscheidung H0 wird nicht abgelehnt\n",
      "[ 46.670650497603894 ; 49.52934950239611 ]\n"
     ]
    }
   ],
   "source": [
    "# 90 Einstichproben-T-Test bei Var von Grundges unbekannt; µ von Grundges unbekannt; n < 30\n",
    "import math\n",
    "# a\n",
    "print(\"a H0: µ = 50g    H1: µ != 50g\")\n",
    " \n",
    "# b Teststatistik\n",
    "n = 10\n",
    "alpha = 5 #%\n",
    "mean = (43+48+46+44+48+51+50+52+48+51)/n # = 48.1 Erwartungswert mü auf Stichprobenbasis \n",
    "# ((x1 - mean)**2 + (x2 - mean)**2 + (x3 - mean)**2) / (Anz_Messwerte - 1) = empirische Varianz 9.21\n",
    "var = ((43 - mean)**2 + (48 - mean)**2 + (46 - mean)**2 + (44 - mean)**2 + (48 - mean)**2 + (51 - mean)**2 + (50 - mean)**2 + (52 - mean)**2 + (48 - mean)**2 + (51 - mean)**2)/(n - 1)\n",
    "sd = math.sqrt(var) # = 3.035\n",
    "\n",
    "Tx = ((mean - 50)/sd) * math.sqrt(n)\n",
    "print(\"b Teststatistik: \",Tx) \n",
    "\n",
    "# c kritischer Wert\n",
    "#tn−1, 1−α/2 = t   tn = Grundges\n",
    "#t 10-1, 1-0.05/2 = t 9, 0.975 = t 9, 0.975 \n",
    "#nachsehen bei F(z) = 0.975 und 9 Freiheitsgraden => 2.26\n",
    "print(\"c Kritischer Wert: 2.26\")\n",
    "\n",
    "# d\n",
    "print(\"| T(x) | < u1−α/2\")\n",
    "print(\"|\",Tx ,\"| <\",  2.26)\n",
    "print(\"d Testentscheidung H0 wird nicht abgelehnt\")\n",
    "\n",
    "# e Konfidenzintervall\n",
    "# durchschn +- tn-1,1-α/2 * sd/sqrt(n)\n",
    "unten = mean - 2.26 * (2/math.sqrt(n))\n",
    "oben = mean + 2.26 * (2/math.sqrt(n))\n",
    "\n",
    "print(\"[\",unten,\";\",oben,\"]\")"
   ]
  },
  {
   "cell_type": "markdown",
   "id": "0dd16b2b-d47d-455f-ba0b-2b94ed38585a",
   "metadata": {},
   "source": [
    "Hypothese | Test | Wirklichkeit  | Fehler \n",
    "----------|------|---------------|---------\n",
    "H1 Stimmt | H1 Stimmt | H0 Stimmt | α Fehler\n",
    "H0 Stimmt | H0 Stimmt | H1 Stimmt | β Fehler\n",
    "\n",
    "H1 Behauptung\n",
    "H0 gegenteil von Behauptung"
   ]
  },
  {
   "cell_type": "code",
   "execution_count": 19,
   "id": "6561025b-bf06-44fe-b5a6-110791f33e08",
   "metadata": {},
   "outputs": [
    {
     "name": "stdout",
     "output_type": "stream",
     "text": [
      "a Hypothese: H0: µ = 18g/dl    H1: µ != 18g/dl\n",
      "b Teststatistik:  -4.150996173302167\n",
      "c kritscher Wert 1.9\n",
      "| T(x) | > u1−α/2\n",
      "| 4.15 | > 1.9\n",
      "[ 12.65649711574556 ; 15.34350288425444 ]\n"
     ]
    }
   ],
   "source": [
    "# 91 Einstichproben-T-Test bei Var von Grundges unbekannt; µ von Grundges unbekannt; n < 30\n",
    "# a\n",
    "print(\"a Hypothese: H0: µ = 18g/dl    H1: µ != 18g/dl\")\n",
    "\n",
    "# b Teststatistik\n",
    "n = 8\n",
    "durchschn = (11 + 13 + 11 + 18 + 14 + 14 + 13 + 18)/n\n",
    "meanH0 = 18\n",
    "alpha = 10 #%\n",
    "\n",
    "# ((x1 - mean)**2 + (x2 - mean)**2 + (x3 - mean)**2) / (Anz_Messwerte - 1) = empirische Varianz\n",
    "var = ((11 - durchschn)**2 + (13 - durchschn)**2 + (11 - durchschn)**2 + (18 - durchschn)**2 + (14 - durchschn)**2 + (14 - durchschn)**2 + (13 - durchschn)**2 + (18 - durchschn)**2)/(n-1) # 7.42857\n",
    "sd = math.sqrt(var)\n",
    "\n",
    "# Tx = ((durchschn - meanH0)/sd)*sqrt(n)\n",
    "Tx = ((durchschn - meanH0)/sd) * math.sqrt(n) # 4.1509\n",
    "print(\"b Teststatistik: \",Tx) \n",
    "\n",
    "# c kritischer Wert\n",
    "#tn−1, 1−α/2 = t   tn = Grundges\n",
    "#8-1, 1-0.10/2 = t 7, 0.95\n",
    "#nachsehen bei F(z) = 0.95 und 7 Freiheitsgraden => 1.9\n",
    "print(\"c kritscher Wert\", 1.9)\n",
    "\n",
    "# d Testentscheidung\n",
    "print(\"| T(x) | > u1−α/2\")\n",
    "print(\"d | 4.15 | > 1.9\")\n",
    "\n",
    "# e Konfidenzintervall\n",
    "# durchschn +- tn-1,1-α/2 * sd/sqrt(n)\n",
    "unten = durchschn - 1.9 * (2/math.sqrt(n))\n",
    "oben = durchschn + 1.9 * (2/math.sqrt(n))\n",
    "\n",
    "print(\"[\",unten,\";\",oben,\"]\")"
   ]
  },
  {
   "cell_type": "code",
   "execution_count": null,
   "id": "5f321420-dbc2-4928-b694-352c619e35e5",
   "metadata": {},
   "outputs": [],
   "source": []
  },
  {
   "cell_type": "code",
   "execution_count": null,
   "id": "29d3df6e-6014-4f0b-a9d4-c87938152405",
   "metadata": {},
   "outputs": [],
   "source": []
  }
 ],
 "metadata": {
  "kernelspec": {
   "display_name": "Python 3 (ipykernel)",
   "language": "python",
   "name": "python3"
  },
  "language_info": {
   "codemirror_mode": {
    "name": "ipython",
    "version": 3
   },
   "file_extension": ".py",
   "mimetype": "text/x-python",
   "name": "python",
   "nbconvert_exporter": "python",
   "pygments_lexer": "ipython3",
   "version": "3.9.5"
  }
 },
 "nbformat": 4,
 "nbformat_minor": 5
}
