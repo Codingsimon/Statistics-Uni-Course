{
 "cells": [
  {
   "cell_type": "code",
   "execution_count": 10,
   "id": "d5dacb2d-7efe-4eb8-a692-958c290591cb",
   "metadata": {},
   "outputs": [
    {
     "data": {
      "text/plain": [
       "0.8646647167633873"
      ]
     },
     "execution_count": 10,
     "metadata": {},
     "output_type": "execute_result"
    }
   ],
   "source": [
    "#58 min 1\n",
    "from math import factorial\n",
    "from math import e\n",
    "n=2000\n",
    "p=2/2000\n",
    "x=0\n",
    "\n",
    "# f(x) = λ^x/x! * e⁻λ     λ = np\n",
    "# höchstens 1 P(X <= 1) = 0unf + 1unf\n",
    "1-(((n*p)**x)/factorial(x)) * e**(-(n*p))"
   ]
  },
  {
   "cell_type": "code",
   "execution_count": 4,
   "id": "911a03bf-167f-4b69-be50-310cd93a1223",
   "metadata": {},
   "outputs": [
    {
     "data": {
      "text/plain": [
       "0.625"
      ]
     },
     "execution_count": 4,
     "metadata": {},
     "output_type": "execute_result"
    }
   ],
   "source": [
    "#59 1+1 1+1  2+2 2+2 | 1+2=3  math.comb(n, k) = n nCr k   n=Grundgesamtheit k=mögliche\n",
    "from math import comb\n",
    "gerade = comb(4,2)\n",
    "ungerade = comb(5,2)\n",
    "\n",
    "#günstige/mögliche\n",
    "ungerade/(gerade+ungerade)"
   ]
  },
  {
   "cell_type": "code",
   "execution_count": 13,
   "id": "bfebacb7-358e-4e60-b451-f526131aacd9",
   "metadata": {},
   "outputs": [
    {
     "name": "stdout",
     "output_type": "stream",
     "text": [
      "a  0.46599999999999997\n",
      "b  0.0225\n"
     ]
    }
   ],
   "source": [
    "#60  ???\n",
    "#A 3Spiele g2 v0\n",
    "print(\"a \", 0.6/(0.6+0.15+0.25) * 0.6/(0.6+0.15+0.25) * 0.6+0.25/(0.6+0.15+0.25) )\n",
    "#B 3Spiele g1 v1 u1 \n",
    "print(\"b \", 0.6/(0.6+0.15+0.25) * 0.15/(0.6+0.15+0.25) * 0.25/(0.6+0.15+0.25) )"
   ]
  },
  {
   "cell_type": "markdown",
   "id": "3716a5d6-528a-4018-a00c-158807e7cb43",
   "metadata": {},
   "source": [
    "Bedingte Warscheinlichkeit: $ P_B(A) = \\frac{P(A \\cap B)}{P(B)} $"
   ]
  },
  {
   "cell_type": "code",
   "execution_count": 29,
   "id": "d692ab08-0998-4133-9eff-704f45428801",
   "metadata": {},
   "outputs": [
    {
     "name": "stdout",
     "output_type": "stream",
     "text": [
      "a  0.09523809523809523\n",
      "b  0.42857142857142855\n",
      "c  0.6164383561643836\n"
     ]
    }
   ],
   "source": [
    "#61 günstige/mögliche pro Ziehung\n",
    "#beide defekt\n",
    "print(\"a \", 3/9 * 2/7 )\n",
    "#An   Bd & Ad   Bn  eins Defekt eins nicht Defekt\n",
    "print(\"b \", 3/9 * 5/7 + 6/9 * 2/7 )\n",
    "#günstige / mögliche\n",
    "#            An  *  Bd   /  Ad * Bn  +  An *  Bd\n",
    "print(\"c \", (3/9 * 5/7) / (3/9 * 5/7 + 6/9 * 2/9) )"
   ]
  },
  {
   "cell_type": "code",
   "execution_count": 143,
   "id": "8d5c4bdc-3522-4fa6-83ca-c42e08a0b039",
   "metadata": {},
   "outputs": [
    {
     "name": "stdout",
     "output_type": "stream",
     "text": [
      "a  5.1875 %\n",
      "b  0.8433734939759037\n"
     ]
    }
   ],
   "source": [
    "#62 35E 1/8T  65N 1/80T  Grundges 100\n",
    "#1/8 aller Engl ist von 100 wie viel Proz\n",
    "englT = (35/8)/100\n",
    "nEngT = (65/80)/100\n",
    "\n",
    "print(\"a \", (englT + nEngT)*100 , \"%\");\n",
    "\n",
    "# b englT = P(Engl | T) / P(T)\n",
    "print(\"b \", 35/8 / 5.1875)\n"
   ]
  },
  {
   "cell_type": "code",
   "execution_count": 97,
   "id": "18751bc2-b917-407b-9d06-8310604e4169",
   "metadata": {},
   "outputs": [
    {
     "data": {
      "image/png": "[encoded data removed]",
      "text/plain": [
       "<Figure size 432x288 with 1 Axes>"
      ]
     },
     "metadata": {
      "needs_background": "light"
     },
     "output_type": "display_data"
    }
   ],
   "source": [
    "#63 Normalverteilung fi\n",
    "import math as math\n",
    "import numpy as np \n",
    "import matplotlib.pyplot as plt \n",
    "from scipy.stats import norm \n",
    "import statistics \n",
    "  \n",
    "x_axis = np.arange(0, 40_000, 800) \n",
    "mean = 20_000 #μ\n",
    "sd = 3000\n",
    "x = 12_000\n",
    "\n",
    "plt.axvline(x= x)\n",
    "plt.plot(x_axis, norm.pdf(x_axis, mean, sd)) \n",
    "plt.show()"
   ]
  },
  {
   "cell_type": "markdown",
   "id": "c88c2aec-b7f5-47f2-8c1d-180464aab37c",
   "metadata": {},
   "source": [
    "$F(x) = Φ( {{x − μ} \\over σ})$ Standardnormalverteilung"
   ]
  },
  {
   "cell_type": "code",
   "execution_count": 106,
   "id": "dfb01560-b8e3-4b63-96bc-ad3bf039829e",
   "metadata": {},
   "outputs": [
    {
     "name": "stdout",
     "output_type": "stream",
     "text": [
      "von links bis x: fi  -2.0\n",
      "mehr als 12000 Warsch:  0.9961\n"
     ]
    }
   ],
   "source": [
    "#63 a P(X >= 12_000)\n",
    "fi = ((x - mean)/sd)\n",
    "print(\"von links bis x: fi \", fi)\n",
    "#Tabelle ablesen\n",
    "print(\"mehr als 12000 Warsch: \", 1-0.0039)"
   ]
  },
  {
   "cell_type": "code",
   "execution_count": 109,
   "id": "c4402e3a-cf4b-4dae-a433-a3844be40afc",
   "metadata": {},
   "outputs": [
    {
     "name": "stdout",
     "output_type": "stream",
     "text": [
      "von links bis x: fi  -2.0\n",
      "weniger als 14_000 Warsch:  0.0228\n"
     ]
    }
   ],
   "source": [
    "#63 b P(X < 14_000)\n",
    "mean = 20_000 #μ\n",
    "sd = 3000\n",
    "x = 14_000\n",
    "\n",
    "fi = ((x - mean)/sd)\n",
    "print(\"von links bis x: fi \", fi)\n",
    "#Tabelle ablesen\n",
    "print(\"weniger als 14_000 Warsch: \", 0.0228)"
   ]
  },
  {
   "cell_type": "code",
   "execution_count": 118,
   "id": "1d99e447-753a-4fea-b5ba-0ea593746797",
   "metadata": {},
   "outputs": [
    {
     "name": "stdout",
     "output_type": "stream",
     "text": [
      "von links bis o: fi  1.3333333333333333\n",
      "von links bis u: fi  -1.3333333333333333\n",
      "Warsch:  0.8164\n"
     ]
    }
   ],
   "source": [
    "#63 c P(16000 < X < 24000) mean = μ\n",
    "mean = 20_000\n",
    "sd = 3000\n",
    "u = 16_000\n",
    "o = 24_000\n",
    "\n",
    "fi_o = ((o - mean)/sd)\n",
    "print(\"von links bis o: fi \", fi_o) # 0.9082\n",
    "fi_u = ((u - mean)/sd)\n",
    "print(\"von links bis u: fi \", fi_u) # 0.0918\n",
    "print(\"Warsch: \", 0.9082 - 0.0918)"
   ]
  },
  {
   "cell_type": "code",
   "execution_count": 128,
   "id": "639f89d3-fada-40ca-aa15-73198d5b9c08",
   "metadata": {},
   "outputs": [
    {
     "name": "stdout",
     "output_type": "stream",
     "text": [
      "fi  0.8944271909999167 Warsch:  0.8133\n",
      "fi  0.8944271909999167 Warsch:  0.18669999999999998\n",
      "Warsch: 0\n"
     ]
    }
   ],
   "source": [
    "#64 Normalverteilung mean = μ\n",
    "mean = 5\n",
    "sd = math.sqrt(0.2)\n",
    "\n",
    "# P(X < 5.4)\n",
    "x = 5.4\n",
    "fi = ((x - mean)/sd)\n",
    "print(\"fi \", fi, \"Warsch: \", 0.8133)\n",
    "\n",
    "# P(X > 5.4)\n",
    "x = 5.4\n",
    "fi = ((x - mean)/sd)\n",
    "print(\"fi \", fi, \"Warsch: \", 1 - 0.8133)\n",
    "\n",
    "# P(X = 5.4)\n",
    "print(\"Warsch: 0\")"
   ]
  },
  {
   "cell_type": "code",
   "execution_count": 5,
   "id": "62631191-c3cc-4bb6-8565-a21f2b44e221",
   "metadata": {},
   "outputs": [],
   "source": [
    "#65 μ=250g 9% weniger als 241g; sd = ?\n",
    "#P(X < 241)\n",
    "mean = 250\n",
    "x = 241\n",
    "\n",
    "# fi = ((x - mean)/sd)\n",
    "# Φ((241 - 250)/sd) = 0.09\n",
    "# Φ(9/sd) = 0.09\n",
    "\n",
    "# Wert aus Spalte z(Φ) bei 9% ablesen => -1.341\n",
    "\n",
    "# 9/sd = -1.341\n",
    "# 9 = -1.341 * sd | /-1.341\n",
    "# sd = -6.7114093\n",
    "sd = 6.7114093\n"
   ]
  },
  {
   "cell_type": "code",
   "execution_count": 44,
   "id": "80f07dc1-5027-42c3-b84b-239e5ed33ff2",
   "metadata": {},
   "outputs": [
    {
     "name": "stdout",
     "output_type": "stream",
     "text": [
      "z:  -0.7450000106535002    Φ(-z) Wert 0 bis 245: 0.2296\n",
      "Warsch für P(X > 245)  0.7704\n"
     ]
    }
   ],
   "source": [
    "#65 a   P(X > 245)\n",
    "mean = 250\n",
    "x = 245\n",
    "sd = 6.7114093\n",
    "\n",
    "z = ((x - mean)/sd) # z = -0.745\n",
    "print(\"z: \", z, \"   Φ(-z) Wert 0 bis 245: 0.2296\") #ablesen bei z 0,74 aus Spalte ablesen Φ(-z)\n",
    "print(\"Warsch für P(X > 245) \", 1 - 0.2296)"
   ]
  },
  {
   "cell_type": "code",
   "execution_count": 53,
   "id": "de14e2e0-b7bb-4fe2-88af-050def905810",
   "metadata": {},
   "outputs": [
    {
     "data": {
      "text/plain": [
       "0.41249466650194133"
      ]
     },
     "execution_count": 53,
     "metadata": {},
     "output_type": "execute_result"
    }
   ],
   "source": [
    "#65 b Binomialverteilung 3 mindestens  math.comb(n, k)  n nCr x\n",
    "from math import comb\n",
    "n = 10 # Zahl der Versuche\n",
    "p = 0.2296 # Wahrscheinlichkeit\n",
    "k0 = 0 # Erfolge\n",
    "k1 = 1 \n",
    "k2 = 2 \n",
    "\n",
    "#1 - (genau 0 + genau 1 + genau 2) 0 1 2 wird ausgeschlossen\n",
    "1 -  ( (comb(n,k0) * p**k0 * (1 - p)**(n-k0)) + (comb(n,k1) * p**k1 * (1 - p)**(n-k1)) + (comb(n,k2) * p**k2 * (1 - p)**(n-k2))  )"
   ]
  },
  {
   "cell_type": "code",
   "execution_count": 56,
   "id": "6f84a29d-c214-4e0b-ac08-699d153e4bb3",
   "metadata": {},
   "outputs": [
    {
     "data": {
      "text/plain": [
       "0.2148"
      ]
     },
     "execution_count": 56,
     "metadata": {},
     "output_type": "execute_result"
    }
   ],
   "source": [
    "#66 5% unter 128600\n",
    "mean = 170000 #μ\n",
    "# fi = ((x - mean)/sd)\n",
    "# Φ((128600 - 170000)/sd) = 0.05\n",
    "# Φ(-41400/sd) = 0.05\n",
    "\n",
    "# Bei 5% aus der Spalte z(Φ) ablesen => -1,645\n",
    "# -41400/sd = -1.645\n",
    "# -41400 = -1.645sd   |/-1,645\n",
    "sd = 25167.173252\n",
    "\n",
    "#b P(X > 190000)\n",
    "x = 190000\n",
    "z = ((x - mean)/sd) # bei z 0.7947 Wert aus Spalte Φ(z) auslesen => 0.7852\n",
    "1 - 0.7852"
   ]
  },
  {
   "cell_type": "code",
   "execution_count": 64,
   "id": "1956e8c1-5f37-4df7-95c2-c41fbc388613",
   "metadata": {},
   "outputs": [
    {
     "name": "stdout",
     "output_type": "stream",
     "text": [
      "P(X < 1200) Warscheinlichkeit:  0.2514\n"
     ]
    }
   ],
   "source": [
    "#67 a\n",
    "mean = 1000 #μ\n",
    "sd = 100\n",
    "# fi = ((x - mean)/sd)\n",
    "# Φ((x - 1000)/100) = 0.25\n",
    "\n",
    "# Wert bei 25% bei Spalte z(Φ) ablesen => -0.674\n",
    "# (x - 1000)/100 = -0.674\n",
    "# x - 1000 = -67.4\n",
    "# x = -67.4 + 1000\n",
    "x = 932.6\n",
    "\n",
    "#b   P(X < 1200)\n",
    "z = ((x - mean)/sd) # z = -0.674\n",
    "# Wert aus Spalte Φ(-z) bei z 0.67 ablesen => 0.2514\n",
    "print(\"P(X < 1200) Warscheinlichkeit: \", 0.2514)"
   ]
  },
  {
   "cell_type": "code",
   "execution_count": 77,
   "id": "da0c56f5-d0a1-45f5-bd5e-619bad98d686",
   "metadata": {},
   "outputs": [
    {
     "data": {
      "text/plain": [
       "0.7745"
      ]
     },
     "execution_count": 77,
     "metadata": {},
     "output_type": "execute_result"
    }
   ],
   "source": [
    "#68\n",
    "mean = 349 #μ\n",
    "sd = 4\n",
    "x_unten = 345\n",
    "x_oben = 355\n",
    "\n",
    "z_oben = ((x_oben - mean)/sd) # z = 1.5 Wert ablesen aus Spalte Φ(z) => 0.9332\n",
    "z_unten = ((x_unten - mean)/sd) # z = -1 Wert ablesen aus Spalte Φ(-z) => 0.1587\n",
    "0.9332 - 0.1587"
   ]
  },
  {
   "cell_type": "code",
   "execution_count": null,
   "id": "47081451-70b2-4d98-a084-efebb9816b4a",
   "metadata": {},
   "outputs": [],
   "source": []
  },
  {
   "cell_type": "code",
   "execution_count": null,
   "id": "73fe6144-9ae8-4c10-aa95-40837944b754",
   "metadata": {},
   "outputs": [],
   "source": []
  },
  {
   "cell_type": "code",
   "execution_count": null,
   "id": "c6b6b4f4-323d-43a0-bbc7-cc453579b9cc",
   "metadata": {},
   "outputs": [],
   "source": []
  }
 ],
 "metadata": {
  "kernelspec": {
   "display_name": "Python 3 (ipykernel)",
   "language": "python",
   "name": "python3"
  },
  "language_info": {
   "codemirror_mode": {
    "name": "ipython",
    "version": 3
   },
   "file_extension": ".py",
   "mimetype": "text/x-python",
   "name": "python",
   "nbconvert_exporter": "python",
   "pygments_lexer": "ipython3",
   "version": "3.9.7"
  }
 },
 "nbformat": 4,
 "nbformat_minor": 5
}
