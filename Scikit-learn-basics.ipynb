{
 "cells": [
  {
   "cell_type": "code",
   "execution_count": 5,
   "id": "01f08417-2bba-48c4-956f-b29f602f6be0",
   "metadata": {},
   "outputs": [
    {
     "name": "stdout",
     "output_type": "stream",
     "text": [
      "[0, 1, 2, 3, 4, 5, 6, 7, 8, 9]\n"
     ]
    }
   ],
   "source": [
    "import matplotlib.pyplot as plt\n",
    "import pandas as pd\n",
    "pd.options.mode.chained_assignment = None \n",
    "\n",
    "x = [i for i in range(10)]\n",
    "print(x)"
   ]
  },
  {
   "cell_type": "code",
   "execution_count": 6,
   "id": "2dae47ee-4960-41e3-a433-513a1d777801",
   "metadata": {},
   "outputs": [
    {
     "name": "stdout",
     "output_type": "stream",
     "text": [
      "[0, 2, 4, 6, 8, 10, 12, 14, 16, 18]\n"
     ]
    }
   ],
   "source": [
    "y = [2*i for i in range(10)]\n",
    "print(y)"
   ]
  },
  {
   "cell_type": "code",
   "execution_count": 7,
   "id": "a11abac5-73bc-4034-a0a0-f7bc66d4c6b5",
   "metadata": {},
   "outputs": [
    {
     "data": {
      "text/plain": [
       "Text(0, 0.5, 'y')"
      ]
     },
     "execution_count": 7,
     "metadata": {},
     "output_type": "execute_result"
    },
    {
     "data": {
      "image/png": "[encoded data removed]",
      "text/plain": [
       "<Figure size 432x288 with 1 Axes>"
      ]
     },
     "metadata": {
      "needs_background": "light"
     },
     "output_type": "display_data"
    }
   ],
   "source": [
    "plt.plot(x,y)\n",
    "plt.xlabel(\"x\")\n",
    "plt.ylabel(\"y\")"
   ]
  },
  {
   "cell_type": "code",
   "execution_count": 8,
   "id": "069d91fd-60d7-416b-8fa6-d532e55f4638",
   "metadata": {},
   "outputs": [
    {
     "data": {
      "text/plain": [
       "<matplotlib.collections.PathCollection at 0x7fdd0d28d910>"
      ]
     },
     "execution_count": 8,
     "metadata": {},
     "output_type": "execute_result"
    },
    {
     "data": {
      "image/png": "[encoded data removed]",
      "text/plain": [
       "<Figure size 432x288 with 1 Axes>"
      ]
     },
     "metadata": {
      "needs_background": "light"
     },
     "output_type": "display_data"
    }
   ],
   "source": [
    "plt.scatter(y,y)"
   ]
  },
  {
   "cell_type": "code",
   "execution_count": 9,
   "id": "d115693b-f3b4-4942-b521-59d82f96fa77",
   "metadata": {},
   "outputs": [
    {
     "name": "stdout",
     "output_type": "stream",
     "text": [
      "(120, 4)\n",
      "(30, 4)\n",
      "(120,)\n",
      "(30,)\n"
     ]
    }
   ],
   "source": [
    "from sklearn import datasets\n",
    "from sklearn import neighbors, metrics\n",
    "from sklearn.model_selection import train_test_split\n",
    "import numpy as np\n",
    "\n",
    "iris = datasets.load_iris()\n",
    "\n",
    "x = iris.data\n",
    "y = iris.target\n",
    "\n",
    "x_train, x_test, y_train, y_test = train_test_split(x, y, test_size=0.2)\n",
    "\n",
    "print(x_train.shape) \n",
    "print(x_test.shape)\n",
    "print(y_train.shape)\n",
    "print(y_test.shape)"
   ]
  },
  {
   "cell_type": "code",
   "execution_count": 18,
   "id": "20dc15b4-caf9-4d40-ad67-8a7f1ff5a06f",
   "metadata": {},
   "outputs": [
    {
     "name": "stdout",
     "output_type": "stream",
     "text": [
      "predictions:  [0 0 1 0 0 0 1 0 0 0 1 3 0 0 0 0 1 0 0 1 0 0 2 0 0 1 2 0 0 1 0 2 0 0 0 1 0\n",
      " 0 0 0 2 1 0 0 1 2 0 0 0 0 0 0 1 0 0 1 0 0 0 0 2 0 0 0 2 0 0 2 1 1 0 0 1 0\n",
      " 0 0 0 0 0 0 0 1 1 0 0 0 2 0 0 0 0 0 0 0 1 3 0 0 1 0 0 0 0 0 0 0 0 0 0 0 0\n",
      " 0 3 1 0 0 2 1 0 1 0 0 0 0 2 1 0 0 0 0 0 1 0 0 0 0 0 0 0 0 0 0 0 1 1 0 0 1\n",
      " 1 0 0 1 0 0 0 1 0 0 3 1 0 1 0 1 1 0 0 0 2 1 0 0 0 0 1 0 0 1 0 3 1 0 0 1 0\n",
      " 1 0 1 0 0 0 0 0 0 1 0 1 0 1 0 0 3 1 0 0 0 0 0 0 0 0 0 3 0 1 1 2 0 0 0 2 0\n",
      " 0 0 1 0 0 0 0 0 0 1 3 0 1 0 0 1 0 0 0 0 0 0 3 0 0 3 0 0 0 0 0 1 0 0 3 1 0\n",
      " 0 2 3 2 0 0 0 0 0 0 0 0 0 1 0 1 0 0 1 0 0 0 1 1 0 0 0 0 0 1 0 0 0 0 0 0 0\n",
      " 0 0 1 1 0 0 0 0 0 3 0 0 0 1 0 0 0 3 0 0 2 0 0 3 0 0 0 0 0 0 2 0 0 0 1 0 1\n",
      " 3 0 0 0 0 0 0 0 0 0 0 0 0]\n",
      "accuracy:  0.6936416184971098\n",
      "actual value:  [0]\n",
      "predicted value:  0\n"
     ]
    },
    {
     "name": "stderr",
     "output_type": "stream",
     "text": [
      "/home/simon/miniconda3/lib/python3.9/site-packages/sklearn/neighbors/_classification.py:198: DataConversionWarning: A column-vector y was passed when a 1d array was expected. Please change the shape of y to (n_samples,), for example using ravel().\n",
      "  return self._fit(X, y)\n"
     ]
    }
   ],
   "source": [
    "from sklearn.preprocessing import LabelEncoder\n",
    "data = pd.read_csv(\"car.data\")\n",
    "#print(data.head())\n",
    "\n",
    "x = data[[\"buying\",\"maint\",\"safety\"]].values\n",
    "y = data[[\"class\"]]\n",
    "x = np.array(x)\n",
    "\n",
    "Le = LabelEncoder()\n",
    "for i in range(len(x[0])):\n",
    "    x[:, i] = Le.fit_transform(x[:, i])\n",
    "\n",
    "label_mapping = {\n",
    "    \"unacc\" : 0,\n",
    "    \"acc\" : 1,\n",
    "    \"good\" : 2,\n",
    "    \"vgood\" : 3\n",
    "}\n",
    "y[\"class\"] = y[\"class\"].map(label_mapping)\n",
    "y = np.array(y)\n",
    "\n",
    "knn = neighbors.KNeighborsClassifier(n_neighbors=25, weights=\"uniform\")\n",
    "\n",
    "x_train, x_test, y_train, y_test = train_test_split(x,y, test_size=0.2)\n",
    "\n",
    "knn.fit(x_train, y_train)\n",
    "prediction = knn.predict(x_test)\n",
    "\n",
    "accuracy = metrics.accuracy_score(y_test, prediction)\n",
    "print(\"predictions: \", prediction)\n",
    "print(\"accuracy: \", accuracy)\n",
    "\n",
    "a = 173\n",
    "print(\"actual value: \", y[a])\n",
    "print(\"predicted value: \", knn.predict(x)[a])"
   ]
  },
  {
   "cell_type": "code",
   "execution_count": 29,
   "id": "129f3c2a-2b88-44e5-9c1b-da289155b21f",
   "metadata": {},
   "outputs": [
    {
     "name": "stdout",
     "output_type": "stream",
     "text": [
      "SVC()\n",
      "predictions  [1 2 1 2 1 1 1 1 2 2 0 1 0 2 0 1 2 1 0 0 2 1 0 0 1 0 2 1 0 1]\n",
      "actual       [1 2 1 2 1 2 1 1 2 2 0 1 0 2 0 2 2 1 0 0 2 1 0 0 1 0 2 1 0 1]\n",
      "acc  0.9333333333333333\n",
      "Iris versicolour  |  Iris versicolour\n",
      "Iris Virginica  |  Iris Virginica\n",
      "Iris versicolour  |  Iris versicolour\n",
      "Iris Virginica  |  Iris Virginica\n",
      "Iris versicolour  |  Iris versicolour\n",
      "Iris versicolour  |  Iris Virginica\n",
      "Iris versicolour  |  Iris versicolour\n",
      "Iris versicolour  |  Iris versicolour\n",
      "Iris Virginica  |  Iris Virginica\n",
      "Iris Virginica  |  Iris Virginica\n",
      "Iris Setosa  |  Iris Setosa\n",
      "Iris versicolour  |  Iris versicolour\n",
      "Iris Setosa  |  Iris Setosa\n",
      "Iris Virginica  |  Iris Virginica\n",
      "Iris Setosa  |  Iris Setosa\n",
      "Iris versicolour  |  Iris Virginica\n",
      "Iris Virginica  |  Iris Virginica\n",
      "Iris versicolour  |  Iris versicolour\n",
      "Iris Setosa  |  Iris Setosa\n",
      "Iris Setosa  |  Iris Setosa\n",
      "Iris Virginica  |  Iris Virginica\n",
      "Iris versicolour  |  Iris versicolour\n",
      "Iris Setosa  |  Iris Setosa\n",
      "Iris Setosa  |  Iris Setosa\n",
      "Iris versicolour  |  Iris versicolour\n",
      "Iris Setosa  |  Iris Setosa\n",
      "Iris Virginica  |  Iris Virginica\n",
      "Iris versicolour  |  Iris versicolour\n",
      "Iris Setosa  |  Iris Setosa\n",
      "Iris versicolour  |  Iris versicolour\n"
     ]
    }
   ],
   "source": [
    "from sklearn import datasets\n",
    "from sklearn import neighbors, metrics\n",
    "from sklearn.model_selection import train_test_split\n",
    "from sklearn import svm\n",
    "from sklearn.metrics import accuracy_score\n",
    "import numpy as np\n",
    "\n",
    "iris = datasets.load_iris()\n",
    "\n",
    "x = iris.data\n",
    "y = iris.target\n",
    "\n",
    "\n",
    "classes = [\"Iris Setosa\", \"Iris versicolour\", \"Iris Virginica\"]\n",
    "\n",
    "x_train, x_test, y_train, y_test = train_test_split(x, y, test_size=0.2)\n",
    "\n",
    "model = svm.SVC()\n",
    "model.fit(x_train, y_train)\n",
    "\n",
    "print(model)\n",
    "\n",
    "predictions = model.predict(x_test)\n",
    "acc = accuracy_score(y_test, predictions)\n",
    "\n",
    "print(\"predictions \", predictions)\n",
    "print(\"actual      \", y_test)\n",
    "print(\"acc \", acc)\n",
    "\n",
    "for i in range(len(predictions)):\n",
    "    print(classes[predictions[i]], \" | \", classes[y_test[i]])"
   ]
  },
  {
   "cell_type": "code",
   "execution_count": 33,
   "id": "11d7aa94-1393-4516-b432-8a3fc8cc4243",
   "metadata": {},
   "outputs": [
    {
     "ename": "NameError",
     "evalue": "name 'datsets' is not defined",
     "output_type": "error",
     "traceback": [
      "\u001b[0;31m---------------------------------------------------------------------------\u001b[0m",
      "\u001b[0;31mNameError\u001b[0m                                 Traceback (most recent call last)",
      "\u001b[0;32m/tmp/ipykernel_4969/2347804745.py\u001b[0m in \u001b[0;36m<module>\u001b[0;34m\u001b[0m\n\u001b[1;32m      5\u001b[0m \u001b[0;32mimport\u001b[0m \u001b[0mmatplotlib\u001b[0m\u001b[0;34m.\u001b[0m\u001b[0mpyplot\u001b[0m \u001b[0;32mas\u001b[0m \u001b[0mplt\u001b[0m\u001b[0;34m\u001b[0m\u001b[0;34m\u001b[0m\u001b[0m\n\u001b[1;32m      6\u001b[0m \u001b[0;34m\u001b[0m\u001b[0m\n\u001b[0;32m----> 7\u001b[0;31m \u001b[0mboston\u001b[0m \u001b[0;34m=\u001b[0m\u001b[0mdatsets\u001b[0m\u001b[0;34m.\u001b[0m\u001b[0mload_boston\u001b[0m\u001b[0;34m(\u001b[0m\u001b[0;34m)\u001b[0m\u001b[0;34m\u001b[0m\u001b[0;34m\u001b[0m\u001b[0m\n\u001b[0m\u001b[1;32m      8\u001b[0m \u001b[0;34m\u001b[0m\u001b[0m\n\u001b[1;32m      9\u001b[0m \u001b[0mX\u001b[0m \u001b[0;34m=\u001b[0m \u001b[0mboston\u001b[0m\u001b[0;34m.\u001b[0m\u001b[0mdata\u001b[0m\u001b[0;34m\u001b[0m\u001b[0;34m\u001b[0m\u001b[0m\n",
      "\u001b[0;31mNameError\u001b[0m: name 'datsets' is not defined"
     ]
    }
   ],
   "source": [
    "#linear Regression\n",
    "from sklearn import datasets\n",
    "from sklearn import linear_model\n",
    "from sklearn.model_selection import train_test_split\n",
    "import matplotlib.pyplot as plt\n",
    "\n",
    "boston =datsets.load_boston()\n",
    "\n",
    "X = boston.data\n",
    "y = boston.target\n",
    "\n",
    "print(\"X\")\n",
    "print(X)\n",
    "print(X.shape)\n",
    "print(\"y\")\n",
    "print(y)"
   ]
  },
  {
   "cell_type": "code",
   "execution_count": null,
   "id": "d453874c-f288-4cbc-9994-8e8443c8d543",
   "metadata": {},
   "outputs": [],
   "source": []
  }
 ],
 "metadata": {
  "kernelspec": {
   "display_name": "Python 3 (ipykernel)",
   "language": "python",
   "name": "python3"
  },
  "language_info": {
   "codemirror_mode": {
    "name": "ipython",
    "version": 3
   },
   "file_extension": ".py",
   "mimetype": "text/x-python",
   "name": "python",
   "nbconvert_exporter": "python",
   "pygments_lexer": "ipython3",
   "version": "3.9.5"
  }
 },
 "nbformat": 4,
 "nbformat_minor": 5
}
