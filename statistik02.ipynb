{
 "cells": [
  {
   "cell_type": "code",
   "execution_count": 2,
   "id": "d4577f53-05b0-4213-88ba-a9718f78e9ee",
   "metadata": {},
   "outputs": [
    {
     "data": {
      "text/html": [
       "<div>\n",
       "<style scoped>\n",
       "    .dataframe tbody tr th:only-of-type {\n",
       "        vertical-align: middle;\n",
       "    }\n",
       "\n",
       "    .dataframe tbody tr th {\n",
       "        vertical-align: top;\n",
       "    }\n",
       "\n",
       "    .dataframe thead th {\n",
       "        text-align: right;\n",
       "    }\n",
       "</style>\n",
       "<table border=\"1\" class=\"dataframe\">\n",
       "  <thead>\n",
       "    <tr style=\"text-align: right;\">\n",
       "      <th></th>\n",
       "      <th>Klassenmitten_xi</th>\n",
       "      <th>Klassenbereite_di</th>\n",
       "      <th>Klasse_unten</th>\n",
       "      <th>Klasse_oben</th>\n",
       "    </tr>\n",
       "  </thead>\n",
       "  <tbody>\n",
       "    <tr>\n",
       "      <th>0</th>\n",
       "      <td>150</td>\n",
       "      <td>10</td>\n",
       "      <td>145.0</td>\n",
       "      <td>155.0</td>\n",
       "    </tr>\n",
       "    <tr>\n",
       "      <th>1</th>\n",
       "      <td>160</td>\n",
       "      <td>10</td>\n",
       "      <td>155.0</td>\n",
       "      <td>165.0</td>\n",
       "    </tr>\n",
       "    <tr>\n",
       "      <th>2</th>\n",
       "      <td>180</td>\n",
       "      <td>10</td>\n",
       "      <td>175.0</td>\n",
       "      <td>185.0</td>\n",
       "    </tr>\n",
       "    <tr>\n",
       "      <th>3</th>\n",
       "      <td>190</td>\n",
       "      <td>10</td>\n",
       "      <td>185.0</td>\n",
       "      <td>195.0</td>\n",
       "    </tr>\n",
       "    <tr>\n",
       "      <th>4</th>\n",
       "      <td>200</td>\n",
       "      <td>10</td>\n",
       "      <td>195.0</td>\n",
       "      <td>205.0</td>\n",
       "    </tr>\n",
       "  </tbody>\n",
       "</table>\n",
       "</div>"
      ],
      "text/plain": [
       "   Klassenmitten_xi  Klassenbereite_di  Klasse_unten  Klasse_oben\n",
       "0               150                 10         145.0        155.0\n",
       "1               160                 10         155.0        165.0\n",
       "2               180                 10         175.0        185.0\n",
       "3               190                 10         185.0        195.0\n",
       "4               200                 10         195.0        205.0"
      ]
     },
     "metadata": {},
     "output_type": "display_data"
    }
   ],
   "source": [
    "import pandas as pd\n",
    "import numpy as np\n",
    "import math\n",
    "import matplotlib.pyplot as plt\n",
    "import pylab as pylab\n",
    "import statistics\n",
    "\n",
    "#6\n",
    "data = {\"Klassenmitten_xi\" : [150, 160, 180, 190, 200]}\n",
    "df = pd.DataFrame(data)\n",
    "\n",
    "df[\"Klassenbereite_di\"] = (10)\n",
    "df[\"Klasse_unten\"] = (df[\"Klassenmitten_xi\"] - df[\"Klassenbereite_di\"] / 2)\n",
    "df[\"Klasse_oben\"] = (df[\"Klassenmitten_xi\"] + df[\"Klassenbereite_di\"] / 2)\n",
    "\n",
    "display(df)"
   ]
  },
  {
   "cell_type": "code",
   "execution_count": 8,
   "id": "fff18e9e-c8d3-4b93-8e19-edc99ba33982",
   "metadata": {},
   "outputs": [
    {
     "name": "stdout",
     "output_type": "stream",
     "text": [
      "arithmetisches_Mittel  25.2\n",
      "Median  25.33\n"
     ]
    },
    {
     "data": {
      "text/html": [
       "<div>\n",
       "<style scoped>\n",
       "    .dataframe tbody tr th:only-of-type {\n",
       "        vertical-align: middle;\n",
       "    }\n",
       "\n",
       "    .dataframe tbody tr th {\n",
       "        vertical-align: top;\n",
       "    }\n",
       "\n",
       "    .dataframe thead th {\n",
       "        text-align: right;\n",
       "    }\n",
       "</style>\n",
       "<table border=\"1\" class=\"dataframe\">\n",
       "  <thead>\n",
       "    <tr style=\"text-align: right;\">\n",
       "      <th></th>\n",
       "      <th>Klasse_unten</th>\n",
       "      <th>Klasse_oben</th>\n",
       "      <th>abs_Haufigkeit</th>\n",
       "      <th>Kumulierte_hauf_abs</th>\n",
       "      <th>Rel_hauf</th>\n",
       "      <th>Klassenbreite</th>\n",
       "      <th>Klassenmitte</th>\n",
       "      <th>Anzahl_x_Mitte</th>\n",
       "      <th>Anzahl_x_Mitte_rel_cum</th>\n",
       "    </tr>\n",
       "  </thead>\n",
       "  <tbody>\n",
       "    <tr>\n",
       "      <th>0</th>\n",
       "      <td>16.0</td>\n",
       "      <td>20.0</td>\n",
       "      <td>19.0</td>\n",
       "      <td>19.0</td>\n",
       "      <td>0.316667</td>\n",
       "      <td>4.0</td>\n",
       "      <td>18.0</td>\n",
       "      <td>342.0</td>\n",
       "      <td>0.226190</td>\n",
       "    </tr>\n",
       "    <tr>\n",
       "      <th>1</th>\n",
       "      <td>20.0</td>\n",
       "      <td>24.0</td>\n",
       "      <td>5.0</td>\n",
       "      <td>24.0</td>\n",
       "      <td>0.083333</td>\n",
       "      <td>4.0</td>\n",
       "      <td>22.0</td>\n",
       "      <td>110.0</td>\n",
       "      <td>0.072751</td>\n",
       "    </tr>\n",
       "    <tr>\n",
       "      <th>2</th>\n",
       "      <td>24.0</td>\n",
       "      <td>28.0</td>\n",
       "      <td>18.0</td>\n",
       "      <td>42.0</td>\n",
       "      <td>0.300000</td>\n",
       "      <td>4.0</td>\n",
       "      <td>26.0</td>\n",
       "      <td>468.0</td>\n",
       "      <td>0.309524</td>\n",
       "    </tr>\n",
       "    <tr>\n",
       "      <th>3</th>\n",
       "      <td>28.0</td>\n",
       "      <td>32.0</td>\n",
       "      <td>5.0</td>\n",
       "      <td>47.0</td>\n",
       "      <td>0.083333</td>\n",
       "      <td>4.0</td>\n",
       "      <td>30.0</td>\n",
       "      <td>150.0</td>\n",
       "      <td>0.099206</td>\n",
       "    </tr>\n",
       "    <tr>\n",
       "      <th>4</th>\n",
       "      <td>32.0</td>\n",
       "      <td>36.0</td>\n",
       "      <td>13.0</td>\n",
       "      <td>60.0</td>\n",
       "      <td>0.216667</td>\n",
       "      <td>4.0</td>\n",
       "      <td>34.0</td>\n",
       "      <td>442.0</td>\n",
       "      <td>0.292328</td>\n",
       "    </tr>\n",
       "    <tr>\n",
       "      <th>Total</th>\n",
       "      <td>120.0</td>\n",
       "      <td>140.0</td>\n",
       "      <td>60.0</td>\n",
       "      <td>192.0</td>\n",
       "      <td>1.000000</td>\n",
       "      <td>20.0</td>\n",
       "      <td>130.0</td>\n",
       "      <td>1512.0</td>\n",
       "      <td>1.000000</td>\n",
       "    </tr>\n",
       "  </tbody>\n",
       "</table>\n",
       "</div>"
      ],
      "text/plain": [
       "       Klasse_unten  Klasse_oben  abs_Haufigkeit  Kumulierte_hauf_abs  \\\n",
       "0              16.0         20.0            19.0                 19.0   \n",
       "1              20.0         24.0             5.0                 24.0   \n",
       "2              24.0         28.0            18.0                 42.0   \n",
       "3              28.0         32.0             5.0                 47.0   \n",
       "4              32.0         36.0            13.0                 60.0   \n",
       "Total         120.0        140.0            60.0                192.0   \n",
       "\n",
       "       Rel_hauf  Klassenbreite  Klassenmitte  Anzahl_x_Mitte  \\\n",
       "0      0.316667            4.0          18.0           342.0   \n",
       "1      0.083333            4.0          22.0           110.0   \n",
       "2      0.300000            4.0          26.0           468.0   \n",
       "3      0.083333            4.0          30.0           150.0   \n",
       "4      0.216667            4.0          34.0           442.0   \n",
       "Total  1.000000           20.0         130.0          1512.0   \n",
       "\n",
       "       Anzahl_x_Mitte_rel_cum  \n",
       "0                    0.226190  \n",
       "1                    0.072751  \n",
       "2                    0.309524  \n",
       "3                    0.099206  \n",
       "4                    0.292328  \n",
       "Total                1.000000  "
      ]
     },
     "metadata": {},
     "output_type": "display_data"
    },
    {
     "data": {
      "image/png": "[encoded data removed]",
      "text/plain": [
       "<Figure size 432x288 with 1 Axes>"
      ]
     },
     "metadata": {
      "needs_background": "light"
     },
     "output_type": "display_data"
    }
   ],
   "source": [
    "#7\n",
    "data = {\"Klasse_unten\" : [16, 20, 24, 28, 32], \"Klasse_oben\" : [20, 24, 28, 32, 36], \"abs_Haufigkeit\" : [19, 5, 18, 5, 13] }\n",
    "df = pd.DataFrame(data)\n",
    "\n",
    "ges_hauf = df[\"abs_Haufigkeit\"].sum()\n",
    "df[\"Kumulierte_hauf_abs\"] = df[\"abs_Haufigkeit\"].cumsum()\n",
    "df[\"Rel_hauf\"] = df[\"abs_Haufigkeit\"] / ges_hauf\n",
    "\n",
    "df[\"Klassenbreite\"] = df[\"Klasse_oben\"] - df[\"Klasse_unten\"]\n",
    "df[\"Klassenmitte\"] = df[\"Klasse_unten\"] + df[\"Klassenbreite\"] / 2\n",
    "\n",
    "df[\"Anzahl_x_Mitte\"] = df[\"abs_Haufigkeit\"] * df[\"Klassenmitte\"]\n",
    "\n",
    "arithmetisches_Mittel = df[\"Anzahl_x_Mitte\"].sum() / ges_hauf\n",
    "print(\"arithmetisches_Mittel \", round(arithmetisches_Mittel, 2))\n",
    "\n",
    "#Medianklasse Kq = 2 Rel abs_hauf Summe durch 2 = 30 -> Kumulierte_hauf_abs ablesen\n",
    "\n",
    "#Klasse_unten + ((Breite * (ges_hauf / 2 - KumHauf von Klasse 0 bis Kq -1 )) / abs_Haufigkeit Kq)\n",
    "median = 24 + (( 4 * (ges_hauf/2 - 24)) / 18 )\n",
    "\n",
    "print(\"Median \", round(median,2))\n",
    "\n",
    "plt.bar([0, 1, 2, 3, 4], df[\"abs_Haufigkeit\"])\n",
    "\n",
    "df.loc[\"Total\"] = df.sum()\n",
    "display(df)"
   ]
  },
  {
   "cell_type": "code",
   "execution_count": 97,
   "id": "c77e98ed-e6d3-41f4-b1aa-a89c087ba092",
   "metadata": {},
   "outputs": [
    {
     "name": "stdout",
     "output_type": "stream",
     "text": [
      "1. Quartil = 32, 3. Quartil = 61\n"
     ]
    },
    {
     "data": {
      "text/html": [
       "<div>\n",
       "<style scoped>\n",
       "    .dataframe tbody tr th:only-of-type {\n",
       "        vertical-align: middle;\n",
       "    }\n",
       "\n",
       "    .dataframe tbody tr th {\n",
       "        vertical-align: top;\n",
       "    }\n",
       "\n",
       "    .dataframe thead th {\n",
       "        text-align: right;\n",
       "    }\n",
       "</style>\n",
       "<table border=\"1\" class=\"dataframe\">\n",
       "  <thead>\n",
       "    <tr style=\"text-align: right;\">\n",
       "      <th></th>\n",
       "      <th>Merkmal</th>\n",
       "      <th>abs_hauf</th>\n",
       "      <th>rel_hauf_cum</th>\n",
       "    </tr>\n",
       "  </thead>\n",
       "  <tbody>\n",
       "    <tr>\n",
       "      <th>4</th>\n",
       "      <td>30</td>\n",
       "      <td>1</td>\n",
       "      <td>0.142857</td>\n",
       "    </tr>\n",
       "    <tr>\n",
       "      <th>0</th>\n",
       "      <td>32</td>\n",
       "      <td>1</td>\n",
       "      <td>0.285714</td>\n",
       "    </tr>\n",
       "    <tr>\n",
       "      <th>3</th>\n",
       "      <td>40</td>\n",
       "      <td>1</td>\n",
       "      <td>0.428571</td>\n",
       "    </tr>\n",
       "    <tr>\n",
       "      <th>2</th>\n",
       "      <td>57</td>\n",
       "      <td>1</td>\n",
       "      <td>0.571429</td>\n",
       "    </tr>\n",
       "    <tr>\n",
       "      <th>1</th>\n",
       "      <td>61</td>\n",
       "      <td>2</td>\n",
       "      <td>0.857143</td>\n",
       "    </tr>\n",
       "    <tr>\n",
       "      <th>5</th>\n",
       "      <td>75</td>\n",
       "      <td>1</td>\n",
       "      <td>1.000000</td>\n",
       "    </tr>\n",
       "  </tbody>\n",
       "</table>\n",
       "</div>"
      ],
      "text/plain": [
       "   Merkmal  abs_hauf  rel_hauf_cum\n",
       "4       30         1      0.142857\n",
       "0       32         1      0.285714\n",
       "3       40         1      0.428571\n",
       "2       57         1      0.571429\n",
       "1       61         2      0.857143\n",
       "5       75         1      1.000000"
      ]
     },
     "metadata": {},
     "output_type": "display_data"
    }
   ],
   "source": [
    "#8 Median, Arithmetisches Mittel\n",
    "data = {\"Merkmal\" : [32, 61, 57, 40, 30, 75], \"abs_hauf\" : [1, 2, 1, 1, 1, 1]}\n",
    "df = pd.DataFrame(data)\n",
    "df.sort_values(by=['Merkmal'], inplace=True)\n",
    "\n",
    "abs_hauf_ges = df[\"abs_hauf\"].sum()\n",
    "\n",
    "df[\"rel_hauf_cum\"] = (df[\"abs_hauf\"] / abs_hauf_ges).cumsum()\n",
    "\n",
    "print(\"1. Quartil = 32, 3. Quartil = 61\")\n",
    "\n",
    "#display(df)"
   ]
  },
  {
   "cell_type": "code",
   "execution_count": 32,
   "id": "d3dcfeed-7150-4b2e-9dc9-d14b2cf70259",
   "metadata": {},
   "outputs": [
    {
     "name": "stdout",
     "output_type": "stream",
     "text": [
      "-4.203601587487659\n"
     ]
    }
   ],
   "source": [
    "#9\n",
    "j2016 = 110 / 100\n",
    "j2017 = (j2016 + (j2016 / 100 * 7)) / j2016\n",
    "j2018 = (j2017 + (j2017 / 100 * 2)) / j2017\n",
    "j2019 = (j2018 - (j2018 / 100 * 4)) / j2018\n",
    "j2020 = (j2019 - (j2019 / 100 * 30)) / j2019\n",
    "\n",
    "wachstumsfaktoren = [j2016,j2017,j2018,j2019,j2020]\n",
    "geom_reihe = np.prod(np.array(wachstumsfaktoren))\n",
    "\n",
    "#np.power(a,(1/n)) n = Wurzel, a = Zahl\n",
    "wachstumsfakt_mitte = np.power(geom_reihe,(1/5))\n",
    "\n",
    "durchschn_wachstumsrate = (wachstumsfakt_mitte - 1) * 100\n",
    "\n",
    "print(durchschn_wachstumsrate)"
   ]
  },
  {
   "cell_type": "code",
   "execution_count": 47,
   "id": "6a125a9e-c274-4374-a4b8-d0906c4950f2",
   "metadata": {},
   "outputs": [
    {
     "name": "stdout",
     "output_type": "stream",
     "text": [
      "abs_hauf_ges  22     Median 2     arithmetischs_Mittel  2.27    1. Quartil = 1, 3. Quartil = 3\n"
     ]
    },
    {
     "data": {
      "text/html": [
       "<div>\n",
       "<style scoped>\n",
       "    .dataframe tbody tr th:only-of-type {\n",
       "        vertical-align: middle;\n",
       "    }\n",
       "\n",
       "    .dataframe tbody tr th {\n",
       "        vertical-align: top;\n",
       "    }\n",
       "\n",
       "    .dataframe thead th {\n",
       "        text-align: right;\n",
       "    }\n",
       "</style>\n",
       "<table border=\"1\" class=\"dataframe\">\n",
       "  <thead>\n",
       "    <tr style=\"text-align: right;\">\n",
       "      <th></th>\n",
       "      <th>Merkmal</th>\n",
       "      <th>abs_hauf</th>\n",
       "      <th>abs_hauf_cum</th>\n",
       "      <th>rel_hauf_cum</th>\n",
       "      <th>Merkmal_x_abs_hauf</th>\n",
       "    </tr>\n",
       "  </thead>\n",
       "  <tbody>\n",
       "    <tr>\n",
       "      <th>0</th>\n",
       "      <td>1</td>\n",
       "      <td>6</td>\n",
       "      <td>6</td>\n",
       "      <td>0.272727</td>\n",
       "      <td>6</td>\n",
       "    </tr>\n",
       "    <tr>\n",
       "      <th>1</th>\n",
       "      <td>2</td>\n",
       "      <td>9</td>\n",
       "      <td>15</td>\n",
       "      <td>0.681818</td>\n",
       "      <td>18</td>\n",
       "    </tr>\n",
       "    <tr>\n",
       "      <th>2</th>\n",
       "      <td>3</td>\n",
       "      <td>2</td>\n",
       "      <td>17</td>\n",
       "      <td>0.772727</td>\n",
       "      <td>6</td>\n",
       "    </tr>\n",
       "    <tr>\n",
       "      <th>3</th>\n",
       "      <td>4</td>\n",
       "      <td>5</td>\n",
       "      <td>22</td>\n",
       "      <td>1.000000</td>\n",
       "      <td>20</td>\n",
       "    </tr>\n",
       "  </tbody>\n",
       "</table>\n",
       "</div>"
      ],
      "text/plain": [
       "   Merkmal  abs_hauf  abs_hauf_cum  rel_hauf_cum  Merkmal_x_abs_hauf\n",
       "0        1         6             6      0.272727                   6\n",
       "1        2         9            15      0.681818                  18\n",
       "2        3         2            17      0.772727                   6\n",
       "3        4         5            22      1.000000                  20"
      ]
     },
     "metadata": {},
     "output_type": "display_data"
    }
   ],
   "source": [
    "#10 \n",
    "data = {\"Merkmal\" : [1, 2, 3, 4], \"abs_hauf\" : [6, 9, 2, 5]}\n",
    "df = pd.DataFrame(data)\n",
    "\n",
    "abs_hauf_ges = df[\"abs_hauf\"].sum()\n",
    "df[\"abs_hauf_cum\"] = df[\"abs_hauf\"].cumsum()\n",
    "df[\"rel_hauf_cum\"] = (df[\"abs_hauf\"] / abs_hauf_ges).cumsum()\n",
    "df[\"Merkmal_x_abs_hauf\"] = df[\"Merkmal\"] * df[\"abs_hauf\"]\n",
    "\n",
    "arithmetischs_Mittel = df[\"Merkmal_x_abs_hauf\"].sum() / abs_hauf_ges\n",
    "\n",
    "print(\"abs_hauf_ges \", abs_hauf_ges, \"    Median 2    \", \"arithmetischs_Mittel \", round(arithmetischs_Mittel, 2), \"   1. Quartil = 1, 3. Quartil = 3\")\n",
    "\n",
    "display(df)"
   ]
  },
  {
   "cell_type": "code",
   "execution_count": 111,
   "id": "70fb8e9d-e0c8-4a63-ba48-8846ae125c56",
   "metadata": {},
   "outputs": [
    {
     "name": "stdout",
     "output_type": "stream",
     "text": [
      "durchschn Wachstumsrate  1.951081444748537\n"
     ]
    },
    {
     "data": {
      "text/html": [
       "<div>\n",
       "<style scoped>\n",
       "    .dataframe tbody tr th:only-of-type {\n",
       "        vertical-align: middle;\n",
       "    }\n",
       "\n",
       "    .dataframe tbody tr th {\n",
       "        vertical-align: top;\n",
       "    }\n",
       "\n",
       "    .dataframe thead th {\n",
       "        text-align: right;\n",
       "    }\n",
       "</style>\n",
       "<table border=\"1\" class=\"dataframe\">\n",
       "  <thead>\n",
       "    <tr style=\"text-align: right;\">\n",
       "      <th></th>\n",
       "      <th>Jahr</th>\n",
       "      <th>abs_hauf</th>\n",
       "      <th>abs_hauf_alt</th>\n",
       "      <th>wachstumsfaktor</th>\n",
       "    </tr>\n",
       "  </thead>\n",
       "  <tbody>\n",
       "    <tr>\n",
       "      <th>0</th>\n",
       "      <td>2016</td>\n",
       "      <td>112</td>\n",
       "      <td>0</td>\n",
       "      <td>inf</td>\n",
       "    </tr>\n",
       "    <tr>\n",
       "      <th>1</th>\n",
       "      <td>2017</td>\n",
       "      <td>131</td>\n",
       "      <td>112</td>\n",
       "      <td>1.169643</td>\n",
       "    </tr>\n",
       "    <tr>\n",
       "      <th>2</th>\n",
       "      <td>2018</td>\n",
       "      <td>122</td>\n",
       "      <td>131</td>\n",
       "      <td>0.931298</td>\n",
       "    </tr>\n",
       "    <tr>\n",
       "      <th>3</th>\n",
       "      <td>2019</td>\n",
       "      <td>123</td>\n",
       "      <td>122</td>\n",
       "      <td>1.008197</td>\n",
       "    </tr>\n",
       "    <tr>\n",
       "      <th>4</th>\n",
       "      <td>2020</td>\n",
       "      <td>121</td>\n",
       "      <td>123</td>\n",
       "      <td>0.983740</td>\n",
       "    </tr>\n",
       "  </tbody>\n",
       "</table>\n",
       "</div>"
      ],
      "text/plain": [
       "   Jahr  abs_hauf  abs_hauf_alt  wachstumsfaktor\n",
       "0  2016       112             0              inf\n",
       "1  2017       131           112         1.169643\n",
       "2  2018       122           131         0.931298\n",
       "3  2019       123           122         1.008197\n",
       "4  2020       121           123         0.983740"
      ]
     },
     "metadata": {},
     "output_type": "display_data"
    }
   ],
   "source": [
    "#11\n",
    "data = {\"Jahr\" : [2016, 2017, 2018, 2019, 2020], \"abs_hauf\" : [112, 131, 122, 123, 121]}\n",
    "df = pd.DataFrame(data)\n",
    "df[\"abs_hauf_alt\"] = df.abs_hauf.shift(periods=1, fill_value=0)\n",
    "\n",
    "durchschnitt = df[\"abs_hauf\"].sum() / 5\n",
    "\n",
    "df[\"wachstumsfaktor\"] = df[\"abs_hauf\"] / df[\"abs_hauf_alt\"]\n",
    "wachstumsfaktoren = df[\"wachstumsfaktor\"].loc[1:]\n",
    "geom_reihe = np.prod(np.array(wachstumsfaktoren))\n",
    "\n",
    "durchschn_wachstumsfakt = np.power(geom_reihe,(1/4))\n",
    "\n",
    "print(\"durchschn Wachstumsrate \", (durchschn_wachstumsfakt - 1) * 100)\n",
    "display(df)"
   ]
  },
  {
   "cell_type": "code",
   "execution_count": 177,
   "id": "7aaf2081-1ae3-4dcd-83a9-a5e0de6c870d",
   "metadata": {},
   "outputs": [
    {
     "data": {
      "text/html": [
       "<div>\n",
       "<style scoped>\n",
       "    .dataframe tbody tr th:only-of-type {\n",
       "        vertical-align: middle;\n",
       "    }\n",
       "\n",
       "    .dataframe tbody tr th {\n",
       "        vertical-align: top;\n",
       "    }\n",
       "\n",
       "    .dataframe thead th {\n",
       "        text-align: right;\n",
       "    }\n",
       "</style>\n",
       "<table border=\"1\" class=\"dataframe\">\n",
       "  <thead>\n",
       "    <tr style=\"text-align: right;\">\n",
       "      <th></th>\n",
       "      <th>Zahne</th>\n",
       "      <th>abs_hauf</th>\n",
       "      <th>rel_hauf</th>\n",
       "      <th>rel_hauf_cum</th>\n",
       "    </tr>\n",
       "  </thead>\n",
       "  <tbody>\n",
       "    <tr>\n",
       "      <th>0</th>\n",
       "      <td>0</td>\n",
       "      <td>10</td>\n",
       "      <td>0.333333</td>\n",
       "      <td>0.333333</td>\n",
       "    </tr>\n",
       "    <tr>\n",
       "      <th>1</th>\n",
       "      <td>2</td>\n",
       "      <td>8</td>\n",
       "      <td>0.266667</td>\n",
       "      <td>0.600000</td>\n",
       "    </tr>\n",
       "    <tr>\n",
       "      <th>2</th>\n",
       "      <td>1</td>\n",
       "      <td>6</td>\n",
       "      <td>0.200000</td>\n",
       "      <td>0.800000</td>\n",
       "    </tr>\n",
       "    <tr>\n",
       "      <th>3</th>\n",
       "      <td>3</td>\n",
       "      <td>3</td>\n",
       "      <td>0.100000</td>\n",
       "      <td>0.900000</td>\n",
       "    </tr>\n",
       "    <tr>\n",
       "      <th>4</th>\n",
       "      <td>4</td>\n",
       "      <td>2</td>\n",
       "      <td>0.066667</td>\n",
       "      <td>0.966667</td>\n",
       "    </tr>\n",
       "    <tr>\n",
       "      <th>5</th>\n",
       "      <td>6</td>\n",
       "      <td>1</td>\n",
       "      <td>0.033333</td>\n",
       "      <td>1.000000</td>\n",
       "    </tr>\n",
       "  </tbody>\n",
       "</table>\n",
       "</div>"
      ],
      "text/plain": [
       "   Zahne  abs_hauf  rel_hauf  rel_hauf_cum\n",
       "0      0        10  0.333333      0.333333\n",
       "1      2         8  0.266667      0.600000\n",
       "2      1         6  0.200000      0.800000\n",
       "3      3         3  0.100000      0.900000\n",
       "4      4         2  0.066667      0.966667\n",
       "5      6         1  0.033333      1.000000"
      ]
     },
     "metadata": {},
     "output_type": "display_data"
    },
    {
     "data": {
      "text/plain": [
       "<BarContainer object of 6 artists>"
      ]
     },
     "execution_count": 177,
     "metadata": {},
     "output_type": "execute_result"
    },
    {
     "data": {
      "image/png": "[encoded data removed]",
      "text/plain": [
       "<Figure size 432x288 with 1 Axes>"
      ]
     },
     "metadata": {
      "needs_background": "light"
     },
     "output_type": "display_data"
    }
   ],
   "source": [
    "#12\n",
    "data = {\"Zahne\" : [0, 2, 0, 2, 3, 4, 1, 2, 0, 0, 2, 1, 2, 1, 2, 1, 2, 0, 2, 4, 0, 1, 0, 0, 1, 0, 3, 0, 3, 6]}\n",
    "zahndf = pd.DataFrame(data)\n",
    "\n",
    "df = zahndf['Zahne'].value_counts().reset_index()\n",
    "df.columns = ['Zahne', 'abs_hauf']\n",
    "hauf_ges = df[\"abs_hauf\"].sum()\n",
    "df[\"rel_hauf\"] = df[\"abs_hauf\"] / hauf_ges\n",
    "df[\"rel_hauf_cum\"] = df[\"rel_hauf\"].cumsum()\n",
    "display(df)\n",
    "plt.bar(df['Zahne'],df[\"abs_hauf\"])"
   ]
  },
  {
   "cell_type": "code",
   "execution_count": 176,
   "id": "0aa6ae4e-c596-4265-9591-444447ad72f5",
   "metadata": {},
   "outputs": [
    {
     "data": {
      "text/plain": [
       "[<matplotlib.lines.Line2D at 0x7f9e1d061e50>]"
      ]
     },
     "execution_count": 176,
     "metadata": {},
     "output_type": "execute_result"
    },
    {
     "data": {
      "image/png": "[encoded data removed]",
      "text/plain": [
       "<Figure size 432x288 with 1 Axes>"
      ]
     },
     "metadata": {
      "needs_background": "light"
     },
     "output_type": "display_data"
    }
   ],
   "source": [
    "plt.plot(df[\"rel_hauf_cum\"], label=\"CDF\")"
   ]
  },
  {
   "cell_type": "code",
   "execution_count": 184,
   "id": "36ee4a73-02ee-4672-be35-579d070c0bca",
   "metadata": {},
   "outputs": [
    {
     "data": {
      "text/html": [
       "<div>\n",
       "<style scoped>\n",
       "    .dataframe tbody tr th:only-of-type {\n",
       "        vertical-align: middle;\n",
       "    }\n",
       "\n",
       "    .dataframe tbody tr th {\n",
       "        vertical-align: top;\n",
       "    }\n",
       "\n",
       "    .dataframe thead th {\n",
       "        text-align: right;\n",
       "    }\n",
       "</style>\n",
       "<table border=\"1\" class=\"dataframe\">\n",
       "  <thead>\n",
       "    <tr style=\"text-align: right;\">\n",
       "      <th></th>\n",
       "      <th>Umsatz</th>\n",
       "      <th>abs_hauf</th>\n",
       "      <th>rel_hauf</th>\n",
       "      <th>rel_hauf_cum</th>\n",
       "    </tr>\n",
       "  </thead>\n",
       "  <tbody>\n",
       "    <tr>\n",
       "      <th>0</th>\n",
       "      <td>5</td>\n",
       "      <td>8</td>\n",
       "      <td>0.266667</td>\n",
       "      <td>0.266667</td>\n",
       "    </tr>\n",
       "    <tr>\n",
       "      <th>1</th>\n",
       "      <td>6</td>\n",
       "      <td>5</td>\n",
       "      <td>0.166667</td>\n",
       "      <td>0.433333</td>\n",
       "    </tr>\n",
       "    <tr>\n",
       "      <th>2</th>\n",
       "      <td>8</td>\n",
       "      <td>4</td>\n",
       "      <td>0.133333</td>\n",
       "      <td>0.566667</td>\n",
       "    </tr>\n",
       "    <tr>\n",
       "      <th>3</th>\n",
       "      <td>3</td>\n",
       "      <td>4</td>\n",
       "      <td>0.133333</td>\n",
       "      <td>0.700000</td>\n",
       "    </tr>\n",
       "    <tr>\n",
       "      <th>4</th>\n",
       "      <td>4</td>\n",
       "      <td>4</td>\n",
       "      <td>0.133333</td>\n",
       "      <td>0.833333</td>\n",
       "    </tr>\n",
       "    <tr>\n",
       "      <th>5</th>\n",
       "      <td>10</td>\n",
       "      <td>2</td>\n",
       "      <td>0.066667</td>\n",
       "      <td>0.900000</td>\n",
       "    </tr>\n",
       "    <tr>\n",
       "      <th>6</th>\n",
       "      <td>7</td>\n",
       "      <td>2</td>\n",
       "      <td>0.066667</td>\n",
       "      <td>0.966667</td>\n",
       "    </tr>\n",
       "    <tr>\n",
       "      <th>7</th>\n",
       "      <td>1</td>\n",
       "      <td>1</td>\n",
       "      <td>0.033333</td>\n",
       "      <td>1.000000</td>\n",
       "    </tr>\n",
       "  </tbody>\n",
       "</table>\n",
       "</div>"
      ],
      "text/plain": [
       "   Umsatz  abs_hauf  rel_hauf  rel_hauf_cum\n",
       "0       5         8  0.266667      0.266667\n",
       "1       6         5  0.166667      0.433333\n",
       "2       8         4  0.133333      0.566667\n",
       "3       3         4  0.133333      0.700000\n",
       "4       4         4  0.133333      0.833333\n",
       "5      10         2  0.066667      0.900000\n",
       "6       7         2  0.066667      0.966667\n",
       "7       1         1  0.033333      1.000000"
      ]
     },
     "metadata": {},
     "output_type": "display_data"
    },
    {
     "data": {
      "image/png": "[encoded data removed]",
      "text/plain": [
       "<Figure size 432x288 with 1 Axes>"
      ]
     },
     "metadata": {
      "needs_background": "light"
     },
     "output_type": "display_data"
    }
   ],
   "source": [
    "#13\n",
    "data = {\"Umsatz\" : [1,5,8,5,8,3,8,6,10,5,3,5,6,5,4,5,10,3,7,8,7,4,4,4,3,5,6,5,6,6]}\n",
    "umsdf = pd.DataFrame(data)\n",
    "\n",
    "df = umsdf['Umsatz'].value_counts().reset_index()\n",
    "df.columns = ['Umsatz', 'abs_hauf']\n",
    "hauf_ges = df[\"abs_hauf\"].sum()\n",
    "df[\"rel_hauf\"] = df[\"abs_hauf\"] / hauf_ges\n",
    "df[\"rel_hauf_cum\"] = df[\"rel_hauf\"].cumsum()\n",
    "\n",
    "display(df)\n",
    "plt.plot(df[\"rel_hauf_cum\"], label=\"CDF\")\n",
    "\n",
    "plt.show()"
   ]
  },
  {
   "cell_type": "code",
   "execution_count": 187,
   "id": "326a10e6-3457-43db-bb35-312cba7bfb6b",
   "metadata": {},
   "outputs": [
    {
     "data": {
      "text/plain": [
       "(array([2., 4., 2.]),\n",
       " array([ 0. ,  3.5,  7.5, 10.5]),\n",
       " <BarContainer object of 3 artists>)"
      ]
     },
     "execution_count": 187,
     "metadata": {},
     "output_type": "execute_result"
    },
    {
     "data": {
      "image/png": "[encoded data removed]",
      "text/plain": [
       "<Figure size 432x288 with 1 Axes>"
      ]
     },
     "metadata": {
      "needs_background": "light"
     },
     "output_type": "display_data"
    }
   ],
   "source": [
    "bins = [0, 3.5, 7.5, 10.5]\n",
    "plt.hist(df[\"Umsatz\"], edgecolor=\"red\", bins=bins)"
   ]
  },
  {
   "cell_type": "code",
   "execution_count": null,
   "id": "59338162-145f-4e1e-aef0-5f0a66d40fc1",
   "metadata": {},
   "outputs": [],
   "source": []
  }
 ],
 "metadata": {
  "kernelspec": {
   "display_name": "Python 3 (ipykernel)",
   "language": "python",
   "name": "python3"
  },
  "language_info": {
   "codemirror_mode": {
    "name": "ipython",
    "version": 3
   },
   "file_extension": ".py",
   "mimetype": "text/x-python",
   "name": "python",
   "nbconvert_exporter": "python",
   "pygments_lexer": "ipython3",
   "version": "3.9.5"
  }
 },
 "nbformat": 4,
 "nbformat_minor": 5
}
