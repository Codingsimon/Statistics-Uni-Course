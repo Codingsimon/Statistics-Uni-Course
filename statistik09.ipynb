{
 "cells": [
  {
   "cell_type": "markdown",
   "id": "227e9d7d-a0ae-47d3-a952-bb11e5da2e40",
   "metadata": {},
   "source": [
    "$F(x) = Φ( {{x − μ} \\over σ})$ Standardnormalverteilung"
   ]
  },
  {
   "cell_type": "code",
   "execution_count": 52,
   "id": "9056551f-8b12-41f9-ad20-888773b9561c",
   "metadata": {},
   "outputs": [
    {
     "data": {
      "image/png": "[encoded data removed]",
      "text/plain": [
       "<Figure size 432x288 with 1 Axes>"
      ]
     },
     "metadata": {
      "needs_background": "light"
     },
     "output_type": "display_data"
    }
   ],
   "source": [
    "import numpy as np \n",
    "import matplotlib.pyplot as plt \n",
    "from scipy.stats import norm \n",
    "import statistics \n",
    "  \n",
    "x_axis = np.arange(60, 200, 2) \n",
    "mean = 130 #μ\n",
    "sd = 11.40175\n",
    "unten = 118.187787\n",
    "oben = 141.812212999\n",
    "\n",
    "plt.axvline(x= unten)\n",
    "plt.axvline(x= oben)\n",
    "plt.plot(x_axis, norm.pdf(x_axis, mean, sd)) \n",
    "plt.show()"
   ]
  },
  {
   "cell_type": "code",
   "execution_count": 53,
   "id": "b6afd384-3273-4ba0-9d3f-12eca1ae06df",
   "metadata": {},
   "outputs": [
    {
     "name": "stdout",
     "output_type": "stream",
     "text": [
      "[ 118.187787 ; 141.81221299999999 ]\n"
     ]
    }
   ],
   "source": [
    "#69\n",
    "import math\n",
    "# 70% um μ\n",
    "mean = 130\n",
    "sd =  math.sqrt(130) # 11.40175\n",
    "\n",
    "# Wert bei 70% bei Spalte z(D) ablesen => 1.036\n",
    "# μ + z(D) * sd\n",
    "oben = mean + 1.036 * 11.40175\n",
    "unten = mean - 1.036 * 11.40175\n",
    "print(\"[\",unten,\";\",oben,\"]\")"
   ]
  },
  {
   "cell_type": "code",
   "execution_count": 3,
   "id": "0e11f998-f2d2-4594-965f-aa4eb3a6b51a",
   "metadata": {},
   "outputs": [
    {
     "name": "stdout",
     "output_type": "stream",
     "text": [
      "a  86 %\n"
     ]
    }
   ],
   "source": [
    "#70 Standardnormalverteilung nicht symmetrisch\n",
    "# Wahrscheinlichkeit zwischen 960 und 1030\n",
    "mean = 1000 #μ\n",
    "sd = 23\n",
    "\n",
    "# F(x) = Φ((x - mean)/sd)\n",
    "# obere Grenze 1030 einsetzen\n",
    "# F(x) = Φ((1030 - 1000)/23)\n",
    "# F(x) = Φ(1.3043478)\n",
    "# Wert aus Splate % bei z(Φ) = 1.3043 auslesen => 90%\n",
    "# Fläche für obere Grenze F(x) = 90% \n",
    "\n",
    "# F(x) = Φ((x - mean)/sd)\n",
    "# unter Grenze 960 einsetzen\n",
    "# F(x) = Φ((960 - 1000)/23)\n",
    "# F(x) = Φ(-1.739130)\n",
    "# Wert aus Spalte % bei z(Φ) = -1.7391 ablesen => 4%\n",
    "# Fläche für unter Grenze F(x) = 4%\n",
    "\n",
    "print(\"a \", 90 - 4 ,\"%\")"
   ]
  },
  {
   "cell_type": "code",
   "execution_count": 7,
   "id": "69bd104d-0f17-4f25-96de-2e722af054bc",
   "metadata": {},
   "outputs": [
    {
     "name": "stdout",
     "output_type": "stream",
     "text": [
      "b Die Füllmenge von 987.948ml wird bei 30% aller Milchflaschen überschritten\n"
     ]
    }
   ],
   "source": [
    "#70 b Wert bei 30% Grenze\n",
    "# F(x) = Φ((x - mean)/sd)\n",
    "# 30 = Φ((x - 1000)/23)\n",
    "\n",
    "# Wert aus Spalte z(Φ) bei 30% ablesen => -0.524\n",
    "# -0.524 = (x - 1000)/23\n",
    "# -12.052 = x - 1000\n",
    "# 987.948 = x\n",
    "\n",
    "print(\"b Die Füllmenge von 987.948ml wird bei 30% aller Milchflaschen überschritten\")"
   ]
  },
  {
   "cell_type": "code",
   "execution_count": 8,
   "id": "de1dd0f6-1493-40de-8b63-e316a8b69c89",
   "metadata": {},
   "outputs": [
    {
     "name": "stdout",
     "output_type": "stream",
     "text": [
      "[ 962.165 ; 1037.835 ]\n"
     ]
    }
   ],
   "source": [
    "#70 c μ +- % * sd\n",
    "# μ + z(D) * sd\n",
    "# Wert bei 90% bei Spalte z(D) ablesen => 1.645\n",
    "oben = 1000 + 1.645 * 23\n",
    "unten = 1000 - 1.645 * 23\n",
    "print(\"[\",unten,\";\",oben,\"]\")"
   ]
  },
  {
   "cell_type": "code",
   "execution_count": 12,
   "id": "17808d00-0d4b-4153-a906-698914f11362",
   "metadata": {},
   "outputs": [
    {
     "name": "stdout",
     "output_type": "stream",
     "text": [
      "[ 3.724 ; 8.876 ]\n"
     ]
    }
   ],
   "source": [
    "#71 99% symmetrisch um den Mittelwert   μ +- % * sd\n",
    "mean = 4.7\n",
    "sd = 1.6\n",
    "# μ + z(D) * sd\n",
    "# Wert bei 99% bei Spalte z(D) ablesen => 2,576\n",
    "oben = 4.7 + 2.576 + 1.6\n",
    "unten = 4.7 - 2.576 + 1.6\n",
    "print(\"[\",unten,\";\",oben,\"]\")"
   ]
  },
  {
   "cell_type": "code",
   "execution_count": 13,
   "id": "c62db3bf-ec08-42d8-9264-31d62b384cd7",
   "metadata": {},
   "outputs": [
    {
     "name": "stdout",
     "output_type": "stream",
     "text": [
      "50% = mean:  4.7\n"
     ]
    }
   ],
   "source": [
    "# 71 b unter 50% Fläche\n",
    "print(\"50% = mean: \",mean)"
   ]
  },
  {
   "cell_type": "code",
   "execution_count": 16,
   "id": "5f7f3dc2-fa46-4d73-b2fb-d392be42dada",
   "metadata": {},
   "outputs": [
    {
     "name": "stdout",
     "output_type": "stream",
     "text": [
      "a Warsch: 38.29%\n",
      "[ -1.645 ; 1.645 ]\n"
     ]
    }
   ],
   "source": [
    "# 72\n",
    "mean = 0\n",
    "sd = 1\n",
    "\n",
    "# 0.5 abweichung\n",
    "# z 0.5 hat einen D(z) Wert von => 0.3829\n",
    "print(\"a Warsch: 38.29%\")\n",
    "\n",
    "# b 90% symmetrisch um den Mittelwert   μ +- % * sd\n",
    "# Wert bei 90% bei Spalte z(D) ablesen => 1.645\n",
    "oben = 0 + 1.645 * 1\n",
    "unten = 0 - 1.645 * 1\n",
    "print(\"[\",unten,\";\",oben,\"]\")"
   ]
  },
  {
   "cell_type": "code",
   "execution_count": 3,
   "id": "d5b77b37-223a-442e-918f-ee895eeee7ab",
   "metadata": {},
   "outputs": [
    {
     "name": "stdout",
     "output_type": "stream",
     "text": [
      "c 71% Warsch < als 650g\n"
     ]
    }
   ],
   "source": [
    "# 73 a mean ?\n",
    "import math\n",
    "Erwarungswert = 2.5 + 0.5 + 12 # 15.0\n",
    "\n",
    "# b\n",
    "Varianz = 1.2 + 1.1 + 2.7\n",
    "sd = math.sqrt(Varianz) #2.236067977\n",
    "\n",
    "# c\n",
    "ein_Schreiber_unter = 650 / 40 # 16.25\n",
    "# F(x) = Φ((x - mean)/sd)\n",
    "# F(x) = Φ((16.25 - 15.0)/2.236)\n",
    "# F(x) = Φ(0.5590)\n",
    "# Bei z(Φ) = 0.5590 den wert % ablesen => 71%\n",
    "\n",
    "print(\"c 71% Warsch < als 650g\")"
   ]
  },
  {
   "cell_type": "code",
   "execution_count": 4,
   "id": "9ab7c111-8ed1-4c5b-8ce3-90b5098232b5",
   "metadata": {},
   "outputs": [
    {
     "name": "stdout",
     "output_type": "stream",
     "text": [
      "a Erwarungsert 14400\n",
      "b Varianz 2250.0\n",
      "c: 60%\n"
     ]
    }
   ],
   "source": [
    "#74 Normalverteilt 150 Gäste\n",
    "mean = 96 #μ\n",
    "sd = math.sqrt(225) #15\n",
    "\n",
    "print(\"a Erwarungsert\", mean * 150) # 14400\n",
    "print(\"b Varianz\", 150 * sd) # 2250\n",
    "\n",
    "# c Warsch kleiner als         x = 15000\n",
    "# F(x) = Φ((x - mean)/sd)\n",
    "\n",
    "# F(x) = Φ((15000 - 14400)/2250)\n",
    "# F(x) = Φ(0.266667)\n",
    "# Wert bei z(Φ) = 0.266667 aus der Spalte % ablesen => 60%\n",
    "# F(x) = 60%\n",
    "print(\"c: 60%\")"
   ]
  },
  {
   "cell_type": "code",
   "execution_count": 3,
   "id": "244715db-8b6a-4575-969c-df6cf05f0c1a",
   "metadata": {},
   "outputs": [
    {
     "data": {
      "text/plain": [
       "0.1852199999999999"
      ]
     },
     "execution_count": 3,
     "metadata": {},
     "output_type": "execute_result"
    }
   ],
   "source": [
    "# 75 a P(X = 3)\n",
    "# Inf Zerstört ue11\n",
    "from scipy.stats import binom #Binominalverteilung\n",
    "n = 6 #Versuche\n",
    "k = 3 #positive Eintritte \n",
    "p = 0.3 #Warschenlichkeit\n",
    "binom.pmf(k, n, p) #second dist > binompdf(n,p,k)"
   ]
  },
  {
   "cell_type": "code",
   "execution_count": 10,
   "id": "2c7df6c0-ce7e-4629-81a2-383f7b3dedf0",
   "metadata": {},
   "outputs": [
    {
     "name": "stdout",
     "output_type": "stream",
     "text": [
      "b mindestens 9 Personen\n"
     ]
    }
   ],
   "source": [
    "# 75 b P(X >= 1) = 95\n",
    "from math import comb\n",
    "# Volle Warsch - genau 0 = mindestens 1\n",
    "#math.comb(n, k)  n nCr x    Binominalverteilung Formel comb(n, k) * p**k * (1 - p)**(n-k)\n",
    "\n",
    "n #= ?\n",
    "k = 0\n",
    "p = 0.3\n",
    "\n",
    "# 1 - P(X < 1) = 0.95\n",
    "# P(X = 0) = 0.05\n",
    "# comb(n, 0) * 0.3**0 * (1 - 0.3)**(n-0) = 0.05\n",
    "# 1 * 1 * (0.7)**(n) = 0.05\n",
    "# 0.7**n = 0.05\n",
    "\n",
    "# Formel Logarithmus 2**x = 8 => x = log2(8)\n",
    "# n = log0.7(0.05) # Math > logBASE()\n",
    "# n = 8.399\n",
    "print(\"b mindestens 9 Personen\")"
   ]
  },
  {
   "cell_type": "code",
   "execution_count": 14,
   "id": "1cbbb6b0-80eb-420b-8c47-36db100dd1d3",
   "metadata": {},
   "outputs": [
    {
     "data": {
      "text/plain": [
       "0.056603773584905655"
      ]
     },
     "execution_count": 14,
     "metadata": {},
     "output_type": "execute_result"
    }
   ],
   "source": [
    "# 75 c P(A | B) =  (P(B | A) ⋅ P(A)) / (P(B | A) ⋅ P(A) + P(B | -A) ⋅ P(-A)) Satz von Bayes     P(A | B) = Wahrscheinlichkeit A tritt ein wenn B eingetreten ist.\n",
    "# P(R | K) =  (P(K | R) ⋅ P(R)) / (P(K | R) ⋅ P(R) + P(K | -R) ⋅ P(-R))\n",
    "# P(K | R)\n",
    "kR = 1000/150\n",
    "# P(R)\n",
    "r = 0.3\n",
    "# P(K | -R)\n",
    "knR = 1000/21\n",
    "# P(-R)\n",
    "nR = 0.7\n",
    "\n",
    "(kR * r) / (kR * r + knR * nR)"
   ]
  },
  {
   "cell_type": "code",
   "execution_count": 2,
   "id": "72f48e4d-c802-42c6-b707-e9f9712fdd62",
   "metadata": {},
   "outputs": [
    {
     "name": "stdout",
     "output_type": "stream",
     "text": [
      "[ 22.58574471409074 ; 25.047588619242593 ]\n"
     ]
    }
   ],
   "source": [
    "# 76 a Standardnormalverteilung 99% Konfidenzintervall um Mittelwert\n",
    "import math\n",
    "Erwarungswert = (23.1 + 23.1 + 22.1 + 25.1 + 24.1 + 25.4)/6 # Empierischer Mittelwert\n",
    "Varianz = 1.37\n",
    "sd =  math.sqrt(Varianz)\n",
    "\n",
    "# μ +- (z(D)/sqrt(Anz Stichprobe)) * sd\n",
    "# Wert bei 99% bei Spalte z(D) ablesen => 2.576\n",
    "oben = Erwarungswert + (2.576/math.sqrt(6)) * sd\n",
    "unten = Erwarungswert -(2.576/math.sqrt(6)) * sd\n",
    "print(\"[\",unten,\";\",oben,\"]\")"
   ]
  },
  {
   "cell_type": "code",
   "execution_count": 7,
   "id": "cd04c7a6-be8d-4dee-9024-e304487310fe",
   "metadata": {},
   "outputs": [
    {
     "name": "stdout",
     "output_type": "stream",
     "text": [
      "[ 21.507461428206184 ; 26.12587190512715 ]\n"
     ]
    }
   ],
   "source": [
    "# 76 b Student Verteilung\n",
    "# 99% Konfidenzintervall um Mittelwert\n",
    "mean = (23.1 + 23.1 + 22.1 + 25.1 + 24.1 + 25.4)/6 # Empierischer Mittelwert 23.8167\n",
    "Varianz #?\n",
    "\n",
    "# ((x1 - mean)**2 + (x2 - mean)**2 + (x3 - mean)**2) / (Anz_Messwerte - 1)  empirische Varianz\n",
    "Emp_Varianz = ((23.1-mean)**2 + (23.1-mean)**2 + (22.1-mean)**2 + (25.1-mean)**2 + (24.1-mean)**2 + (25.4-mean)**2)/(6-1) # 1.64166\n",
    "sd = math.sqrt(Emp_Varianz)\n",
    "\n",
    "# Bei Intervall 0.99, alpha = 0.01, alpha/2 = 0.005 ; 1 - 0.005 = 0.995\n",
    "# Bei 0.995 F(z) und 6-1=5 Freiheitsgrade nachsehen => 4.03\n",
    "\n",
    "# Intervallgrenzen = μ +- F(z) * (sd/sqrt(Anz Stichprobe))\n",
    "oben = mean + 4.03 * (sd/math.sqrt(5))\n",
    "unten = mean - 4.03 * (sd/math.sqrt(5))\n",
    "print(\"[\",unten,\";\",oben,\"]\")"
   ]
  },
  {
   "cell_type": "code",
   "execution_count": 15,
   "id": "05bde269-ea00-4a92-94a6-b07cb74c2524",
   "metadata": {},
   "outputs": [
    {
     "name": "stdout",
     "output_type": "stream",
     "text": [
      "[ 1131.258877203816 ; 1501.241122796184 ]\n"
     ]
    },
    {
     "data": {
      "text/plain": [
       "220.77380149956974"
      ]
     },
     "execution_count": 15,
     "metadata": {},
     "output_type": "execute_result"
    }
   ],
   "source": [
    "# 77 Students Verteilung\n",
    "#empirischer_Erwarungswert = summe Werte / anz Werte\n",
    "mean = (1210 + 1170 + 1400 + 1430 + 1100 + 1050 + 1700 + 1470)/8 #Erwarungswert 1316.25\n",
    "\n",
    "# ((x1 - mean)**2 + (x2 - mean)**2 + (x3 - mean)**2) / (Anz_Messwerte - 1)  empirische Varianz\n",
    "Varianz_emp = ((1210 - mean)**2 + (1170 - mean)**2 + (1400 - mean)**2 + (1430 - mean)**2 + (1100 - mean)**2 + (1050 - mean)**2 + (1700 - mean)**2 + (1470 - mean)**2)/(8 - 1)\n",
    "sd = math.sqrt(Varianz_emp) # 220.7738\n",
    "\n",
    "# Intervall 95% = alpah ist 2.5 + 2.5\n",
    "# 100 -2.5 = 97.5 ; F(z) = 0.975 bei 8-1 Werten = 7 Freiheitsgrade nachsehen => 2.37\n",
    "\n",
    "# Intervallgrenzen =  μ +- F(z) * (sd/sqrt(Anz Stichprobe))\n",
    "oben = mean + 2.37 * (sd/math.sqrt(8))\n",
    "unten = mean - 2.37 * (sd/math.sqrt(8))\n",
    "print(\"[\",unten,\";\",oben,\"]\")"
   ]
  },
  {
   "cell_type": "markdown",
   "id": "04365854-efe3-4670-9a5f-48bb67cc0385",
   "metadata": {},
   "source": [
    "$Stichprobenumfang$    \n",
    "$n ≈ (2 ⋅ u1 − α/2 ⋅ {S\\over{L}} )²$    "
   ]
  },
  {
   "cell_type": "code",
   "execution_count": 22,
   "id": "7bfa8be6-1493-4405-9560-7211e6eb1326",
   "metadata": {},
   "outputs": [
    {
     "name": "stdout",
     "output_type": "stream",
     "text": [
      "n =  49.0\n"
     ]
    }
   ],
   "source": [
    "# 77 b\n",
    "alpha = 5 #%\n",
    "länge = 130 #mm\n",
    "# 1-alpha/2 = 1 - 0.025 = 0.975\n",
    "S = sd # 220.7738\n",
    "L = 130 # Breite des Intervalls\n",
    "\n",
    "# Formel für Stichprobenumfang der T Verteilung n = (2 * (u1 - alpha/2) * (S/L) )**2\n",
    "# n = (2 * Φ(0.975) * (S/L) )**2\n",
    "# Bei 97.5% z(Φ) ablesen => 2.054\n",
    "n = (2 * 2.054 * (S/L))**2\n",
    "print(\"n = \", round(n,0))"
   ]
  },
  {
   "cell_type": "code",
   "execution_count": 12,
   "id": "5267c63a-27e7-4dfd-b668-2e042d18506f",
   "metadata": {},
   "outputs": [],
   "source": []
  },
  {
   "cell_type": "code",
   "execution_count": null,
   "id": "0206e1b4-5f75-45bd-9326-b91b054733e2",
   "metadata": {},
   "outputs": [],
   "source": []
  }
 ],
 "metadata": {
  "kernelspec": {
   "display_name": "Python 3 (ipykernel)",
   "language": "python",
   "name": "python3"
  },
  "language_info": {
   "codemirror_mode": {
    "name": "ipython",
    "version": 3
   },
   "file_extension": ".py",
   "mimetype": "text/x-python",
   "name": "python",
   "nbconvert_exporter": "python",
   "pygments_lexer": "ipython3",
   "version": "3.9.5"
  }
 },
 "nbformat": 4,
 "nbformat_minor": 5
}
