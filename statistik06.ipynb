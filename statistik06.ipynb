{
 "cells": [
  {
   "cell_type": "code",
   "execution_count": 5,
   "id": "a0ffb5a7-b5d1-4098-8c9d-c55288fd249e",
   "metadata": {},
   "outputs": [
    {
     "name": "stdout",
     "output_type": "stream",
     "text": [
      "82.63888888888889 %\n"
     ]
    }
   ],
   "source": [
    "#37 Bedingte Warscheinlichkeit B 70% -> A 85%     P(A | B) = P(A ∩ B)/P(B)  P(Straßenbahn + Pünktl | Pünktlich ges)\n",
    "print((85*70)/72, \"%\")"
   ]
  },
  {
   "cell_type": "code",
   "execution_count": 9,
   "id": "87ec1840-0e98-48eb-9c71-2df20982af7d",
   "metadata": {},
   "outputs": [
    {
     "name": "stdout",
     "output_type": "stream",
     "text": [
      "a 0.75\n",
      "b 0.42857142857142855\n"
     ]
    }
   ],
   "source": [
    "#38 P(voll | leer) = P(voll ∩ leer)/P(leer)\n",
    "print(\"a\", 6/8) # 3/4\n",
    "print(\"b\", ((6/8)*(1/7))/(2/8)  )"
   ]
  },
  {
   "cell_type": "code",
   "execution_count": 18,
   "id": "b8cc2c53-e494-489a-a0a2-9694ee5449e8",
   "metadata": {},
   "outputs": [
    {
     "name": "stdout",
     "output_type": "stream",
     "text": [
      "a 0.25\n",
      "b 0.3333333333333333\n",
      "c 0.5\n"
     ]
    }
   ],
   "source": [
    "#39 bb mb bm mm\n",
    "print(\"a\", 1/4 )\n",
    "print(\"b\", 1/3)\n",
    "#bb bm\n",
    "print(\"c\", 1/2)"
   ]
  },
  {
   "cell_type": "code",
   "execution_count": 30,
   "id": "ac338e02-2d28-4450-9763-06b6f1cb87ee",
   "metadata": {},
   "outputs": [
    {
     "data": {
      "text/plain": [
       "0.45454545454545453"
      ]
     },
     "execution_count": 30,
     "metadata": {},
     "output_type": "execute_result"
    }
   ],
   "source": [
    "#40 P(M | L) = P(M ∩ L) / P(L)      Längere Öff & regel Mensa 0.25   Längere Öff 0.55\n",
    "0.25/0.55"
   ]
  },
  {
   "cell_type": "code",
   "execution_count": null,
   "id": "fd2d26a9-223b-40a3-93f3-9ba073ccb411",
   "metadata": {},
   "outputs": [],
   "source": []
  },
  {
   "cell_type": "code",
   "execution_count": null,
   "id": "175d6399-83fb-4b96-8c56-97405bf1e169",
   "metadata": {},
   "outputs": [],
   "source": []
  }
 ],
 "metadata": {
  "kernelspec": {
   "display_name": "Python 3 (ipykernel)",
   "language": "python",
   "name": "python3"
  },
  "language_info": {
   "codemirror_mode": {
    "name": "ipython",
    "version": 3
   },
   "file_extension": ".py",
   "mimetype": "text/x-python",
   "name": "python",
   "nbconvert_exporter": "python",
   "pygments_lexer": "ipython3",
   "version": "3.9.7"
  }
 },
 "nbformat": 4,
 "nbformat_minor": 5
}
