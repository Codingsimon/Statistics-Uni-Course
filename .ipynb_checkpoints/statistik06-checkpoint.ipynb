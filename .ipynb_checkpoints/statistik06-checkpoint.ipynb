{
 "cells": [
  {
   "cell_type": "code",
   "execution_count": 5,
   "id": "a0ffb5a7-b5d1-4098-8c9d-c55288fd249e",
   "metadata": {},
   "outputs": [
    {
     "name": "stdout",
     "output_type": "stream",
     "text": [
      "82.63888888888889 %\n"
     ]
    }
   ],
   "source": [
    "#37 Bedingte Warscheinlichkeit B 70% -> A 85%     P(A | B) = P(A ∩ B)/P(B)  P(Straßenbahn + Pünktl | Pünktlich ges)\n",
    "print((85*70)/72, \"%\")"
   ]
  },
  {
   "cell_type": "code",
   "execution_count": 9,
   "id": "87ec1840-0e98-48eb-9c71-2df20982af7d",
   "metadata": {},
   "outputs": [
    {
     "name": "stdout",
     "output_type": "stream",
     "text": [
      "a 0.75\n",
      "b 0.42857142857142855\n"
     ]
    }
   ],
   "source": [
    "#38 P(voll | leer) = P(voll ∩ leer)/P(leer)\n",
    "print(\"a\", 6/8) # 3/4\n",
    "print(\"b\", ((6/8)*(1/7))/(2/8)  )"
   ]
  },
  {
   "cell_type": "code",
   "execution_count": 18,
   "id": "b8cc2c53-e494-489a-a0a2-9694ee5449e8",
   "metadata": {},
   "outputs": [
    {
     "name": "stdout",
     "output_type": "stream",
     "text": [
      "a 0.25\n",
      "b 0.3333333333333333\n",
      "c 0.5\n"
     ]
    }
   ],
   "source": [
    "#39 bb mb bm mm\n",
    "print(\"a\", 1/4 )\n",
    "print(\"b\", 1/3)\n",
    "#bb bm\n",
    "print(\"c\", 1/2)"
   ]
  },
  {
   "cell_type": "code",
   "execution_count": 5,
   "id": "ac338e02-2d28-4450-9763-06b6f1cb87ee",
   "metadata": {},
   "outputs": [
    {
     "name": "stdout",
     "output_type": "stream",
     "text": [
      "a 0.45454545454545453\n",
      "b 0.8571428571428573\n"
     ]
    }
   ],
   "source": [
    "#40 P(M | L) = P(M ∩ L) / P(L)      Längere Öff & regel Mensa 0.25   Längere Öff 0.55\n",
    "print(\"a\",0.25/0.55)\n",
    "# P(L | -M) = P(L ∩ -M) / P(-M) = P(L) - P(L ∩ M) / 1 - P(-M)\n",
    "print(\"b\", (0.55 - 0.25) / (1 - 0.65))"
   ]
  },
  {
   "cell_type": "code",
   "execution_count": 15,
   "id": "fd2d26a9-223b-40a3-93f3-9ba073ccb411",
   "metadata": {},
   "outputs": [
    {
     "data": {
      "text/plain": [
       "0.08331735938059957"
      ]
     },
     "execution_count": 15,
     "metadata": {},
     "output_type": "execute_result"
    }
   ],
   "source": [
    "#41 Satz von Bayes P(A | B) =  (P(B | A) ⋅ P(A)) / (P(B | A) ⋅ P(A) + P(B | Ā) ⋅ P(Ā))\n",
    "# P(K | +) =  (P(+ | K) ⋅ P(K)) / (P(+ | K) ⋅ P(K) + P(+ | G) ⋅ P(G))\n",
    "\n",
    "#P(+ | K) = P(+ ∩ K) / P(K)\n",
    "pK= 100 / 1_100_000\n",
    "\n",
    "#P(K)\n",
    "k= 1 - 0.0003 # =0.9997\n",
    "\n",
    "#P(+ | G) = P(+ ∩ G) / P(G)\n",
    "pG= (1_100_000 - 100) / 1_100_000 # = 1_099_900\n",
    "\n",
    "#P(G)\n",
    "g= 0.001\n",
    "\n",
    "((100 / 1_100_000) * 0.9997) / ( ((100 / 1_100_000) * 0.9997) + ((1_099_900/1_100_000) * 0.001) )"
   ]
  },
  {
   "cell_type": "code",
   "execution_count": 24,
   "id": "175d6399-83fb-4b96-8c56-97405bf1e169",
   "metadata": {},
   "outputs": [
    {
     "data": {
      "text/plain": [
       "0.606472233320016"
      ]
     },
     "execution_count": 24,
     "metadata": {},
     "output_type": "execute_result"
    }
   ],
   "source": [
    "#42 P(A | B) =  (P(B | A) ⋅ P(A)) / (P(B | A) ⋅ P(A) + P(B | Ā) ⋅ P(Ā)) ??\n",
    "#P(+ | K) =  (P(K | +) ⋅ P(+)) / (P(K | +) ⋅ P(+) + P(K | -) ⋅ P(-))\n",
    "#P(K | +)\n",
    "kP= 0.023\n",
    "\n",
    "#P(+)\n",
    "p= 0.99\n",
    "\n",
    "#P(K | -)\n",
    "kN= 1 - 0.985 # = 0.015\n",
    "\n",
    "#P(-)\n",
    "n= 0.985\n",
    "\n",
    "(0.023 * 0.99) / ( (0.023 * 0.99) + (0.015 * 0.985) )"
   ]
  },
  {
   "cell_type": "code",
   "execution_count": 30,
   "id": "75236817-33b2-4f55-8723-8861a0dc0f96",
   "metadata": {},
   "outputs": [
    {
     "name": "stdout",
     "output_type": "stream",
     "text": [
      "a  0.7375\n",
      "b  0.7\n"
     ]
    }
   ],
   "source": [
    "#43     Ü+  Ü-\n",
    "#   V+ 118  2  = 120\n",
    "#   V- 12   28 = 40\n",
    "#     130  30\n",
    "\n",
    "#(40/100)*30 = 12\n",
    "\n",
    "print(\"a \", 118/160)\n",
    "print(\"b \", 28/40 )"
   ]
  },
  {
   "cell_type": "code",
   "execution_count": 23,
   "id": "9238d40d-8736-4611-8fbb-9442e0472c4a",
   "metadata": {},
   "outputs": [
    {
     "name": "stdout",
     "output_type": "stream",
     "text": [
      "a 0.7335907335907336\n"
     ]
    },
    {
     "data": {
      "text/plain": [
       "0.004462293618920125"
      ]
     },
     "execution_count": 23,
     "metadata": {},
     "output_type": "execute_result"
    }
   ],
   "source": [
    "#44 P(A | B) =  (P(B | A) ⋅ P(A)) / (P(B | A) ⋅ P(A) + P(B | Ā) ⋅ P(Ā))\n",
    "#P(S | +) =  (P(+ | S) ⋅ P(S)) / (P(+ | S) ⋅ P(S) + P(+ | -S) ⋅ P(-S))\n",
    "#P(+ | S)\n",
    "pS= 0.95\n",
    "#P(S)\n",
    "s= 0.08\n",
    "#P(+ | -S)\n",
    "pNS= 1 - 0.97 # = 0.03\n",
    "#P(-S)\n",
    "nS= 1 - 0.08 # = 0.92\n",
    "\n",
    "print(\"a\", (0.95 * 0.08) / ( (0.95 * 0.08) + (0.03 * 0.92) )  )\n",
    "\n",
    "#P(S | -) =  (P(- | S) ⋅ P(S)) / (P(- | S) ⋅ P(S) + P(- | -S) ⋅ P(-S))\n",
    "#P(- | S)\n",
    "nS= 1- 0.95 # = 0.05\n",
    "#P(S)\n",
    "s= 0.08\n",
    "#P(- | -S)\n",
    "nnS = 0.97\n",
    "#P(-S)\n",
    "nS= 1 - 0.08 # = 0.92\n",
    "\n",
    "(0.05 * 0.08) / ( (0.05 * 0.08) + (0.97 * 0.92) )"
   ]
  },
  {
   "cell_type": "code",
   "execution_count": 59,
   "id": "3a7c2068-c5c1-4c36-a58f-4e66d8263b6c",
   "metadata": {},
   "outputs": [
    {
     "data": {
      "text/plain": [
       "Text(0.5, 0, 'Anz Ziehung')"
      ]
     },
     "execution_count": 59,
     "metadata": {},
     "output_type": "execute_result"
    },
    {
     "data": {
      "image/png": "[encoded data removed]",
      "text/plain": [
       "<Figure size 432x288 with 1 Axes>"
      ]
     },
     "metadata": {
      "needs_background": "light"
     },
     "output_type": "display_data"
    }
   ],
   "source": [
    "#45 4 Gewinnen und 5 Nieten\n",
    "import matplotlib as mlp\n",
    "import matplotlib.pyplot as plt\n",
    "import pandas as pd # Gewinnziehung: 4G aus 9ges, verlustzeihung(5niet aus 9ges, 4niet aus 8ges)... * gewinnzieh(4gew aus 8ges (8ges weil -1 wegen vorheriger zieh))\n",
    "data = {\"Gewinn_Ziehung\" : [1, 2, 3, 4, 5, 6], \"Wahrscheinlichkeitsfunktion\" : [4/9, 5/9* 4/8, 5/9*4/8* 4/7, 5/9*4/8*3/7* 4/6, 5/9*4/8*3/7*2/6* 4/5, 5/9*4/8*3/7*2/6*1/5* 4/4]}\n",
    "df = pd.DataFrame(data)\n",
    "\n",
    "df[\"Verteilungsfunktion\"] = df[\"Wahrscheinlichkeitsfunktion\"].cumsum()\n",
    "\n",
    "plt.title('Warscheinlichkeitsfunktion')\n",
    "plt.plot(df[\"Gewinn_Ziehung\"], df[\"Wahrscheinlichkeitsfunktion\"],'ro')\n",
    "plt.ylabel('Warscheinlichkeit')\n",
    "plt.xlabel('Anz Ziehung')"
   ]
  },
  {
   "cell_type": "code",
   "execution_count": 60,
   "id": "d144a953-78b8-4bdf-a19b-58ebf1b66e42",
   "metadata": {},
   "outputs": [
    {
     "data": {
      "text/plain": [
       "Text(0.5, 0, 'Anz Ziehung')"
      ]
     },
     "execution_count": 60,
     "metadata": {},
     "output_type": "execute_result"
    },
    {
     "data": {
      "image/png": "[encoded data removed]",
      "text/plain": [
       "<Figure size 432x288 with 1 Axes>"
      ]
     },
     "metadata": {
      "needs_background": "light"
     },
     "output_type": "display_data"
    }
   ],
   "source": [
    "plt.title('Verteilfunktion')\n",
    "plt.plot(df[\"Gewinn_Ziehung\"], df[\"Verteilungsfunktion\"],'ro')\n",
    "plt.ylabel('Warscheinlichkeit')\n",
    "plt.xlabel('Anz Ziehung')"
   ]
  },
  {
   "cell_type": "code",
   "execution_count": 58,
   "id": "6a8c78ac-d153-4f18-adf5-2f7684277fa8",
   "metadata": {},
   "outputs": [
    {
     "data": {
      "text/html": [
       "<div>\n",
       "<style scoped>\n",
       "    .dataframe tbody tr th:only-of-type {\n",
       "        vertical-align: middle;\n",
       "    }\n",
       "\n",
       "    .dataframe tbody tr th {\n",
       "        vertical-align: top;\n",
       "    }\n",
       "\n",
       "    .dataframe thead th {\n",
       "        text-align: right;\n",
       "    }\n",
       "</style>\n",
       "<table border=\"1\" class=\"dataframe\">\n",
       "  <thead>\n",
       "    <tr style=\"text-align: right;\">\n",
       "      <th></th>\n",
       "      <th>Gewinn_Ziehung</th>\n",
       "      <th>Wahrscheinlichkeitsfunktion</th>\n",
       "      <th>Verteilungsfunktion</th>\n",
       "    </tr>\n",
       "  </thead>\n",
       "  <tbody>\n",
       "    <tr>\n",
       "      <th>0</th>\n",
       "      <td>1.0</td>\n",
       "      <td>0.444444</td>\n",
       "      <td>0.444444</td>\n",
       "    </tr>\n",
       "    <tr>\n",
       "      <th>1</th>\n",
       "      <td>2.0</td>\n",
       "      <td>0.277778</td>\n",
       "      <td>0.722222</td>\n",
       "    </tr>\n",
       "    <tr>\n",
       "      <th>2</th>\n",
       "      <td>3.0</td>\n",
       "      <td>0.158730</td>\n",
       "      <td>0.880952</td>\n",
       "    </tr>\n",
       "    <tr>\n",
       "      <th>3</th>\n",
       "      <td>4.0</td>\n",
       "      <td>0.079365</td>\n",
       "      <td>0.960317</td>\n",
       "    </tr>\n",
       "    <tr>\n",
       "      <th>4</th>\n",
       "      <td>5.0</td>\n",
       "      <td>0.031746</td>\n",
       "      <td>0.992063</td>\n",
       "    </tr>\n",
       "    <tr>\n",
       "      <th>5</th>\n",
       "      <td>6.0</td>\n",
       "      <td>0.007937</td>\n",
       "      <td>1.000000</td>\n",
       "    </tr>\n",
       "    <tr>\n",
       "      <th>Total</th>\n",
       "      <td>21.0</td>\n",
       "      <td>1.000000</td>\n",
       "      <td>5.000000</td>\n",
       "    </tr>\n",
       "  </tbody>\n",
       "</table>\n",
       "</div>"
      ],
      "text/plain": [
       "       Gewinn_Ziehung  Wahrscheinlichkeitsfunktion  Verteilungsfunktion\n",
       "0                 1.0                     0.444444             0.444444\n",
       "1                 2.0                     0.277778             0.722222\n",
       "2                 3.0                     0.158730             0.880952\n",
       "3                 4.0                     0.079365             0.960317\n",
       "4                 5.0                     0.031746             0.992063\n",
       "5                 6.0                     0.007937             1.000000\n",
       "Total            21.0                     1.000000             5.000000"
      ]
     },
     "metadata": {},
     "output_type": "display_data"
    }
   ],
   "source": [
    "df.loc[\"Total\"] = df.sum()\n",
    "display(df)"
   ]
  },
  {
   "cell_type": "code",
   "execution_count": 65,
   "id": "d6476adb-80c7-42b4-8eca-63ec4eb05a78",
   "metadata": {},
   "outputs": [
    {
     "data": {
      "text/plain": [
       "Text(0.5, 0, 'Versuch')"
      ]
     },
     "execution_count": 65,
     "metadata": {},
     "output_type": "execute_result"
    },
    {
     "data": {
      "image/png": "[encoded data removed]",
      "text/plain": [
       "<Figure size 432x288 with 1 Axes>"
      ]
     },
     "metadata": {
      "needs_background": "light"
     },
     "output_type": "display_data"
    }
   ],
   "source": [
    "#46 5ges 1sperrt 4nichtsperrt\n",
    "import matplotlib as mlp\n",
    "import matplotlib.pyplot as plt\n",
    "import pandas as pd \n",
    "data = {\"Versuch\" : [1, 2, 3, 4, 5], \"Wahrscheinlichkeitsfunktion\" : [1/5, 4/5* 1/4, 4/5*3/4* 1/3, 4/5*3/4*2/3* 1/2, 4/5*3/4*2/3*1/2* 1/1]}\n",
    "df = pd.DataFrame(data)\n",
    "\n",
    "df[\"Verteilungsfunktion\"] = df[\"Wahrscheinlichkeitsfunktion\"].cumsum()\n",
    "\n",
    "plt.title('Warscheinlichkeitsfunktion')\n",
    "plt.plot(df[\"Versuch\"], df[\"Wahrscheinlichkeitsfunktion\"],'ro')\n",
    "plt.ylabel('Warscheinlichkeit')\n",
    "plt.xlabel('Versuch')"
   ]
  },
  {
   "cell_type": "code",
   "execution_count": 67,
   "id": "240ad420-cb1d-4420-a0a8-b7a15d1f37f6",
   "metadata": {},
   "outputs": [
    {
     "data": {
      "text/plain": [
       "Text(0.5, 0, 'Versuch')"
      ]
     },
     "execution_count": 67,
     "metadata": {},
     "output_type": "execute_result"
    },
    {
     "data": {
      "image/png": "[encoded data removed]",
      "text/plain": [
       "<Figure size 432x288 with 1 Axes>"
      ]
     },
     "metadata": {
      "needs_background": "light"
     },
     "output_type": "display_data"
    }
   ],
   "source": [
    "plt.title('Verteilfunktion')\n",
    "plt.plot(df[\"Versuch\"], df[\"Verteilungsfunktion\"],'ro')\n",
    "plt.ylabel('Warscheinlichkeit')\n",
    "plt.xlabel('Versuch')"
   ]
  },
  {
   "cell_type": "code",
   "execution_count": 68,
   "id": "1fedc26f-0148-433d-bfb5-a6476c5c5a96",
   "metadata": {},
   "outputs": [
    {
     "data": {
      "text/html": [
       "<div>\n",
       "<style scoped>\n",
       "    .dataframe tbody tr th:only-of-type {\n",
       "        vertical-align: middle;\n",
       "    }\n",
       "\n",
       "    .dataframe tbody tr th {\n",
       "        vertical-align: top;\n",
       "    }\n",
       "\n",
       "    .dataframe thead th {\n",
       "        text-align: right;\n",
       "    }\n",
       "</style>\n",
       "<table border=\"1\" class=\"dataframe\">\n",
       "  <thead>\n",
       "    <tr style=\"text-align: right;\">\n",
       "      <th></th>\n",
       "      <th>Versuch</th>\n",
       "      <th>Wahrscheinlichkeitsfunktion</th>\n",
       "      <th>Verteilungsfunktion</th>\n",
       "    </tr>\n",
       "  </thead>\n",
       "  <tbody>\n",
       "    <tr>\n",
       "      <th>0</th>\n",
       "      <td>1.0</td>\n",
       "      <td>0.2</td>\n",
       "      <td>0.2</td>\n",
       "    </tr>\n",
       "    <tr>\n",
       "      <th>1</th>\n",
       "      <td>2.0</td>\n",
       "      <td>0.2</td>\n",
       "      <td>0.4</td>\n",
       "    </tr>\n",
       "    <tr>\n",
       "      <th>2</th>\n",
       "      <td>3.0</td>\n",
       "      <td>0.2</td>\n",
       "      <td>0.6</td>\n",
       "    </tr>\n",
       "    <tr>\n",
       "      <th>3</th>\n",
       "      <td>4.0</td>\n",
       "      <td>0.2</td>\n",
       "      <td>0.8</td>\n",
       "    </tr>\n",
       "    <tr>\n",
       "      <th>4</th>\n",
       "      <td>5.0</td>\n",
       "      <td>0.2</td>\n",
       "      <td>1.0</td>\n",
       "    </tr>\n",
       "    <tr>\n",
       "      <th>Total</th>\n",
       "      <td>15.0</td>\n",
       "      <td>1.0</td>\n",
       "      <td>3.0</td>\n",
       "    </tr>\n",
       "  </tbody>\n",
       "</table>\n",
       "</div>"
      ],
      "text/plain": [
       "       Versuch  Wahrscheinlichkeitsfunktion  Verteilungsfunktion\n",
       "0          1.0                          0.2                  0.2\n",
       "1          2.0                          0.2                  0.4\n",
       "2          3.0                          0.2                  0.6\n",
       "3          4.0                          0.2                  0.8\n",
       "4          5.0                          0.2                  1.0\n",
       "Total     15.0                          1.0                  3.0"
      ]
     },
     "metadata": {},
     "output_type": "display_data"
    }
   ],
   "source": [
    "df.loc[\"Total\"] = df.sum()\n",
    "display(df)"
   ]
  },
  {
   "cell_type": "code",
   "execution_count": 69,
   "id": "2cdba035-7c59-4fd0-ae2d-d4dd99436a33",
   "metadata": {},
   "outputs": [
    {
     "data": {
      "text/plain": [
       "0.2"
      ]
     },
     "execution_count": 69,
     "metadata": {},
     "output_type": "execute_result"
    }
   ],
   "source": []
  },
  {
   "cell_type": "code",
   "execution_count": 70,
   "id": "c1e8e9b9-1b6e-4bb1-bb69-12e1c888a6aa",
   "metadata": {},
   "outputs": [
    {
     "data": {
      "text/plain": [
       "0.2"
      ]
     },
     "execution_count": 70,
     "metadata": {},
     "output_type": "execute_result"
    }
   ],
   "source": []
  },
  {
   "cell_type": "code",
   "execution_count": null,
   "id": "59bf8985-c4a8-4258-b9be-be9840d1568d",
   "metadata": {},
   "outputs": [],
   "source": []
  }
 ],
 "metadata": {
  "kernelspec": {
   "display_name": "Python 3 (ipykernel)",
   "language": "python",
   "name": "python3"
  },
  "language_info": {
   "codemirror_mode": {
    "name": "ipython",
    "version": 3
   },
   "file_extension": ".py",
   "mimetype": "text/x-python",
   "name": "python",
   "nbconvert_exporter": "python",
   "pygments_lexer": "ipython3",
   "version": "3.9.7"
  }
 },
 "nbformat": 4,
 "nbformat_minor": 5
}
