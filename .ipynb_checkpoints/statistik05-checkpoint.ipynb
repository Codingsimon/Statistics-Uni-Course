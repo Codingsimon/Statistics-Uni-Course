{
 "cells": [
  {
   "cell_type": "code",
   "execution_count": 9,
   "id": "7ec6db61-a03a-4b35-9931-60c2c46c4af2",
   "metadata": {},
   "outputs": [
    {
     "name": "stdout",
     "output_type": "stream",
     "text": [
      "a 8008\n",
      "b 4004\n",
      "c 7007\n"
     ]
    }
   ],
   "source": [
    "#27\n",
    "from math import comb\n",
    "print(\"a\",comb(16,6))\n",
    "print(\"b\", comb(2,2)*comb(14,4)+comb(2,0)*comb(14,6))\n",
    "print(\"c\", comb(2,0)*comb(14,6)+comb(2,1)*comb(14,5))"
   ]
  },
  {
   "cell_type": "code",
   "execution_count": 40,
   "id": "0aa8ba18-0068-495d-81b8-92583c734c19",
   "metadata": {},
   "outputs": [
    {
     "name": "stdout",
     "output_type": "stream",
     "text": [
      "a   1/ 1000\n",
      "b   1/ 243\n",
      "c   1/ 81\n"
     ]
    }
   ],
   "source": [
    "#28\n",
    "print(\"a   1/\", 10*10*10)\n",
    "print(\"b   1/\", comb(9,1)*comb(9,1)*comb(1,1)*3)\n",
    "print(\"c   1/\", comb(1,1)*comb(9,1)*comb(9,1))"
   ]
  },
  {
   "cell_type": "code",
   "execution_count": 2,
   "id": "3c8148fd-1d56-4263-8b02-d331a314177a",
   "metadata": {},
   "outputs": [
    {
     "data": {
      "text/plain": [
       "1"
      ]
     },
     "execution_count": 2,
     "metadata": {},
     "output_type": "execute_result"
    }
   ],
   "source": [
    "#29\n",
    "import math\n",
    "math.factorial(6)/(math.factorial(2)*math.factorial(1)*math.factorial(1)*math.factorial(1)*math.factorial(1))"
   ]
  },
  {
   "cell_type": "code",
   "execution_count": 5,
   "id": "61c0c9a9-61af-4ce0-964f-ad624221dc62",
   "metadata": {},
   "outputs": [
    {
     "data": {
      "text/plain": [
       "39916800"
      ]
     },
     "execution_count": 5,
     "metadata": {},
     "output_type": "execute_result"
    }
   ],
   "source": [
    "#30 \n",
    "math.factorial(11)"
   ]
  },
  {
   "cell_type": "code",
   "execution_count": 10,
   "id": "f35d7e4e-6a45-4e9f-9c65-f52155eaf9ee",
   "metadata": {},
   "outputs": [
    {
     "data": {
      "text/plain": [
       "4096"
      ]
     },
     "execution_count": 10,
     "metadata": {},
     "output_type": "execute_result"
    }
   ],
   "source": [
    "#31\n",
    "2**12"
   ]
  },
  {
   "cell_type": "code",
   "execution_count": 17,
   "id": "f3ea1034-41bd-40eb-bd6f-d326fd2ef890",
   "metadata": {},
   "outputs": [
    {
     "name": "stdout",
     "output_type": "stream",
     "text": [
      "450\n",
      "22\n",
      "30\n"
     ]
    }
   ],
   "source": [
    "#32 a\n",
    "print(comb(10,8)*comb(10,9)*comb(10,10))\n",
    "#b\n",
    "print(comb(4,4)*comb(6,4)+comb(4,4)*comb(6,5)+comb(4,4)*comb(6,6))\n",
    "#c\n",
    "print(comb(6,5)*comb(4,3)+comb(6,5)*comb(4,4))"
   ]
  },
  {
   "cell_type": "code",
   "execution_count": 23,
   "id": "85447529-f9c2-4d65-9635-a33a9579f2b3",
   "metadata": {},
   "outputs": [
    {
     "name": "stdout",
     "output_type": "stream",
     "text": [
      "C  0.038461538461538464\n",
      "B  0.19230769230769232\n",
      "A  0.7692307692307693\n"
     ]
    }
   ],
   "source": [
    "#33 C=1 B=5 A=5*4=20\n",
    "\n",
    "print(\"C \", 1/26)\n",
    "print(\"B \", 5/26)\n",
    "print(\"A \", 20/26)"
   ]
  },
  {
   "cell_type": "code",
   "execution_count": 50,
   "id": "978c52d5-c485-4f0a-974a-0c88b4b6a6d7",
   "metadata": {},
   "outputs": [
    {
     "name": "stdout",
     "output_type": "stream",
     "text": [
      "0.037037037037037035\n",
      "0.21645021645021645\n"
     ]
    }
   ],
   "source": [
    "#34 21 ges  \n",
    "#a ggg  7 grüne\n",
    "print((7/21)*(7/21)*(7/21))\n",
    "\n",
    "#b *3 wegen rrg grr rgr aufaddiert   10 rote    7 grüne\n",
    "print(((10/21)*(10/21)*(7/22))*3)"
   ]
  },
  {
   "cell_type": "code",
   "execution_count": 23,
   "id": "cb1929bf-b31b-4012-a022-eddc059db19b",
   "metadata": {},
   "outputs": [
    {
     "name": "stdout",
     "output_type": "stream",
     "text": [
      "a  0.42105263157894735\n",
      "b  0.49122807017543857\n",
      "c  0.5087719298245614\n"
     ]
    }
   ],
   "source": [
    "#35\n",
    "print(\"a \",(comb(17,3)*comb(3,1))/comb(20,4))\n",
    "b = (comb(17,4)*comb(3,0))/comb(20,4)\n",
    "print(\"b \", b)\n",
    "print(\"c \", 1 - b) # 1 - kein Meier = min 1 Meier"
   ]
  },
  {
   "cell_type": "code",
   "execution_count": 29,
   "id": "835aa11f-d406-4eb2-8e97-3d7407651450",
   "metadata": {},
   "outputs": [
    {
     "name": "stdout",
     "output_type": "stream",
     "text": [
      "a  0.75\n",
      "b  0.5\n"
     ]
    }
   ],
   "source": [
    "#36 a jm mj jj mm\n",
    "print(\"a \",3/4)\n",
    "print(\"b \",2/4)"
   ]
  },
  {
   "cell_type": "code",
   "execution_count": null,
   "id": "2829d054-c9dc-46e0-be9e-5e6f1c3e21fd",
   "metadata": {},
   "outputs": [],
   "source": []
  }
 ],
 "metadata": {
  "kernelspec": {
   "display_name": "Python 3 (ipykernel)",
   "language": "python",
   "name": "python3"
  },
  "language_info": {
   "codemirror_mode": {
    "name": "ipython",
    "version": 3
   },
   "file_extension": ".py",
   "mimetype": "text/x-python",
   "name": "python",
   "nbconvert_exporter": "python",
   "pygments_lexer": "ipython3",
   "version": "3.9.7"
  }
 },
 "nbformat": 4,
 "nbformat_minor": 5
}
