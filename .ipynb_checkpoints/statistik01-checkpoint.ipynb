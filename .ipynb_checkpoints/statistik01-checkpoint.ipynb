{
 "cells": [
  {
   "cell_type": "code",
   "execution_count": 6,
   "id": "00bf3b8a-710f-4406-a14c-2234561f674f",
   "metadata": {},
   "outputs": [
    {
     "data": {
      "text/html": [
       "<div>\n",
       "<style scoped>\n",
       "    .dataframe tbody tr th:only-of-type {\n",
       "        vertical-align: middle;\n",
       "    }\n",
       "\n",
       "    .dataframe tbody tr th {\n",
       "        vertical-align: top;\n",
       "    }\n",
       "\n",
       "    .dataframe thead th {\n",
       "        text-align: right;\n",
       "    }\n",
       "</style>\n",
       "<table border=\"1\" class=\"dataframe\">\n",
       "  <thead>\n",
       "    <tr style=\"text-align: right;\">\n",
       "      <th></th>\n",
       "      <th>Merkmal</th>\n",
       "      <th>Skalenniveau des Merkmals</th>\n",
       "    </tr>\n",
       "  </thead>\n",
       "  <tbody>\n",
       "    <tr>\n",
       "      <th>0</th>\n",
       "      <td>Leerlaufdrehzahl (in U/min) eines Motors</td>\n",
       "      <td>metrisch stetig</td>\n",
       "    </tr>\n",
       "    <tr>\n",
       "      <th>1</th>\n",
       "      <td>Bruttoverdienst einer Angestellten in Euro</td>\n",
       "      <td>metrisch diskret</td>\n",
       "    </tr>\n",
       "    <tr>\n",
       "      <th>2</th>\n",
       "      <td>erreichte Punkte bei einer Klausur</td>\n",
       "      <td>metrisch diskret</td>\n",
       "    </tr>\n",
       "    <tr>\n",
       "      <th>3</th>\n",
       "      <td>Einwohnerzahl einer bestimmten Stadt</td>\n",
       "      <td>metrisch diskret</td>\n",
       "    </tr>\n",
       "    <tr>\n",
       "      <th>4</th>\n",
       "      <td>EuroNCAP-Wertung (1 Stern, 2 Sterne, …) eines ...</td>\n",
       "      <td>ordinal diskret</td>\n",
       "    </tr>\n",
       "    <tr>\n",
       "      <th>5</th>\n",
       "      <td>Haarlänge gemessen in Zentimeter</td>\n",
       "      <td>metrisch stetig</td>\n",
       "    </tr>\n",
       "    <tr>\n",
       "      <th>6</th>\n",
       "      <td>Beliebtheit von Politikern (sehr beliebt, … , ...</td>\n",
       "      <td>ordinal diskret</td>\n",
       "    </tr>\n",
       "  </tbody>\n",
       "</table>\n",
       "</div>"
      ],
      "text/plain": [
       "                                             Merkmal Skalenniveau des Merkmals\n",
       "0           Leerlaufdrehzahl (in U/min) eines Motors           metrisch stetig\n",
       "1         Bruttoverdienst einer Angestellten in Euro          metrisch diskret\n",
       "2                 erreichte Punkte bei einer Klausur          metrisch diskret\n",
       "3               Einwohnerzahl einer bestimmten Stadt          metrisch diskret\n",
       "4  EuroNCAP-Wertung (1 Stern, 2 Sterne, …) eines ...           ordinal diskret\n",
       "5                   Haarlänge gemessen in Zentimeter           metrisch stetig\n",
       "6  Beliebtheit von Politikern (sehr beliebt, … , ...           ordinal diskret"
      ]
     },
     "metadata": {},
     "output_type": "display_data"
    }
   ],
   "source": [
    "import pandas as pd\n",
    "import numpy as np\n",
    "import math\n",
    "import matplotlib.pyplot as plt\n",
    "import pylab as pylab\n",
    "\n",
    "data = {\"Merkmal\" : [\"Leerlaufdrehzahl (in U/min) eines Motors\",\"Bruttoverdienst einer Angestellten in Euro\",\"erreichte Punkte bei einer Klausur\",\"Einwohnerzahl einer bestimmten Stadt\",\"EuroNCAP-Wertung (1 Stern, 2 Sterne, …) eines PKWs\",\"Haarlänge gemessen in Zentimeter\",\"Beliebtheit von Politikern (sehr beliebt, … , sehr unbeliebt)\"],\n",
    "        \"Skalenniveau des Merkmals\" : [\"metrisch stetig\",\"metrisch diskret\",\"metrisch diskret\",\"metrisch diskret\",\"ordinal\",\"metrisch diskret\",\"ordinal\"]}\n",
    "\n",
    "# Convert into DataFrame \n",
    "df = pd.DataFrame(data)\n",
    "display(df)"
   ]
  },
  {
   "cell_type": "code",
   "execution_count": 5,
   "id": "9429bd6c-1b58-4917-99f3-2ec595bda6c9",
   "metadata": {},
   "outputs": [
    {
     "name": "stdout",
     "output_type": "stream",
     "text": [
      "20.755918729318832 ~ 21   | 177148\n"
     ]
    }
   ],
   "source": [
    "# 3^X = 8000000000\n",
    "merkmalsmengea = math.log(8000000000,3)\n",
    "merkmalsmengeb = 3 ** 11 +1\n",
    "\n",
    "print(merkmalsmengea, \"~ 21   |\", merkmalsmengeb)"
   ]
  },
  {
   "cell_type": "code",
   "execution_count": 8,
   "id": "beb4e7dd-8cff-4d8a-a1d6-96989283fed3",
   "metadata": {},
   "outputs": [
    {
     "data": {
      "text/html": [
       "<div>\n",
       "<style scoped>\n",
       "    .dataframe tbody tr th:only-of-type {\n",
       "        vertical-align: middle;\n",
       "    }\n",
       "\n",
       "    .dataframe tbody tr th {\n",
       "        vertical-align: top;\n",
       "    }\n",
       "\n",
       "    .dataframe thead th {\n",
       "        text-align: right;\n",
       "    }\n",
       "</style>\n",
       "<table border=\"1\" class=\"dataframe\">\n",
       "  <thead>\n",
       "    <tr style=\"text-align: right;\">\n",
       "      <th></th>\n",
       "      <th>induktive Statistik</th>\n",
       "    </tr>\n",
       "  </thead>\n",
       "  <tbody>\n",
       "    <tr>\n",
       "      <th>0</th>\n",
       "      <td>Bestimmung einer Häufigkeitsverteilung einer G...</td>\n",
       "    </tr>\n",
       "    <tr>\n",
       "      <th>1</th>\n",
       "      <td>Testen von Hypothesen über eine Grundgesamthei...</td>\n",
       "    </tr>\n",
       "    <tr>\n",
       "      <th>2</th>\n",
       "      <td>Erstellung von Wahlprognosen</td>\n",
       "    </tr>\n",
       "  </tbody>\n",
       "</table>\n",
       "</div>"
      ],
      "text/plain": [
       "                                 induktive Statistik\n",
       "0  Bestimmung einer Häufigkeitsverteilung einer G...\n",
       "1  Testen von Hypothesen über eine Grundgesamthei...\n",
       "2                       Erstellung von Wahlprognosen"
      ]
     },
     "metadata": {},
     "output_type": "display_data"
    }
   ],
   "source": [
    "data = {\"induktive Statistik\" : [\"Bestimmung einer Häufigkeitsverteilung einer Grundgesamtheit\",\"Testen von Hypothesen über eine Grundgesamtheit anhand einer Stichprobe\",\"Erstellung von Wahlprognosen\"]}\n",
    "\n",
    "df = pd.DataFrame(data)\n",
    "display(df)"
   ]
  },
  {
   "cell_type": "code",
   "execution_count": 12,
   "id": "dd5dee4f-c148-4463-90b1-adc7dbda1760",
   "metadata": {},
   "outputs": [
    {
     "data": {
      "text/html": [
       "<div>\n",
       "<style scoped>\n",
       "    .dataframe tbody tr th:only-of-type {\n",
       "        vertical-align: middle;\n",
       "    }\n",
       "\n",
       "    .dataframe tbody tr th {\n",
       "        vertical-align: top;\n",
       "    }\n",
       "\n",
       "    .dataframe thead th {\n",
       "        text-align: right;\n",
       "    }\n",
       "</style>\n",
       "<table border=\"1\" class=\"dataframe\">\n",
       "  <thead>\n",
       "    <tr style=\"text-align: right;\">\n",
       "      <th></th>\n",
       "      <th>richtig</th>\n",
       "    </tr>\n",
       "  </thead>\n",
       "  <tbody>\n",
       "    <tr>\n",
       "      <th>0</th>\n",
       "      <td>Ein Rangmerkmal hat auch die Eigenschaften ein...</td>\n",
       "    </tr>\n",
       "    <tr>\n",
       "      <th>1</th>\n",
       "      <td>Merkmale sind die Eigenschaften der Objekte ei...</td>\n",
       "    </tr>\n",
       "    <tr>\n",
       "      <th>2</th>\n",
       "      <td>Eine empirische Grundgesamtheit muss räumlich,...</td>\n",
       "    </tr>\n",
       "    <tr>\n",
       "      <th>3</th>\n",
       "      <td>Ein metrisch diskretes Merkmal hat auch die Ei...</td>\n",
       "    </tr>\n",
       "  </tbody>\n",
       "</table>\n",
       "</div>"
      ],
      "text/plain": [
       "                                             richtig\n",
       "0  Ein Rangmerkmal hat auch die Eigenschaften ein...\n",
       "1  Merkmale sind die Eigenschaften der Objekte ei...\n",
       "2  Eine empirische Grundgesamtheit muss räumlich,...\n",
       "3  Ein metrisch diskretes Merkmal hat auch die Ei..."
      ]
     },
     "metadata": {},
     "output_type": "display_data"
    }
   ],
   "source": [
    "data = {\"richtig\" : [\"Ein Rangmerkmal hat auch die Eigenschaften eines metrisch diskreten Merkmals\",\"Merkmale sind die Eigenschaften der Objekte einer empirischen Grundgesamtheit\",\"Eine empirische Grundgesamtheit muss räumlich, zeitlich und sachlich abgegrenzt sein\",\"Ein metrisch diskretes Merkmal hat auch die Eigenschaften eines ordinalen Merkmals.\"]}\n",
    "\n",
    "df = pd.DataFrame(data)\n",
    "display(df)"
   ]
  },
  {
   "cell_type": "code",
   "execution_count": 44,
   "id": "499949b0-ce75-4832-97f6-dd9b01f01758",
   "metadata": {},
   "outputs": [
    {
     "data": {
      "text/html": [
       "<div>\n",
       "<style scoped>\n",
       "    .dataframe tbody tr th:only-of-type {\n",
       "        vertical-align: middle;\n",
       "    }\n",
       "\n",
       "    .dataframe tbody tr th {\n",
       "        vertical-align: top;\n",
       "    }\n",
       "\n",
       "    .dataframe thead th {\n",
       "        text-align: right;\n",
       "    }\n",
       "</style>\n",
       "<table border=\"1\" class=\"dataframe\">\n",
       "  <thead>\n",
       "    <tr style=\"text-align: right;\">\n",
       "      <th></th>\n",
       "      <th>Merkmalsausprägung</th>\n",
       "      <th>Tage_abs_Hauf_fi</th>\n",
       "      <th>rel_Haufigkeit_pi</th>\n",
       "      <th>Kumulierte Häfigkeit</th>\n",
       "    </tr>\n",
       "  </thead>\n",
       "  <tbody>\n",
       "    <tr>\n",
       "      <th>0</th>\n",
       "      <td>3</td>\n",
       "      <td>98</td>\n",
       "      <td>0.61250</td>\n",
       "      <td>98</td>\n",
       "    </tr>\n",
       "    <tr>\n",
       "      <th>1</th>\n",
       "      <td>2</td>\n",
       "      <td>36</td>\n",
       "      <td>0.22500</td>\n",
       "      <td>134</td>\n",
       "    </tr>\n",
       "    <tr>\n",
       "      <th>2</th>\n",
       "      <td>1</td>\n",
       "      <td>25</td>\n",
       "      <td>0.15625</td>\n",
       "      <td>159</td>\n",
       "    </tr>\n",
       "    <tr>\n",
       "      <th>3</th>\n",
       "      <td>0</td>\n",
       "      <td>1</td>\n",
       "      <td>0.00625</td>\n",
       "      <td>160</td>\n",
       "    </tr>\n",
       "  </tbody>\n",
       "</table>\n",
       "</div>"
      ],
      "text/plain": [
       "   Merkmalsausprägung  Tage_abs_Hauf_fi  rel_Haufigkeit_pi  \\\n",
       "0                   3                98            0.61250   \n",
       "1                   2                36            0.22500   \n",
       "2                   1                25            0.15625   \n",
       "3                   0                 1            0.00625   \n",
       "\n",
       "   Kumulierte Häfigkeit  \n",
       "0                    98  \n",
       "1                   134  \n",
       "2                   159  \n",
       "3                   160  "
      ]
     },
     "metadata": {},
     "output_type": "display_data"
    },
    {
     "data": {
      "image/png": "[encoded data removed]",
      "text/plain": [
       "<Figure size 432x288 with 1 Axes>"
      ]
     },
     "metadata": {
      "needs_background": "light"
     },
     "output_type": "display_data"
    }
   ],
   "source": [
    "data = {\"Merkmalsausprägung\" : [3, 2, 1, 0], \"Tage_abs_Hauf_fi\" : [98,134-98, 160-135 ,1]}\n",
    "df = pd.DataFrame(data)\n",
    "\n",
    "tage_ges = 160\n",
    "\n",
    "df[\"rel_Haufigkeit_pi\"] = (df[\"Tage_abs_Hauf_fi\"] / tage_ges)\n",
    "df[\"Kumulierte Häfigkeit\"] = df[\"Tage_abs_Hauf_fi\"].cumsum()\n",
    "\n",
    "plt.bar(df[\"Merkmalsausprägung\"], df[\"Tage_abs_Hauf_fi\"])\n",
    "\n",
    "display(df)"
   ]
  },
  {
   "cell_type": "code",
   "execution_count": null,
   "id": "a13b859c-53c9-4186-8fd6-557b82648daf",
   "metadata": {},
   "outputs": [],
   "source": []
  }
 ],
 "metadata": {
  "kernelspec": {
   "display_name": "Python 3 (ipykernel)",
   "language": "python",
   "name": "python3"
  },
  "language_info": {
   "codemirror_mode": {
    "name": "ipython",
    "version": 3
   },
   "file_extension": ".py",
   "mimetype": "text/x-python",
   "name": "python",
   "nbconvert_exporter": "python",
   "pygments_lexer": "ipython3",
   "version": "3.9.5"
  }
 },
 "nbformat": 4,
 "nbformat_minor": 5
}
