{
 "cells": [
  {
   "cell_type": "code",
   "execution_count": 8,
   "id": "9cf77767-a784-4986-a8db-bae26e833a75",
   "metadata": {},
   "outputs": [
    {
     "name": "stdout",
     "output_type": "stream",
     "text": [
      "a  0.3375\n",
      "b  0.5555555555555555\n"
     ]
    }
   ],
   "source": [
    "#47\n",
    "print(\"a \", 0.75*0.25+0.25*0.6)\n",
    "#P(Ä | +) = P(Ä ∩ +)/P(+)\n",
    "print(\"b \", (0.75*0.25) / 0.3375)"
   ]
  },
  {
   "cell_type": "code",
   "execution_count": 13,
   "id": "33dd09ec-9d34-466e-96b2-ffee17af062d",
   "metadata": {},
   "outputs": [
    {
     "name": "stdout",
     "output_type": "stream",
     "text": [
      "a  0.5\n",
      "b 0.22222222222222224\n",
      "c 0.15000000000000002\n"
     ]
    }
   ],
   "source": [
    "#48 #P(M | P) = P(M ∩ P)/P(P)\n",
    "print(\"a \", 0.1/0.2)\n",
    "#P(P | M) = P(P ∩ M)/P(M)\n",
    "print(\"b\", 0.1/0.45)\n",
    "#P(M) + P(P) - P(P | M)\n",
    "print(\"c\", 0.45 + 0.2 - 0.5)"
   ]
  },
  {
   "cell_type": "code",
   "execution_count": 17,
   "id": "acdc0e9c-a561-4f03-9ca5-38fd75772aed",
   "metadata": {},
   "outputs": [
    {
     "data": {
      "text/plain": [
       "0.017309714798502095"
      ]
     },
     "execution_count": 17,
     "metadata": {},
     "output_type": "execute_result"
    }
   ],
   "source": [
    "#49 P(B | A) =  (P(A | B) ⋅ P(B)) / (P(A | B) ⋅ P(B) + P(A | -B) ⋅ P(-B))\n",
    "#P(A | B)\n",
    "aB = 0.965\n",
    "#P(B)\n",
    "b= 0.0002\n",
    "#P(A | -B)\n",
    "aNB= 4/365 # = 0.010959\n",
    "#P(-B)\n",
    "nB= 1-0.0002 # = 0.9998\n",
    "\n",
    "(0.965 * 0.0002) / ( (0.965 * 0.0002) + (0.010959 * 0.9998) )"
   ]
  },
  {
   "cell_type": "code",
   "execution_count": 24,
   "id": "0ecb2e66-d06a-4a45-a5b0-03fd9a8b5ca3",
   "metadata": {},
   "outputs": [
    {
     "name": "stdout",
     "output_type": "stream",
     "text": [
      "35\n"
     ]
    },
    {
     "data": {
      "text/html": [
       "<div>\n",
       "<style scoped>\n",
       "    .dataframe tbody tr th:only-of-type {\n",
       "        vertical-align: middle;\n",
       "    }\n",
       "\n",
       "    .dataframe tbody tr th {\n",
       "        vertical-align: top;\n",
       "    }\n",
       "\n",
       "    .dataframe thead th {\n",
       "        text-align: right;\n",
       "    }\n",
       "</style>\n",
       "<table border=\"1\" class=\"dataframe\">\n",
       "  <thead>\n",
       "    <tr style=\"text-align: right;\">\n",
       "      <th></th>\n",
       "      <th>Schäden</th>\n",
       "      <th>Anzahl_Versich</th>\n",
       "      <th>Schäden_x_Anzahl_Versich</th>\n",
       "    </tr>\n",
       "  </thead>\n",
       "  <tbody>\n",
       "    <tr>\n",
       "      <th>0</th>\n",
       "      <td>0</td>\n",
       "      <td>75</td>\n",
       "      <td>0</td>\n",
       "    </tr>\n",
       "    <tr>\n",
       "      <th>1</th>\n",
       "      <td>1</td>\n",
       "      <td>19</td>\n",
       "      <td>19</td>\n",
       "    </tr>\n",
       "    <tr>\n",
       "      <th>2</th>\n",
       "      <td>2</td>\n",
       "      <td>3</td>\n",
       "      <td>6</td>\n",
       "    </tr>\n",
       "    <tr>\n",
       "      <th>3</th>\n",
       "      <td>3</td>\n",
       "      <td>2</td>\n",
       "      <td>6</td>\n",
       "    </tr>\n",
       "    <tr>\n",
       "      <th>4</th>\n",
       "      <td>4</td>\n",
       "      <td>1</td>\n",
       "      <td>4</td>\n",
       "    </tr>\n",
       "    <tr>\n",
       "      <th>Total</th>\n",
       "      <td>10</td>\n",
       "      <td>100</td>\n",
       "      <td>35</td>\n",
       "    </tr>\n",
       "  </tbody>\n",
       "</table>\n",
       "</div>"
      ],
      "text/plain": [
       "       Schäden  Anzahl_Versich  Schäden_x_Anzahl_Versich\n",
       "0            0              75                         0\n",
       "1            1              19                        19\n",
       "2            2               3                         6\n",
       "3            3               2                         6\n",
       "4            4               1                         4\n",
       "Total       10             100                        35"
      ]
     },
     "metadata": {},
     "output_type": "display_data"
    }
   ],
   "source": [
    "#50 Mittelwert = Durchschnitt\n",
    "import pandas as pd\n",
    "data = {\"Schäden\" : [0, 1, 2, 3, 4], \"Anzahl_Versich\" : [75, 19, 3, 2, 1]}\n",
    "df = pd.DataFrame(data)\n",
    "\n",
    "df[\"Schäden_x_Anzahl_Versich\"] = df[\"Schäden\"] * df[\"Anzahl_Versich\"]\n",
    "\n",
    "print(df[\"Schäden_x_Anzahl_Versich\"].sum())\n",
    "\n",
    "df.loc[\"Total\"] = df.sum()\n",
    "display(df)"
   ]
  },
  {
   "cell_type": "code",
   "execution_count": 34,
   "id": "219fc8e5-98a8-45f1-8665-cdc3a820a937",
   "metadata": {},
   "outputs": [
    {
     "name": "stdout",
     "output_type": "stream",
     "text": [
      "Erwarungswert  -0.125 Eur\n",
      "Varianz  0.015625 Eur\n"
     ]
    },
    {
     "data": {
      "text/html": [
       "<div>\n",
       "<style scoped>\n",
       "    .dataframe tbody tr th:only-of-type {\n",
       "        vertical-align: middle;\n",
       "    }\n",
       "\n",
       "    .dataframe tbody tr th {\n",
       "        vertical-align: top;\n",
       "    }\n",
       "\n",
       "    .dataframe thead th {\n",
       "        text-align: right;\n",
       "    }\n",
       "</style>\n",
       "<table border=\"1\" class=\"dataframe\">\n",
       "  <thead>\n",
       "    <tr style=\"text-align: right;\">\n",
       "      <th></th>\n",
       "      <th>Anzahl_Zahl</th>\n",
       "      <th>Gewinn</th>\n",
       "      <th>Verteilfunktion</th>\n",
       "      <th>Erwarungswert</th>\n",
       "    </tr>\n",
       "  </thead>\n",
       "  <tbody>\n",
       "    <tr>\n",
       "      <th>0</th>\n",
       "      <td>0.0</td>\n",
       "      <td>-20.0</td>\n",
       "      <td>0.125</td>\n",
       "      <td>-2.500</td>\n",
       "    </tr>\n",
       "    <tr>\n",
       "      <th>1</th>\n",
       "      <td>1.0</td>\n",
       "      <td>2.0</td>\n",
       "      <td>0.375</td>\n",
       "      <td>0.750</td>\n",
       "    </tr>\n",
       "    <tr>\n",
       "      <th>2</th>\n",
       "      <td>2.0</td>\n",
       "      <td>3.0</td>\n",
       "      <td>0.375</td>\n",
       "      <td>1.125</td>\n",
       "    </tr>\n",
       "    <tr>\n",
       "      <th>3</th>\n",
       "      <td>3.0</td>\n",
       "      <td>4.0</td>\n",
       "      <td>0.125</td>\n",
       "      <td>0.500</td>\n",
       "    </tr>\n",
       "    <tr>\n",
       "      <th>Total</th>\n",
       "      <td>6.0</td>\n",
       "      <td>-11.0</td>\n",
       "      <td>1.000</td>\n",
       "      <td>-0.125</td>\n",
       "    </tr>\n",
       "  </tbody>\n",
       "</table>\n",
       "</div>"
      ],
      "text/plain": [
       "       Anzahl_Zahl  Gewinn  Verteilfunktion  Erwarungswert\n",
       "0              0.0   -20.0            0.125         -2.500\n",
       "1              1.0     2.0            0.375          0.750\n",
       "2              2.0     3.0            0.375          1.125\n",
       "3              3.0     4.0            0.125          0.500\n",
       "Total          6.0   -11.0            1.000         -0.125"
      ]
     },
     "metadata": {},
     "output_type": "display_data"
    }
   ],
   "source": [
    "#51 1gew 2mögl 0 KKK; 1 ZKK * KZK * KKZ\n",
    "data = {\"Anzahl_Zahl\" : [0, 1, 2, 3], \"Gewinn\" : [-20, 2, 3, 4], \"Verteilfunktion\" : [1/2*1/2*1/2, (1/2*1/2*1/2)*3, (1/2*1/2*1/2)*3, (1/2*1/2*1/2)]}\n",
    "df = pd.DataFrame(data)\n",
    "\n",
    "df[\"Erwarungswert\"] = df[\"Gewinn\"]*df[\"Verteilfunktion\"]\n",
    "erwarungswert = df[\"Erwarungswert\"].sum()\n",
    "\n",
    "print(\"Erwarungswert \", erwarungswert, \"Eur\")\n",
    "print(\"Varianz \", erwarungswert**2, \"Eur\")\n",
    "\n",
    "df.loc[\"Total\"] = df.sum()\n",
    "display(df)"
   ]
  },
  {
   "cell_type": "code",
   "execution_count": null,
   "id": "2ee07409-4ccd-40c2-80cb-df7ec7e2fa0d",
   "metadata": {},
   "outputs": [],
   "source": [
    "#52"
   ]
  }
 ],
 "metadata": {
  "kernelspec": {
   "display_name": "Python 3 (ipykernel)",
   "language": "python",
   "name": "python3"
  },
  "language_info": {
   "codemirror_mode": {
    "name": "ipython",
    "version": 3
   },
   "file_extension": ".py",
   "mimetype": "text/x-python",
   "name": "python",
   "nbconvert_exporter": "python",
   "pygments_lexer": "ipython3",
   "version": "3.9.7"
  }
 },
 "nbformat": 4,
 "nbformat_minor": 5
}
