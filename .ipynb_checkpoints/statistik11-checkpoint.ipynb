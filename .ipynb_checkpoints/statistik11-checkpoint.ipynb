{
 "cells": [
  {
   "cell_type": "code",
   "execution_count": 7,
   "id": "da657eb7-fd8b-47ee-b439-d9b59e9f902a",
   "metadata": {},
   "outputs": [
    {
     "name": "stdout",
     "output_type": "stream",
     "text": [
      "[ 0.7216 ; 0.8784000000000001 ]\n"
     ]
    },
    {
     "data": {
      "text/plain": [
       "0.8"
      ]
     },
     "execution_count": 7,
     "metadata": {},
     "output_type": "execute_result"
    }
   ],
   "source": [
    "# 86 95% Konfidenzintervalls  Stichprobe\n",
    "# np(1 − p) ≥ 9 Voraussetzung\n",
    "import math\n",
    "\n",
    "k = 80 # günstige\n",
    "n = 100 # Grundgesamtheit\n",
    "p = k/n #günstig/möglich = Erwarungswert 0.8\n",
    "# alpha = 1 - Konfidenzintervall\n",
    "alpha = 1 - 0.95 # 0.05\n",
    "\n",
    "#tn−1, 1−α/2 = t   tn = Grundges\n",
    "#t 1000 - 1, 1 - 0.05/2 = t999, 0.975 = t ∞, 0.975\n",
    "#nachsehen bei F(z) = 0.975 und ∞ Freiheitsgraden => 1.96\n",
    "\n",
    "# Intervallgrenzen =  p +- (1−α/2) * sqrt( (p*(1-p)) /Anz Werte ) => Tabellenwert in (1−α/2) einsetzen\n",
    "unten =  p - 1.96 * math.sqrt( (p*(1-p)) /n )\n",
    "oben =  p + 1.96 * math.sqrt( (p*(1-p)) /n )\n",
    "print(\"[\",unten,\";\",oben,\"]\")"
   ]
  },
  {
   "cell_type": "code",
   "execution_count": 53,
   "id": "1292a16c-8277-440a-8d2b-15e4698e5bfb",
   "metadata": {},
   "outputs": [
    {
     "name": "stdout",
     "output_type": "stream",
     "text": [
      "[ 722.6271394506165 ; 777.3728605493835 ]\n"
     ]
    },
    {
     "data": {
      "text/plain": [
       "756.2"
      ]
     },
     "execution_count": 53,
     "metadata": {},
     "output_type": "execute_result"
    }
   ],
   "source": [
    "# 87 a Normalverteilung 99% Konfidenzintervall von Stichprobe   Da weiter Varianz Korrektur von * zu +\n",
    "mean = (760 + 756 + 758 + 745 + 745 + 765 + 748 + 760 + 755 + 770 )/ 10 # Erwarungswert 756.2\n",
    "\n",
    "# ((x1 - mean)**2 + (x2 - mean)**2 + (x3 - mean)**2) / (Anz_Messwerte - 1)  empirische Varianz\n",
    "varianz = ((760-756.2)**2 + (756-756.2)**2 + (758-756.2)**2 + (745-756.2)**2 + (745-756.2)**2 + (765-756.2)**2 + (748-756.2)**2 + (760-756.2)**2 + (755-756.2)**2 + (770-756.2)**2)/(9) \n",
    "sd = math.sqrt(varianz) #100.65184\n",
    "\n",
    "alpha = 1 - 0.99 # 0.01\n",
    "#tn−1, 1−α/2 = t   tn = Grundges\n",
    "#t 750 - 1, 1 - 0.01/2 = t 749, 0.995 = t ∞, 0.995 \n",
    "#nachsehen bei F(z) = 0.995 und ∞ Freiheitsgraden => 2.58\n",
    "\n",
    "# Intervallgrenzen =  μ +- F(z) * (sd/sqrt(Anz Stichprobe))\n",
    "unten = p - 2.58 * (sd/math.sqrt(10))\n",
    "oben = p + 2.58 * (sd/math.sqrt(10))\n",
    "print(\"[\",unten,\";\",oben,\"]\")\n",
    "mean"
   ]
  },
  {
   "cell_type": "markdown",
   "id": "a550f496-68ad-4c29-8b9e-788681296c92",
   "metadata": {},
   "source": [
    "$Stichprobenumfang$    \n",
    "$n ≈ (2 ⋅ u1 − α/2 ⋅ {S\\over{L}} )²$    "
   ]
  },
  {
   "cell_type": "code",
   "execution_count": 20,
   "id": "4cda950f-a791-4b78-8b1a-fbe58aa2fca8",
   "metadata": {},
   "outputs": [
    {
     "name": "stdout",
     "output_type": "stream",
     "text": [
      "b Umfang n =  25261.4779\n"
     ]
    }
   ],
   "source": [
    "# 87 b\n",
    "alpha = 1 - 0.99 # 0.01\n",
    "S = sd\n",
    "L = 1 # ml Breite des Intervalls\n",
    "\n",
    "# Formel für Stichprobenumfang der T Verteilung n = (2 * (u1 - alpha/2) * (S/L) )**2\n",
    "print(\"b Umfang n = \", (2 * (1 - alpha/2) * (S/L) )**2 )"
   ]
  },
  {
   "cell_type": "code",
   "execution_count": 21,
   "id": "436d3613-3c83-4eac-8b12-a09d1de4c11e",
   "metadata": {},
   "outputs": [
    {
     "ename": "SyntaxError",
     "evalue": "cannot assign to literal (3358908066.py, line 3)",
     "output_type": "error",
     "traceback": [
      "\u001b[0;36m  File \u001b[0;32m\"/tmp/ipykernel_62285/3358908066.py\"\u001b[0;36m, line \u001b[0;32m3\u001b[0m\n\u001b[0;31m    40 = (2 * (1 - alpha/2) * (S/L) )**2\u001b[0m\n\u001b[0m    ^\u001b[0m\n\u001b[0;31mSyntaxError\u001b[0m\u001b[0;31m:\u001b[0m cannot assign to literal\n"
     ]
    }
   ],
   "source": [
    "# 87 c Konfidenzniveau (% ?) mit n=40\n",
    "alpha = 1 - 0.99 # 0.01\n",
    "S = sd # 79.868642\n",
    "L = 1 # ml Breite des Intervalls\n",
    "\n",
    "# Formel für Stichprobenumfang der T Verteilung n = (2 * (u1 - alpha/2) * (S/L) )**2\n",
    "# 40 = (2 * (1 - alpha/2) * (79.868642/1) )**2\n",
    "# 40 = (2 * (1 - alpha/2) * 79.868642 )**2\n",
    "# 40 = ((1 - alpha/2) * 159.737284 )**2\n",
    "# sqrt(40) = (1 - alpha/2) * 159.737284\n",
    "# sqrt(40)/159.737284 = (1 - alpha/2)\n",
    "# (1 - alpha/2) = 0.03959348"
   ]
  },
  {
   "cell_type": "code",
   "execution_count": 24,
   "id": "6b97bd39-b7c8-42d9-b0d9-a73f4d896425",
   "metadata": {},
   "outputs": [
    {
     "data": {
      "text/plain": [
       "0.03959348226013884"
      ]
     },
     "execution_count": 24,
     "metadata": {},
     "output_type": "execute_result"
    }
   ],
   "source": [
    "math.sqrt(40)/159.737284"
   ]
  },
  {
   "cell_type": "code",
   "execution_count": 60,
   "id": "746dca46-cc66-44ce-b202-656763737af7",
   "metadata": {},
   "outputs": [
    {
     "data": {
      "text/plain": [
       "10130.79359999998"
      ]
     },
     "execution_count": 60,
     "metadata": {},
     "output_type": "execute_result"
    }
   ],
   "source": []
  },
  {
   "cell_type": "code",
   "execution_count": 71,
   "id": "f6f86510-e6ea-4800-b145-8d7496277daa",
   "metadata": {},
   "outputs": [
    {
     "data": {
      "text/plain": [
       "268.60000000000156"
      ]
     },
     "execution_count": 72,
     "metadata": {},
     "output_type": "execute_result"
    }
   ],
   "source": []
  },
  {
   "cell_type": "code",
   "execution_count": 64,
   "id": "642d08ad-f14c-4f36-9ce3-479aabf59ccf",
   "metadata": {},
   "outputs": [
    {
     "data": {
      "text/plain": [
       "0.04000000000001819"
      ]
     },
     "execution_count": 64,
     "metadata": {},
     "output_type": "execute_result"
    }
   ],
   "source": []
  },
  {
   "cell_type": "code",
   "execution_count": null,
   "id": "93cfc4c0-8872-4a46-92e4-b68d741d9551",
   "metadata": {},
   "outputs": [],
   "source": []
  }
 ],
 "metadata": {
  "kernelspec": {
   "display_name": "Python 3 (ipykernel)",
   "language": "python",
   "name": "python3"
  },
  "language_info": {
   "codemirror_mode": {
    "name": "ipython",
    "version": 3
   },
   "file_extension": ".py",
   "mimetype": "text/x-python",
   "name": "python",
   "nbconvert_exporter": "python",
   "pygments_lexer": "ipython3",
   "version": "3.9.7"
  }
 },
 "nbformat": 4,
 "nbformat_minor": 5
}
