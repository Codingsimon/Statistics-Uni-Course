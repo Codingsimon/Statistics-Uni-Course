{
 "cells": [
  {
   "cell_type": "markdown",
   "id": "19b7c96b-468e-42f4-a10f-f5210feb5d73",
   "metadata": {},
   "source": [
    "### Unverbundener Zweistichproben-t-Test   \n",
    "Hypothesen:   \n",
    "H0 : μX = μY   \n",
    "H1 : μX ≠ μY   \n",
    "\n",
    "Testalgorithmus:\n",
    "T(x, y) = (x̄ − ȳ) / sp * sqrt( (n*m)/(n+m) )\n",
    "\n",
    "| T(x, y) | > tn+m−2,1−α/2 → H0 wird abgelehnt  \n",
    "| T(x, y) | ≤ tn+m−2,1−α/2 → H0 kann nicht abgelehnt werden  "
   ]
  },
  {
   "cell_type": "markdown",
   "id": "66b98282-d322-473f-b7af-a34333cf94aa",
   "metadata": {},
   "source": [
    "### Konfidenzintervall der Mittelwertsdifferenz Unverbundener Zweistichproben-t-Test\n",
    "Differenz der Mittelwerte +- kritischer Wert * Standardfehler   \n",
    "(x̄ − ȳ) +- tn+m−2,1−α/2 * sd * sqrt(1/n + 1/m)"
   ]
  },
  {
   "cell_type": "code",
   "execution_count": 30,
   "id": "901880e6-6229-4803-a84c-687675bc5e83",
   "metadata": {},
   "outputs": [
    {
     "name": "stdout",
     "output_type": "stream",
     "text": [
      "H0: µG = µS\n",
      "H1: µG != µS\n",
      "b Teststatistik:  -1.6100000000000012\n",
      "c kritischer Wert:  2.1\n",
      "d | -1.61 | <= 2.1  -> H0 kann nicht abgelehnt werden\n",
      "e [ -3.7100000000000013 ; 0.4899999999999989 ]\n"
     ]
    }
   ],
   "source": [
    "# 92 Unverbundener Zweistichproben-t-Test\n",
    "import math\n",
    "# a Hypothese\n",
    "print(\"H0: µG = µS\")\n",
    "print(\"H1: µG != µS\")\n",
    "\n",
    "# b Teststatistik\n",
    "n = 10\n",
    "m = 10\n",
    "varX = 4.25\n",
    "varY = 5.75\n",
    "xmean = 13.11\n",
    "ymean = 14.72\n",
    "alpha = 5 #%\n",
    "\n",
    "# gepoolte Varianzschätzer\n",
    "# var = ((n - 1)/(n + m - 2))*(sdX**2) + ((m - 1)/(n + m - 2))*(sdY**2)\n",
    "var = ((n - 1)/(n + m - 2))*(varX) + ((m - 1)/(n + m - 2))*(varY)\n",
    "sd = math.sqrt(var)\n",
    "\n",
    "# Testalgorithmus:\n",
    "Txy = ((xmean - ymean)/sd) * math.sqrt( (n*m)/(n+m) )\n",
    "print(\"b Teststatistik: \", Txy)\n",
    "\n",
    "# c kritischer Wert\n",
    "# tn+m−2, 1−α/2\n",
    "# t 10+10-2, 1-0.05/2 = t 18, 0.975\n",
    "#nachsehen bei F(z) = 0.975 und 18 Freiheitsgraden => 2.1\n",
    "print(\"c kritischer Wert: \", 2.1)\n",
    "\n",
    "# d Testentscheidung\n",
    "# | T(x, y) | ≤ tn+m−2,1−α/2\n",
    "print(\"d | -1.61 | <= 2.1  -> H0 kann nicht abgelehnt werden\")\n",
    "\n",
    "# e 95%-Konfidenzintervall\n",
    "# (x̄ − ȳ) +- tn+m−2,1−α/2 * sd * sqrt(1/n + 1/m)\n",
    "unten = (xmean - ymean) - 2.1 * sd * math.sqrt(1/n + 1/m)\n",
    "oben = (xmean - ymean) + 2.1 * sd * math.sqrt(1/n + 1/m)\n",
    "print(\"e [\",unten,\";\",oben,\"]\")"
   ]
  },
  {
   "cell_type": "code",
   "execution_count": 34,
   "id": "fa214afa-032a-4a05-bb2a-d26c799281a1",
   "metadata": {},
   "outputs": [
    {
     "name": "stdout",
     "output_type": "stream",
     "text": [
      "H0: µA = µB\n",
      "H1: µA != µB\n",
      "b Teststatistik:  1.0494287179875226\n",
      "c kritischer Wert:  2.18\n",
      "e | 0.297 | ≤ 2.18 → H0 kann nicht abgelehnt werden\n",
      "e [ -2.1546414018106175 ; 6.1546414018106175 ]\n"
     ]
    }
   ],
   "source": [
    "# 93 Unverbundener Zweistichproben-t-Test; wahre Varianz unbekannt; \n",
    "# a Hypothese\n",
    "print(\"H0: µA = µB\")\n",
    "print(\"H1: µA != µB\")\n",
    "\n",
    "# b Teststatistik\n",
    "n = 8\n",
    "m = 6\n",
    "sdX = 3.74\n",
    "sdY = 3.21\n",
    "xmean = 8\n",
    "ymean = 6\n",
    "alpha = 5 #%\n",
    "\n",
    "# gepoolte Varianzschätzer\n",
    "# var = ((n - 1)/(n + m - 2))*(sdX**2) + ((m - 1)/(n + m - 2))*(sdY**2)\n",
    "var = ((n - 1)/(n + m - 2))*(sdX**2) + ((m - 1)/(n + m - 2))*(sdY**2)\n",
    "sd = math.sqrt(var)\n",
    "\n",
    "# Testalgorithmus:\n",
    "Txy = ((xmean - ymean)/sd) * math.sqrt( (n*m)/(n+m) )\n",
    "print(\"b Teststatistik: \", Txy)\n",
    "\n",
    "# c kritischer Wert\n",
    "# tn+m−2, 1−α/2\n",
    "# t8+6-2, 1-0.05/2 = t 12, 0.975\n",
    "#nachsehen bei F(z) = 0.975 und 12 Freiheitsgraden => 2.18\n",
    "print(\"c kritischer Wert: \", 2.18)\n",
    "\n",
    "# d Testentscheidung\n",
    "# | T(x, y) | ≤ tn+m−2,1−α/2\n",
    "print(\"e | 0.297 | ≤ 2.18 → H0 kann nicht abgelehnt werden\")\n",
    "\n",
    "# e 95%-Konfidenzintervall\n",
    "# (x̄ − ȳ) +- tn+m−2,1−α/2 * sd * sqrt(1/n + 1/m)\n",
    "unten = (xmean - ymean) - 2.18 * sd * math.sqrt(1/n + 1/m)\n",
    "oben = (xmean - ymean) + 2.18 * sd * math.sqrt(1/n + 1/m)\n",
    "print(\"e [\",unten,\";\",oben,\"]\")"
   ]
  },
  {
   "cell_type": "code",
   "execution_count": 45,
   "id": "69d685f0-7402-4fa6-98a3-9e6bae348d35",
   "metadata": {},
   "outputs": [
    {
     "name": "stdout",
     "output_type": "stream",
     "text": [
      "a Mittelwerts:  1005.4285714285713\n",
      "b Varianz:  1005.4285714285713\n",
      "H0: µ = 1000g\n",
      "H1: µ != 1000g\n",
      "d Testastistik:  4.0157901461487535\n",
      "e kritscher Wert 2.45\n",
      "f | 4.01579 | > 2.45 → H0 wird abgelehnt\n"
     ]
    }
   ],
   "source": [
    "# 94 Einstichproben-t-Test; unbekannter Erwartungswert µ der Grundgesamtheit; Varianz σ² der Grundgesamtheit nicht bekannt; \n",
    "# a Punktschätzer Mittelwert x̄ = 1/n * (x1 + x2 ... xn)\n",
    "mean = 1/7 * (1007 + 1004 + 1010 + 1008 + 998 + 1005 + 1006)\n",
    "print(\"a Mittelwerts: \", mean)\n",
    "\n",
    "# b Punktschätzer varianz = 1/(n-1) * ( (x1-mean)**2 + ... (xn-mean)**2 )\n",
    "var = 1/(7-1) * ( (1007-mean)**2 + (1004-mean)**2 + (1010-mean)**2 + (1008-mean)**2 + (998-mean)**2 + (1005-mean)**2 + (1006-mean)**2 ) \n",
    "sd = math.sqrt(var)\n",
    "print(\"b Varianz: \", mean)\n",
    "\n",
    "# c Hypothese:\n",
    "print(\"H0: µ = 1000g\")\n",
    "print(\"H1: µ != 1000g\")\n",
    "\n",
    "# d Teststatistik\n",
    "# T(x) = (x̄− μ0)/s * sqrt(n)\n",
    "Tx = (mean - 1000)/sd * math.sqrt(n)\n",
    "print(\"d Testastistik: \", Tx)\n",
    "\n",
    "# e kritischer Wert\n",
    "alpha = 0.05 #%\n",
    "#tn−1, 1−α/2 = t   tn = Grundges\n",
    "#t 7-1, 1-0.05/2 = t 6, 0.975\n",
    "#nachsehen bei F(z) = 0.975 und 6 Freiheitsgraden => 2.45\n",
    "print(\"e kritscher Wert\", 2.45)\n",
    "\n",
    "# f Testentscheidung\n",
    "# | T(x) | > tn−1,1−α/2\n",
    "print(\"f | 4.01579 | > 2.45 → H0 wird abgelehnt\")"
   ]
  },
  {
   "cell_type": "markdown",
   "id": "12ef1937-595a-429b-8505-b1d6068065e9",
   "metadata": {
    "tags": []
   },
   "source": [
    "### Standardnormalverteilung Standardisierungsformel:   \n",
    "F(x) = Φ( (x - μ)/σ)"
   ]
  },
  {
   "cell_type": "code",
   "execution_count": 48,
   "id": "20786c80-3279-432e-95cc-ee1e51a1373c",
   "metadata": {},
   "outputs": [
    {
     "name": "stdout",
     "output_type": "stream",
     "text": [
      "2200 Haushalte\n"
     ]
    }
   ],
   "source": [
    "# 95\n",
    "# x = ?\n",
    "mu = 2200\n",
    "s2 = 1000\n",
    "\n",
    "# Φ( (x - 2200)/1000 ) = 0.5\n",
    "# Wert bei 50% bei Spalte z(Φ) ablesen => 0.000\n",
    "# (x - 2200)/1000 = 0.000\n",
    "# x = 0.000 * 1000 + 2200\n",
    "# x = 2200\n",
    "print(\"2200 Haushalte\")"
   ]
  },
  {
   "cell_type": "code",
   "execution_count": null,
   "id": "add4a9a7-8aa2-4d9b-90a0-8f16cb33e463",
   "metadata": {},
   "outputs": [],
   "source": []
  }
 ],
 "metadata": {
  "kernelspec": {
   "display_name": "Python 3 (ipykernel)",
   "language": "python",
   "name": "python3"
  },
  "language_info": {
   "codemirror_mode": {
    "name": "ipython",
    "version": 3
   },
   "file_extension": ".py",
   "mimetype": "text/x-python",
   "name": "python",
   "nbconvert_exporter": "python",
   "pygments_lexer": "ipython3",
   "version": "3.9.7"
  }
 },
 "nbformat": 4,
 "nbformat_minor": 5
}
