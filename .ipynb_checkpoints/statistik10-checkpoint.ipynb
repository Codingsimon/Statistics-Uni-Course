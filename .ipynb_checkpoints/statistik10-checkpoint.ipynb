{
 "cells": [
  {
   "cell_type": "code",
   "execution_count": 7,
   "id": "e4eede46-39ef-459d-bff8-561410f263a5",
   "metadata": {},
   "outputs": [
    {
     "name": "stdout",
     "output_type": "stream",
     "text": [
      "[ 47.036194823103784 ; 50.36380517689622 ]\n"
     ]
    }
   ],
   "source": [
    "# 78 95%-Konfidenzintervall\n",
    "mean = (46 + 47 + 49 + 46 + 48 + 51 + 49 + 51 + 53 + 47)/10 # Empierischer Mittelwert\n",
    "\n",
    "# ((x1 - mean)**2 + (x2 - mean)**2 + (x3 - mean)**2) / (Anz_Messwerte - 1)  empirische Varianz\n",
    "Emp_Varianz = ((46 - mean)**2 + (47 - mean)**2 + (49 - mean)**2 + (46 - mean)**2 + (48 - mean)**2 + (51 - mean)**2 + (49 - mean)**2 + (51 - mean)**2 + (53 - mean)**2 + (47 - mean)**2)/(10-1)\n",
    "sd = math.sqrt(Emp_Varianz)\n",
    "\n",
    "#alpha = 0.05; 1 - alpha/2; 1 - 0.025 = 0.975\n",
    "#bei F(z) = 0.975 und 10 Freiheitsgraden ablesen => 2.23\n",
    "\n",
    "# Intervallgrenzen =  μ +- F(z) * (sd/sqrt(Anz Stichprobe))\n",
    "oben = mean + 2.23 * (sd/math.sqrt(10))\n",
    "unten = mean - 2.23 * (sd/math.sqrt(10))\n",
    "print(\"[\",unten,\";\",oben,\"]\")"
   ]
  },
  {
   "cell_type": "markdown",
   "id": "0516d359-9d64-4ea5-a6e4-9d536b312d4c",
   "metadata": {},
   "source": [
    "Konfidenzintervall für einen Anteil   \n",
    "$p - (u1-α/2) * \\sqrt{{p ⋅ (1 − p)}\\over{n}}$   \n",
    "$p=k/n$   \n",
    "$α=1-Konfidenzintervall$    \n",
    "$(u1-α/2) = (1-α/2)$"
   ]
  },
  {
   "cell_type": "code",
   "execution_count": 3,
   "id": "1f4c4f66-5df0-41cb-b563-d30fb20526fd",
   "metadata": {},
   "outputs": [
    {
     "name": "stdout",
     "output_type": "stream",
     "text": [
      "[ 0.35384863956291857 ; 0.3808452379881019 ]\n"
     ]
    }
   ],
   "source": [
    "import math\n",
    "# 79 a 95% Konfidenzintervall für einen Anteil/Stichprobe\n",
    "n = 4900\n",
    "k = 1800\n",
    "p = k/n #günstig/möglich = Erwarungswert\n",
    "# alpha = 1 - Konfidenzintervall\n",
    "alpha = 1 - 0.95 # 0.05\n",
    "\n",
    "#tn−1, 1−α/2 = t   tn = Grundges\n",
    "#4900 - 1, 1 - 0.05/2\n",
    "#t 4899, 0.975 => t ∞, 0.975 # ∞ weil n > 200\n",
    "# Ablesen bei F(z) = 0.975 und ∞ Freiheitsgraden => 1.96\n",
    "\n",
    "# Intervallgrenzen =  p +- F(z) * sqrt( (p*(1-p)) /Anz Werte ) => Tabellenwert in (1−α/2) einsetzen\n",
    "oben = p + 1.96 * math.sqrt( (p*(1-p)) /n )\n",
    "unten = p - 1.96 * math.sqrt( (p*(1-p)) /n )\n",
    "print(\"[\",unten,\";\",oben,\"]\")"
   ]
  },
  {
   "cell_type": "code",
   "execution_count": 4,
   "id": "ad6262fe-d5f8-47cc-a591-1c455f887547",
   "metadata": {},
   "outputs": [
    {
     "name": "stdout",
     "output_type": "stream",
     "text": [
      "[ 0.29561311574627774 ; 0.3710535509203889 ]\n"
     ]
    }
   ],
   "source": [
    "# 79 b 95% Konfidenzintervall für einen Anteil/Stichprobe\n",
    "n = 600\n",
    "k = 200\n",
    "p = k/n #günstig/möglich = Erwarungswert\n",
    "\n",
    "# alpha = 1 - Konfidenzintervall\n",
    "alpha = 1 - 0.95 # 0.05\n",
    "\n",
    "#tn−1, 1−α/2 = t   tn = Grundges\n",
    "#600-1, 1-alpha/2 = t ∞, 0.975\n",
    "# Nachsehen bei F(z) = 0.975 und ∞ Freiheitsgraden da 599 > als 200 => 1.96\n",
    "\n",
    "# Intervallgrenzen =  p +- F(z) * sqrt( (p*(1-p)) /Anz Werte ) => Tabellenwert in (1−α/2) einsetzen\n",
    "oben = p + 1.96 * math.sqrt( (p*(1-p)) /n )\n",
    "unten = p - 1.96 * math.sqrt( (p*(1-p)) /n )\n",
    "print(\"[\",unten,\";\",oben,\"]\")"
   ]
  },
  {
   "cell_type": "code",
   "execution_count": 5,
   "id": "deb42a92-843d-4d84-8461-16dab8ce959d",
   "metadata": {},
   "outputs": [
    {
     "name": "stdout",
     "output_type": "stream",
     "text": [
      "Gesamterlös:  227.4\n"
     ]
    }
   ],
   "source": [
    "# 80\n",
    "n = 960\n",
    "mean = 63\n",
    "varianz = 25\n",
    "sd = math.sqrt(25) #5\n",
    "\n",
    "# S: G < 55g für 0,15€ | M: 55g ≤ G < 65g für 0,20€ | L: 65g ≤ G < 75g für 0,25€ | XL: G ≥ 75g für 0,30€\n",
    "# z(Φ) = Φ((x - mean)/sd)\n",
    "#Bei z(Φ) Wert aus % Spalte auslesen\n",
    "\n",
    "# P(X < 55) = Φ((55 - 63)/5) = Φ(-1.6) => 0.05\n",
    "# P(55 ≤ X < 65) = Φ((65 - 63)/5) - 0.05 = Φ(0.4) - 0.05 = 0.66 - 0.05 => 0.61\n",
    "# P(65 ≤ X < 75) = Φ((75 - 63)/5) - 0.61 = Φ(2.4) - 0.61 = 0.992 - 0.61 => 0.382\n",
    "# P(X ≥ 75) = 1 - P(X < 75) = 1 - Φ((75 - 63)/5) = 1 - Φ(2.4) = 1 - 0.992 => 0.008\n",
    "\n",
    "Gesamterlös = (0.05*0.15 + 0.61*0.2 + 0.382*0.25 + 0.008*0.3)*1000\n",
    "print(\"Gesamterlös: \",Gesamterlös)"
   ]
  },
  {
   "cell_type": "code",
   "execution_count": 6,
   "id": "55af6d3b-202d-4501-a8b1-dbd25efb8deb",
   "metadata": {},
   "outputs": [],
   "source": [
    "# 81 mean = ?\n",
    "sd = 16\n",
    "#P(X > 250) = 1% > 1 - P(X < 250)\n",
    "\n",
    "# z(Φ) = Φ((x - mean)/sd)\n",
    "# P(X > 250) = 1 - Φ((250 - mean)/16) = 1%\n",
    "# Wert 1% aus Spalte z(Φ) ablesen => -2.326\n",
    "# 1 - (250 - mean)/16 = -2.326\n",
    "# (250 - mean)/16 = 3.326\n",
    "# 250 - mean = 53.216\n",
    "# 196.784 = mean"
   ]
  },
  {
   "cell_type": "code",
   "execution_count": 43,
   "id": "846ebdfb-f992-4f13-83a7-4276bb3b2e24",
   "metadata": {},
   "outputs": [],
   "source": [
    "# 82 Konfidenzintervall P(29% < X < 31%)\n",
    "n = 600\n",
    "p = 1 - 0.3 # Erwarungswert\n",
    "# p = k/n #günstig/möglich = Erwarungswert\n",
    "# 0.7 = k/600 => k = 420\n",
    "\n",
    "# Intervallgrenzen =  p +- (1−α/2) * sqrt( (p*(1-p)) /Anz Werte ) => Tabellenwert in (1−α/2) einsetzen\n",
    "#oben = 0.29\n",
    "#unten = 0.31\n",
    "\n",
    "# 0.29 =  0.7 - (1−α/2) * sqrt( (0.7*(1-0.7)) /600 )\n",
    "# 0.29 =  0.7 - (1−α/2) * sqrt( 0.00035 )\n",
    "# 0.29 =  0.7 - (1−α/2) * 0.0187082869\n",
    "# 0.29 - 0.7 = - (1−α/2) * 0.0187082869\n",
    "# -0.41/ 0.0187082869 = - (1−α/2)\n",
    "# 21.91542187649 = (1−α/2)"
   ]
  },
  {
   "cell_type": "code",
   "execution_count": 23,
   "id": "7d7d32a7-cb83-48aa-9e9e-c28a97c232af",
   "metadata": {},
   "outputs": [
    {
     "name": "stdout",
     "output_type": "stream",
     "text": [
      "a [ 0.6408559138074291 ; 0.699144086192571 ]\n",
      "b [ 0.6287840380434959 ; 0.7112159619565042 ]\n"
     ]
    }
   ],
   "source": [
    "# 83 Studentverteilung Konfidentzintervall für Anteil\n",
    "n = 1000\n",
    "p = 0.67\n",
    "\n",
    "#tn−1, 1−α/2 = t   tn = Grundges\n",
    "#t 1000 - 1, 1 - alpha/2 = t 999, 0.975 = t ∞, 0.975 \n",
    "#nachsehen bei F(z) = 0.975 und ∞ Freiheitsgraden => 1.96\n",
    "\n",
    "# Intervallgrenzen =  p +- (1−α/2) * sqrt( (p*(1-p)) /Anz Werte ) => Tabellenwert in (1−α/2) einsetzen\n",
    "oben =  p + 1.96 * math.sqrt( (p*(1-p)) /n )\n",
    "unten =  p - 1.96 * math.sqrt( (p*(1-p)) /n )\n",
    "\n",
    "print(\"a [\",unten,\";\",oben,\"]\")\n",
    "\n",
    "# b\n",
    "n = 500\n",
    "\n",
    "oben =  p + 1.96 * math.sqrt( (p*(1-p)) /n )\n",
    "unten =  p - 1.96 * math.sqrt( (p*(1-p)) /n )\n",
    "\n",
    "print(\"b [\",unten,\";\",oben,\"]\")\n",
    "\n",
    "# c\n",
    "n = 5\n",
    "# Voraussetzung np(1 − p) ≥ 9\n",
    "# np(1 − 0.67) ≥ 9\n",
    "# 0.3299 ≥ 9 Voraussetzung nicht erfüllt"
   ]
  },
  {
   "cell_type": "code",
   "execution_count": 42,
   "id": "77652e7f-0b53-4fc4-8e6b-c9cc061cf076",
   "metadata": {},
   "outputs": [
    {
     "name": "stdout",
     "output_type": "stream",
     "text": [
      "Mindestmenge Vorrätig halten:  436.64\n"
     ]
    }
   ],
   "source": [
    "# 84 x = ?; Normalverteilung Formel X ∼ N(μ, σ )\n",
    "mean = 300\n",
    "sd = math.sqrt(6900) # 83.0662\n",
    "\n",
    "# P(X < 95%)\n",
    "# z(Φ) = Φ((x - mean)/sd)\n",
    "# 0.95 = Φ((x - 300)/83.0662)\n",
    "# 1.645 = (x - 300)/83.0662\n",
    "# 136.643899 = (x - 300)\n",
    "# 436.643899 = x\n",
    "print(\"Mindestmenge Vorrätig halten: \", 436.64)"
   ]
  },
  {
   "cell_type": "code",
   "execution_count": 57,
   "id": "53aa82a5-5a6d-4d00-af89-78982eae4e0e",
   "metadata": {},
   "outputs": [
    {
     "data": {
      "text/plain": [
       "0.025788541282312546"
      ]
     },
     "execution_count": 57,
     "metadata": {},
     "output_type": "execute_result"
    }
   ],
   "source": [
    "# 85 (binomialverteilte) Zufallsvariable X\n",
    "from scipy.stats import binom\n",
    "n = 100 # Versuche\n",
    "p = 0.07 # Warscheinlichkeit\n",
    "# x günstige Ergebnisse\n",
    "\n",
    "# binomial probability binomPdf bei höchstens 2\n",
    "#P(X ≤ 2) = P(X = 0) + P(X = 1) + P(X = 2)\n",
    "binom.pmf(0, n, p) + binom.pmf(1, n, p) + binom.pmf(2, n, p) "
   ]
  },
  {
   "cell_type": "markdown",
   "id": "68d53723-fa11-4678-b6f1-2e71879f4bfd",
   "metadata": {},
   "source": []
  }
 ],
 "metadata": {
  "kernelspec": {
   "display_name": "Python 3 (ipykernel)",
   "language": "python",
   "name": "python3"
  },
  "language_info": {
   "codemirror_mode": {
    "name": "ipython",
    "version": 3
   },
   "file_extension": ".py",
   "mimetype": "text/x-python",
   "name": "python",
   "nbconvert_exporter": "python",
   "pygments_lexer": "ipython3",
   "version": "3.9.7"
  }
 },
 "nbformat": 4,
 "nbformat_minor": 5
}
