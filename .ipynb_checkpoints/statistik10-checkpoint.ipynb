{
 "cells": [
  {
   "cell_type": "code",
   "execution_count": 7,
   "id": "e4eede46-39ef-459d-bff8-561410f263a5",
   "metadata": {},
   "outputs": [
    {
     "name": "stdout",
     "output_type": "stream",
     "text": [
      "[ 47.036194823103784 ; 50.36380517689622 ]\n"
     ]
    }
   ],
   "source": [
    "# 78 95%-Konfidenzintervall\n",
    "mean = (46 + 47 + 49 + 46 + 48 + 51 + 49 + 51 + 53 + 47)/10 # Empierischer Mittelwert\n",
    "\n",
    "# ((x1 - mean)**2 + (x2 - mean)**2 + (x3 - mean)**2) / (Anz_Messwerte - 1)  empirische Varianz\n",
    "Emp_Varianz = ((46 - mean)**2 + (47 - mean)**2 + (49 - mean)**2 + (46 - mean)**2 + (48 - mean)**2 + (51 - mean)**2 + (49 - mean)**2 + (51 - mean)**2 + (53 - mean)**2 + (47 - mean)**2)/(10-1)\n",
    "sd = math.sqrt(Emp_Varianz)\n",
    "\n",
    "#alpha = 0.05; 1 - alpha/2; 1 - 0.025 = 0.975\n",
    "#bei F(z) = 0.975 und 10 Freiheitsgraden ablesen => 2.23\n",
    "\n",
    "# Intervallgrenzen =  μ +- F(z) * (sd/sqrt(Anz Stichprobe))\n",
    "oben = mean + 2.23 * (sd/math.sqrt(10))\n",
    "unten = mean - 2.23 * (sd/math.sqrt(10))\n",
    "print(\"[\",unten,\";\",oben,\"]\")"
   ]
  },
  {
   "cell_type": "code",
   "execution_count": null,
   "id": "1f4c4f66-5df0-41cb-b563-d30fb20526fd",
   "metadata": {},
   "outputs": [],
   "source": [
    "# 79"
   ]
  }
 ],
 "metadata": {
  "kernelspec": {
   "display_name": "Python 3 (ipykernel)",
   "language": "python",
   "name": "python3"
  },
  "language_info": {
   "codemirror_mode": {
    "name": "ipython",
    "version": 3
   },
   "file_extension": ".py",
   "mimetype": "text/x-python",
   "name": "python",
   "nbconvert_exporter": "python",
   "pygments_lexer": "ipython3",
   "version": "3.9.7"
  }
 },
 "nbformat": 4,
 "nbformat_minor": 5
}
